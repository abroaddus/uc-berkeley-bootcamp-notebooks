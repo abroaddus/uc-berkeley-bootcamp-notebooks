{
  "cells": [
    {
      "cell_type": "markdown",
      "metadata": {
        "id": "uT2dIQFVBo0Z"
      },
      "source": [
        "### Try-it 8.1: The \"Best\" Model\n",
        "\n",
        "This module was all about regression and using Python's scikitlearn library to build regression models.  Below, a dataset related to real estate prices in California is given. While many of the assignments you have built and evaluated different models, it is important to spend some time interpreting the resulting \"best\" model.  \n",
        "\n",
        "\n",
        "Your goal is to build a regression model to predict the price of a house in California.  After doing so, you are to *interpret* the model.  There are many strategies for doing so, including some built in methods from scikitlearn.  One example is `permutation_importance`.  Permutation feature importance is a strategy for inspecting a model and its features importance.  \n",
        "\n",
        "Take a look at the user guide for `permutation_importance` [here](https://scikit-learn.org/stable/modules/permutation_importance.html).  Use  the `sklearn.inspection` modules implementation of `permutation_importance` to investigate the importance of different features to your regression models.  Share these results on the discussion board."
      ]
    },
    {
      "cell_type": "code",
      "execution_count": null,
      "metadata": {
        "id": "O2G_-aYsBo0e"
      },
      "outputs": [],
      "source": [
        "import pandas as pd\n",
        "from sklearn.inspection import permutation_importance\n",
        "from sklearn.pipeline import Pipeline\n",
        "from sklearn.compose import make_column_transformer\n",
        "from sklearn.preprocessing import OneHotEncoder, PolynomialFeatures, StandardScaler\n",
        "from sklearn.linear_model import LinearRegression\n",
        "from sklearn.model_selection import train_test_split\n",
        "from sklearn.metrics import mean_squared_error"
      ]
    },
    {
      "cell_type": "code",
      "execution_count": null,
      "metadata": {
        "id": "E3GNh0wtBo0f"
      },
      "outputs": [],
      "source": [
        "import numpy as np\n",
        "import matplotlib.pyplot as plt"
      ]
    },
    {
      "cell_type": "code",
      "source": [
        "from google.colab import drive\n",
        "drive.mount('/content/drive')\n"
      ],
      "metadata": {
        "colab": {
          "base_uri": "https://localhost:8080/"
        },
        "id": "iGpeY4shbG6M",
        "outputId": "b414a904-c3c2-4de6-b98c-7dd5a6d24103"
      },
      "execution_count": null,
      "outputs": [
        {
          "output_type": "stream",
          "name": "stdout",
          "text": [
            "Mounted at /content/drive\n"
          ]
        }
      ]
    },
    {
      "cell_type": "code",
      "execution_count": null,
      "metadata": {
        "id": "9hMgIio3Bo0g"
      },
      "outputs": [],
      "source": [
        "cali = pd.read_csv('/content/drive/MyDrive/Data Sci Course/Module8/housing.csv')"
      ]
    },
    {
      "cell_type": "code",
      "execution_count": null,
      "metadata": {
        "colab": {
          "base_uri": "https://localhost:8080/",
          "height": 226
        },
        "id": "T05RAx8CBo0g",
        "outputId": "2f075a7e-5d46-4439-b4b0-c842bad4e910"
      },
      "outputs": [
        {
          "output_type": "execute_result",
          "data": {
            "text/plain": [
              "   longitude  latitude  housing_median_age  total_rooms  total_bedrooms  \\\n",
              "0    -122.23     37.88                41.0        880.0           129.0   \n",
              "1    -122.22     37.86                21.0       7099.0          1106.0   \n",
              "2    -122.24     37.85                52.0       1467.0           190.0   \n",
              "3    -122.25     37.85                52.0       1274.0           235.0   \n",
              "4    -122.25     37.85                52.0       1627.0           280.0   \n",
              "\n",
              "   population  households  median_income  median_house_value ocean_proximity  \n",
              "0       322.0       126.0         8.3252            452600.0        NEAR BAY  \n",
              "1      2401.0      1138.0         8.3014            358500.0        NEAR BAY  \n",
              "2       496.0       177.0         7.2574            352100.0        NEAR BAY  \n",
              "3       558.0       219.0         5.6431            341300.0        NEAR BAY  \n",
              "4       565.0       259.0         3.8462            342200.0        NEAR BAY  "
            ],
            "text/html": [
              "\n",
              "  <div id=\"df-9a89e79e-8c67-4c91-9d35-c625b55ce32d\" class=\"colab-df-container\">\n",
              "    <div>\n",
              "<style scoped>\n",
              "    .dataframe tbody tr th:only-of-type {\n",
              "        vertical-align: middle;\n",
              "    }\n",
              "\n",
              "    .dataframe tbody tr th {\n",
              "        vertical-align: top;\n",
              "    }\n",
              "\n",
              "    .dataframe thead th {\n",
              "        text-align: right;\n",
              "    }\n",
              "</style>\n",
              "<table border=\"1\" class=\"dataframe\">\n",
              "  <thead>\n",
              "    <tr style=\"text-align: right;\">\n",
              "      <th></th>\n",
              "      <th>longitude</th>\n",
              "      <th>latitude</th>\n",
              "      <th>housing_median_age</th>\n",
              "      <th>total_rooms</th>\n",
              "      <th>total_bedrooms</th>\n",
              "      <th>population</th>\n",
              "      <th>households</th>\n",
              "      <th>median_income</th>\n",
              "      <th>median_house_value</th>\n",
              "      <th>ocean_proximity</th>\n",
              "    </tr>\n",
              "  </thead>\n",
              "  <tbody>\n",
              "    <tr>\n",
              "      <th>0</th>\n",
              "      <td>-122.23</td>\n",
              "      <td>37.88</td>\n",
              "      <td>41.0</td>\n",
              "      <td>880.0</td>\n",
              "      <td>129.0</td>\n",
              "      <td>322.0</td>\n",
              "      <td>126.0</td>\n",
              "      <td>8.3252</td>\n",
              "      <td>452600.0</td>\n",
              "      <td>NEAR BAY</td>\n",
              "    </tr>\n",
              "    <tr>\n",
              "      <th>1</th>\n",
              "      <td>-122.22</td>\n",
              "      <td>37.86</td>\n",
              "      <td>21.0</td>\n",
              "      <td>7099.0</td>\n",
              "      <td>1106.0</td>\n",
              "      <td>2401.0</td>\n",
              "      <td>1138.0</td>\n",
              "      <td>8.3014</td>\n",
              "      <td>358500.0</td>\n",
              "      <td>NEAR BAY</td>\n",
              "    </tr>\n",
              "    <tr>\n",
              "      <th>2</th>\n",
              "      <td>-122.24</td>\n",
              "      <td>37.85</td>\n",
              "      <td>52.0</td>\n",
              "      <td>1467.0</td>\n",
              "      <td>190.0</td>\n",
              "      <td>496.0</td>\n",
              "      <td>177.0</td>\n",
              "      <td>7.2574</td>\n",
              "      <td>352100.0</td>\n",
              "      <td>NEAR BAY</td>\n",
              "    </tr>\n",
              "    <tr>\n",
              "      <th>3</th>\n",
              "      <td>-122.25</td>\n",
              "      <td>37.85</td>\n",
              "      <td>52.0</td>\n",
              "      <td>1274.0</td>\n",
              "      <td>235.0</td>\n",
              "      <td>558.0</td>\n",
              "      <td>219.0</td>\n",
              "      <td>5.6431</td>\n",
              "      <td>341300.0</td>\n",
              "      <td>NEAR BAY</td>\n",
              "    </tr>\n",
              "    <tr>\n",
              "      <th>4</th>\n",
              "      <td>-122.25</td>\n",
              "      <td>37.85</td>\n",
              "      <td>52.0</td>\n",
              "      <td>1627.0</td>\n",
              "      <td>280.0</td>\n",
              "      <td>565.0</td>\n",
              "      <td>259.0</td>\n",
              "      <td>3.8462</td>\n",
              "      <td>342200.0</td>\n",
              "      <td>NEAR BAY</td>\n",
              "    </tr>\n",
              "  </tbody>\n",
              "</table>\n",
              "</div>\n",
              "    <div class=\"colab-df-buttons\">\n",
              "\n",
              "  <div class=\"colab-df-container\">\n",
              "    <button class=\"colab-df-convert\" onclick=\"convertToInteractive('df-9a89e79e-8c67-4c91-9d35-c625b55ce32d')\"\n",
              "            title=\"Convert this dataframe to an interactive table.\"\n",
              "            style=\"display:none;\">\n",
              "\n",
              "  <svg xmlns=\"http://www.w3.org/2000/svg\" height=\"24px\" viewBox=\"0 -960 960 960\">\n",
              "    <path d=\"M120-120v-720h720v720H120Zm60-500h600v-160H180v160Zm220 220h160v-160H400v160Zm0 220h160v-160H400v160ZM180-400h160v-160H180v160Zm440 0h160v-160H620v160ZM180-180h160v-160H180v160Zm440 0h160v-160H620v160Z\"/>\n",
              "  </svg>\n",
              "    </button>\n",
              "\n",
              "  <style>\n",
              "    .colab-df-container {\n",
              "      display:flex;\n",
              "      gap: 12px;\n",
              "    }\n",
              "\n",
              "    .colab-df-convert {\n",
              "      background-color: #E8F0FE;\n",
              "      border: none;\n",
              "      border-radius: 50%;\n",
              "      cursor: pointer;\n",
              "      display: none;\n",
              "      fill: #1967D2;\n",
              "      height: 32px;\n",
              "      padding: 0 0 0 0;\n",
              "      width: 32px;\n",
              "    }\n",
              "\n",
              "    .colab-df-convert:hover {\n",
              "      background-color: #E2EBFA;\n",
              "      box-shadow: 0px 1px 2px rgba(60, 64, 67, 0.3), 0px 1px 3px 1px rgba(60, 64, 67, 0.15);\n",
              "      fill: #174EA6;\n",
              "    }\n",
              "\n",
              "    .colab-df-buttons div {\n",
              "      margin-bottom: 4px;\n",
              "    }\n",
              "\n",
              "    [theme=dark] .colab-df-convert {\n",
              "      background-color: #3B4455;\n",
              "      fill: #D2E3FC;\n",
              "    }\n",
              "\n",
              "    [theme=dark] .colab-df-convert:hover {\n",
              "      background-color: #434B5C;\n",
              "      box-shadow: 0px 1px 3px 1px rgba(0, 0, 0, 0.15);\n",
              "      filter: drop-shadow(0px 1px 2px rgba(0, 0, 0, 0.3));\n",
              "      fill: #FFFFFF;\n",
              "    }\n",
              "  </style>\n",
              "\n",
              "    <script>\n",
              "      const buttonEl =\n",
              "        document.querySelector('#df-9a89e79e-8c67-4c91-9d35-c625b55ce32d button.colab-df-convert');\n",
              "      buttonEl.style.display =\n",
              "        google.colab.kernel.accessAllowed ? 'block' : 'none';\n",
              "\n",
              "      async function convertToInteractive(key) {\n",
              "        const element = document.querySelector('#df-9a89e79e-8c67-4c91-9d35-c625b55ce32d');\n",
              "        const dataTable =\n",
              "          await google.colab.kernel.invokeFunction('convertToInteractive',\n",
              "                                                    [key], {});\n",
              "        if (!dataTable) return;\n",
              "\n",
              "        const docLinkHtml = 'Like what you see? Visit the ' +\n",
              "          '<a target=\"_blank\" href=https://colab.research.google.com/notebooks/data_table.ipynb>data table notebook</a>'\n",
              "          + ' to learn more about interactive tables.';\n",
              "        element.innerHTML = '';\n",
              "        dataTable['output_type'] = 'display_data';\n",
              "        await google.colab.output.renderOutput(dataTable, element);\n",
              "        const docLink = document.createElement('div');\n",
              "        docLink.innerHTML = docLinkHtml;\n",
              "        element.appendChild(docLink);\n",
              "      }\n",
              "    </script>\n",
              "  </div>\n",
              "\n",
              "\n",
              "<div id=\"df-f35ced8b-0945-46eb-b5c6-a7361f738883\">\n",
              "  <button class=\"colab-df-quickchart\" onclick=\"quickchart('df-f35ced8b-0945-46eb-b5c6-a7361f738883')\"\n",
              "            title=\"Suggest charts\"\n",
              "            style=\"display:none;\">\n",
              "\n",
              "<svg xmlns=\"http://www.w3.org/2000/svg\" height=\"24px\"viewBox=\"0 0 24 24\"\n",
              "     width=\"24px\">\n",
              "    <g>\n",
              "        <path d=\"M19 3H5c-1.1 0-2 .9-2 2v14c0 1.1.9 2 2 2h14c1.1 0 2-.9 2-2V5c0-1.1-.9-2-2-2zM9 17H7v-7h2v7zm4 0h-2V7h2v10zm4 0h-2v-4h2v4z\"/>\n",
              "    </g>\n",
              "</svg>\n",
              "  </button>\n",
              "\n",
              "<style>\n",
              "  .colab-df-quickchart {\n",
              "      --bg-color: #E8F0FE;\n",
              "      --fill-color: #1967D2;\n",
              "      --hover-bg-color: #E2EBFA;\n",
              "      --hover-fill-color: #174EA6;\n",
              "      --disabled-fill-color: #AAA;\n",
              "      --disabled-bg-color: #DDD;\n",
              "  }\n",
              "\n",
              "  [theme=dark] .colab-df-quickchart {\n",
              "      --bg-color: #3B4455;\n",
              "      --fill-color: #D2E3FC;\n",
              "      --hover-bg-color: #434B5C;\n",
              "      --hover-fill-color: #FFFFFF;\n",
              "      --disabled-bg-color: #3B4455;\n",
              "      --disabled-fill-color: #666;\n",
              "  }\n",
              "\n",
              "  .colab-df-quickchart {\n",
              "    background-color: var(--bg-color);\n",
              "    border: none;\n",
              "    border-radius: 50%;\n",
              "    cursor: pointer;\n",
              "    display: none;\n",
              "    fill: var(--fill-color);\n",
              "    height: 32px;\n",
              "    padding: 0;\n",
              "    width: 32px;\n",
              "  }\n",
              "\n",
              "  .colab-df-quickchart:hover {\n",
              "    background-color: var(--hover-bg-color);\n",
              "    box-shadow: 0 1px 2px rgba(60, 64, 67, 0.3), 0 1px 3px 1px rgba(60, 64, 67, 0.15);\n",
              "    fill: var(--button-hover-fill-color);\n",
              "  }\n",
              "\n",
              "  .colab-df-quickchart-complete:disabled,\n",
              "  .colab-df-quickchart-complete:disabled:hover {\n",
              "    background-color: var(--disabled-bg-color);\n",
              "    fill: var(--disabled-fill-color);\n",
              "    box-shadow: none;\n",
              "  }\n",
              "\n",
              "  .colab-df-spinner {\n",
              "    border: 2px solid var(--fill-color);\n",
              "    border-color: transparent;\n",
              "    border-bottom-color: var(--fill-color);\n",
              "    animation:\n",
              "      spin 1s steps(1) infinite;\n",
              "  }\n",
              "\n",
              "  @keyframes spin {\n",
              "    0% {\n",
              "      border-color: transparent;\n",
              "      border-bottom-color: var(--fill-color);\n",
              "      border-left-color: var(--fill-color);\n",
              "    }\n",
              "    20% {\n",
              "      border-color: transparent;\n",
              "      border-left-color: var(--fill-color);\n",
              "      border-top-color: var(--fill-color);\n",
              "    }\n",
              "    30% {\n",
              "      border-color: transparent;\n",
              "      border-left-color: var(--fill-color);\n",
              "      border-top-color: var(--fill-color);\n",
              "      border-right-color: var(--fill-color);\n",
              "    }\n",
              "    40% {\n",
              "      border-color: transparent;\n",
              "      border-right-color: var(--fill-color);\n",
              "      border-top-color: var(--fill-color);\n",
              "    }\n",
              "    60% {\n",
              "      border-color: transparent;\n",
              "      border-right-color: var(--fill-color);\n",
              "    }\n",
              "    80% {\n",
              "      border-color: transparent;\n",
              "      border-right-color: var(--fill-color);\n",
              "      border-bottom-color: var(--fill-color);\n",
              "    }\n",
              "    90% {\n",
              "      border-color: transparent;\n",
              "      border-bottom-color: var(--fill-color);\n",
              "    }\n",
              "  }\n",
              "</style>\n",
              "\n",
              "  <script>\n",
              "    async function quickchart(key) {\n",
              "      const quickchartButtonEl =\n",
              "        document.querySelector('#' + key + ' button');\n",
              "      quickchartButtonEl.disabled = true;  // To prevent multiple clicks.\n",
              "      quickchartButtonEl.classList.add('colab-df-spinner');\n",
              "      try {\n",
              "        const charts = await google.colab.kernel.invokeFunction(\n",
              "            'suggestCharts', [key], {});\n",
              "      } catch (error) {\n",
              "        console.error('Error during call to suggestCharts:', error);\n",
              "      }\n",
              "      quickchartButtonEl.classList.remove('colab-df-spinner');\n",
              "      quickchartButtonEl.classList.add('colab-df-quickchart-complete');\n",
              "    }\n",
              "    (() => {\n",
              "      let quickchartButtonEl =\n",
              "        document.querySelector('#df-f35ced8b-0945-46eb-b5c6-a7361f738883 button');\n",
              "      quickchartButtonEl.style.display =\n",
              "        google.colab.kernel.accessAllowed ? 'block' : 'none';\n",
              "    })();\n",
              "  </script>\n",
              "</div>\n",
              "\n",
              "    </div>\n",
              "  </div>\n"
            ],
            "application/vnd.google.colaboratory.intrinsic+json": {
              "type": "dataframe",
              "variable_name": "cali",
              "summary": "{\n  \"name\": \"cali\",\n  \"rows\": 20640,\n  \"fields\": [\n    {\n      \"column\": \"longitude\",\n      \"properties\": {\n        \"dtype\": \"number\",\n        \"std\": 2.0035317235025882,\n        \"min\": -124.35,\n        \"max\": -114.31,\n        \"num_unique_values\": 844,\n        \"samples\": [\n          -118.63,\n          -119.86,\n          -121.26\n        ],\n        \"semantic_type\": \"\",\n        \"description\": \"\"\n      }\n    },\n    {\n      \"column\": \"latitude\",\n      \"properties\": {\n        \"dtype\": \"number\",\n        \"std\": 2.1359523974571153,\n        \"min\": 32.54,\n        \"max\": 41.95,\n        \"num_unique_values\": 862,\n        \"samples\": [\n          33.7,\n          34.41,\n          38.24\n        ],\n        \"semantic_type\": \"\",\n        \"description\": \"\"\n      }\n    },\n    {\n      \"column\": \"housing_median_age\",\n      \"properties\": {\n        \"dtype\": \"number\",\n        \"std\": 12.58555761211165,\n        \"min\": 1.0,\n        \"max\": 52.0,\n        \"num_unique_values\": 52,\n        \"samples\": [\n          35.0,\n          25.0,\n          7.0\n        ],\n        \"semantic_type\": \"\",\n        \"description\": \"\"\n      }\n    },\n    {\n      \"column\": \"total_rooms\",\n      \"properties\": {\n        \"dtype\": \"number\",\n        \"std\": 2181.615251582795,\n        \"min\": 2.0,\n        \"max\": 39320.0,\n        \"num_unique_values\": 5926,\n        \"samples\": [\n          699.0,\n          1544.0,\n          3966.0\n        ],\n        \"semantic_type\": \"\",\n        \"description\": \"\"\n      }\n    },\n    {\n      \"column\": \"total_bedrooms\",\n      \"properties\": {\n        \"dtype\": \"number\",\n        \"std\": 421.3850700740323,\n        \"min\": 1.0,\n        \"max\": 6445.0,\n        \"num_unique_values\": 1923,\n        \"samples\": [\n          1538.0,\n          1298.0,\n          1578.0\n        ],\n        \"semantic_type\": \"\",\n        \"description\": \"\"\n      }\n    },\n    {\n      \"column\": \"population\",\n      \"properties\": {\n        \"dtype\": \"number\",\n        \"std\": 1132.462121765341,\n        \"min\": 3.0,\n        \"max\": 35682.0,\n        \"num_unique_values\": 3888,\n        \"samples\": [\n          4169.0,\n          636.0,\n          3367.0\n        ],\n        \"semantic_type\": \"\",\n        \"description\": \"\"\n      }\n    },\n    {\n      \"column\": \"households\",\n      \"properties\": {\n        \"dtype\": \"number\",\n        \"std\": 382.32975283161073,\n        \"min\": 1.0,\n        \"max\": 6082.0,\n        \"num_unique_values\": 1815,\n        \"samples\": [\n          21.0,\n          750.0,\n          1447.0\n        ],\n        \"semantic_type\": \"\",\n        \"description\": \"\"\n      }\n    },\n    {\n      \"column\": \"median_income\",\n      \"properties\": {\n        \"dtype\": \"number\",\n        \"std\": 1.8998217179452688,\n        \"min\": 0.4999,\n        \"max\": 15.0001,\n        \"num_unique_values\": 12928,\n        \"samples\": [\n          5.0286,\n          2.0433,\n          6.1228\n        ],\n        \"semantic_type\": \"\",\n        \"description\": \"\"\n      }\n    },\n    {\n      \"column\": \"median_house_value\",\n      \"properties\": {\n        \"dtype\": \"number\",\n        \"std\": 115395.61587441387,\n        \"min\": 14999.0,\n        \"max\": 500001.0,\n        \"num_unique_values\": 3842,\n        \"samples\": [\n          194300.0,\n          379000.0,\n          230100.0\n        ],\n        \"semantic_type\": \"\",\n        \"description\": \"\"\n      }\n    },\n    {\n      \"column\": \"ocean_proximity\",\n      \"properties\": {\n        \"dtype\": \"category\",\n        \"num_unique_values\": 5,\n        \"samples\": [\n          \"<1H OCEAN\",\n          \"ISLAND\",\n          \"INLAND\"\n        ],\n        \"semantic_type\": \"\",\n        \"description\": \"\"\n      }\n    }\n  ]\n}"
            }
          },
          "metadata": {},
          "execution_count": 64
        }
      ],
      "source": [
        "cali.head()"
      ]
    },
    {
      "cell_type": "code",
      "execution_count": null,
      "metadata": {
        "colab": {
          "base_uri": "https://localhost:8080/"
        },
        "id": "sozTZdBnBo0h",
        "outputId": "c31ef0e7-388b-4340-ed25-5c9ccbb7e288"
      },
      "outputs": [
        {
          "output_type": "stream",
          "name": "stdout",
          "text": [
            "<class 'pandas.core.frame.DataFrame'>\n",
            "RangeIndex: 20640 entries, 0 to 20639\n",
            "Data columns (total 10 columns):\n",
            " #   Column              Non-Null Count  Dtype  \n",
            "---  ------              --------------  -----  \n",
            " 0   longitude           20640 non-null  float64\n",
            " 1   latitude            20640 non-null  float64\n",
            " 2   housing_median_age  20640 non-null  float64\n",
            " 3   total_rooms         20640 non-null  float64\n",
            " 4   total_bedrooms      20433 non-null  float64\n",
            " 5   population          20640 non-null  float64\n",
            " 6   households          20640 non-null  float64\n",
            " 7   median_income       20640 non-null  float64\n",
            " 8   median_house_value  20640 non-null  float64\n",
            " 9   ocean_proximity     20640 non-null  object \n",
            "dtypes: float64(9), object(1)\n",
            "memory usage: 1.6+ MB\n"
          ]
        }
      ],
      "source": [
        "cali.info()"
      ]
    },
    {
      "cell_type": "code",
      "source": [
        "cali.describe()\n"
      ],
      "metadata": {
        "colab": {
          "base_uri": "https://localhost:8080/",
          "height": 320
        },
        "id": "ez8wHsHYIutB",
        "outputId": "9d7d012c-c36f-4e6e-a4df-b4d56de12f89"
      },
      "execution_count": null,
      "outputs": [
        {
          "output_type": "execute_result",
          "data": {
            "text/plain": [
              "          longitude      latitude  housing_median_age   total_rooms  \\\n",
              "count  20640.000000  20640.000000        20640.000000  20640.000000   \n",
              "mean    -119.569704     35.631861           28.639486   2635.763081   \n",
              "std        2.003532      2.135952           12.585558   2181.615252   \n",
              "min     -124.350000     32.540000            1.000000      2.000000   \n",
              "25%     -121.800000     33.930000           18.000000   1447.750000   \n",
              "50%     -118.490000     34.260000           29.000000   2127.000000   \n",
              "75%     -118.010000     37.710000           37.000000   3148.000000   \n",
              "max     -114.310000     41.950000           52.000000  39320.000000   \n",
              "\n",
              "       total_bedrooms    population    households  median_income  \\\n",
              "count    20433.000000  20640.000000  20640.000000   20640.000000   \n",
              "mean       537.870553   1425.476744    499.539680       3.870671   \n",
              "std        421.385070   1132.462122    382.329753       1.899822   \n",
              "min          1.000000      3.000000      1.000000       0.499900   \n",
              "25%        296.000000    787.000000    280.000000       2.563400   \n",
              "50%        435.000000   1166.000000    409.000000       3.534800   \n",
              "75%        647.000000   1725.000000    605.000000       4.743250   \n",
              "max       6445.000000  35682.000000   6082.000000      15.000100   \n",
              "\n",
              "       median_house_value  \n",
              "count        20640.000000  \n",
              "mean        206855.816909  \n",
              "std         115395.615874  \n",
              "min          14999.000000  \n",
              "25%         119600.000000  \n",
              "50%         179700.000000  \n",
              "75%         264725.000000  \n",
              "max         500001.000000  "
            ],
            "text/html": [
              "\n",
              "  <div id=\"df-8451b421-e3b2-49e0-ad7d-c85f4bd91ff5\" class=\"colab-df-container\">\n",
              "    <div>\n",
              "<style scoped>\n",
              "    .dataframe tbody tr th:only-of-type {\n",
              "        vertical-align: middle;\n",
              "    }\n",
              "\n",
              "    .dataframe tbody tr th {\n",
              "        vertical-align: top;\n",
              "    }\n",
              "\n",
              "    .dataframe thead th {\n",
              "        text-align: right;\n",
              "    }\n",
              "</style>\n",
              "<table border=\"1\" class=\"dataframe\">\n",
              "  <thead>\n",
              "    <tr style=\"text-align: right;\">\n",
              "      <th></th>\n",
              "      <th>longitude</th>\n",
              "      <th>latitude</th>\n",
              "      <th>housing_median_age</th>\n",
              "      <th>total_rooms</th>\n",
              "      <th>total_bedrooms</th>\n",
              "      <th>population</th>\n",
              "      <th>households</th>\n",
              "      <th>median_income</th>\n",
              "      <th>median_house_value</th>\n",
              "    </tr>\n",
              "  </thead>\n",
              "  <tbody>\n",
              "    <tr>\n",
              "      <th>count</th>\n",
              "      <td>20640.000000</td>\n",
              "      <td>20640.000000</td>\n",
              "      <td>20640.000000</td>\n",
              "      <td>20640.000000</td>\n",
              "      <td>20433.000000</td>\n",
              "      <td>20640.000000</td>\n",
              "      <td>20640.000000</td>\n",
              "      <td>20640.000000</td>\n",
              "      <td>20640.000000</td>\n",
              "    </tr>\n",
              "    <tr>\n",
              "      <th>mean</th>\n",
              "      <td>-119.569704</td>\n",
              "      <td>35.631861</td>\n",
              "      <td>28.639486</td>\n",
              "      <td>2635.763081</td>\n",
              "      <td>537.870553</td>\n",
              "      <td>1425.476744</td>\n",
              "      <td>499.539680</td>\n",
              "      <td>3.870671</td>\n",
              "      <td>206855.816909</td>\n",
              "    </tr>\n",
              "    <tr>\n",
              "      <th>std</th>\n",
              "      <td>2.003532</td>\n",
              "      <td>2.135952</td>\n",
              "      <td>12.585558</td>\n",
              "      <td>2181.615252</td>\n",
              "      <td>421.385070</td>\n",
              "      <td>1132.462122</td>\n",
              "      <td>382.329753</td>\n",
              "      <td>1.899822</td>\n",
              "      <td>115395.615874</td>\n",
              "    </tr>\n",
              "    <tr>\n",
              "      <th>min</th>\n",
              "      <td>-124.350000</td>\n",
              "      <td>32.540000</td>\n",
              "      <td>1.000000</td>\n",
              "      <td>2.000000</td>\n",
              "      <td>1.000000</td>\n",
              "      <td>3.000000</td>\n",
              "      <td>1.000000</td>\n",
              "      <td>0.499900</td>\n",
              "      <td>14999.000000</td>\n",
              "    </tr>\n",
              "    <tr>\n",
              "      <th>25%</th>\n",
              "      <td>-121.800000</td>\n",
              "      <td>33.930000</td>\n",
              "      <td>18.000000</td>\n",
              "      <td>1447.750000</td>\n",
              "      <td>296.000000</td>\n",
              "      <td>787.000000</td>\n",
              "      <td>280.000000</td>\n",
              "      <td>2.563400</td>\n",
              "      <td>119600.000000</td>\n",
              "    </tr>\n",
              "    <tr>\n",
              "      <th>50%</th>\n",
              "      <td>-118.490000</td>\n",
              "      <td>34.260000</td>\n",
              "      <td>29.000000</td>\n",
              "      <td>2127.000000</td>\n",
              "      <td>435.000000</td>\n",
              "      <td>1166.000000</td>\n",
              "      <td>409.000000</td>\n",
              "      <td>3.534800</td>\n",
              "      <td>179700.000000</td>\n",
              "    </tr>\n",
              "    <tr>\n",
              "      <th>75%</th>\n",
              "      <td>-118.010000</td>\n",
              "      <td>37.710000</td>\n",
              "      <td>37.000000</td>\n",
              "      <td>3148.000000</td>\n",
              "      <td>647.000000</td>\n",
              "      <td>1725.000000</td>\n",
              "      <td>605.000000</td>\n",
              "      <td>4.743250</td>\n",
              "      <td>264725.000000</td>\n",
              "    </tr>\n",
              "    <tr>\n",
              "      <th>max</th>\n",
              "      <td>-114.310000</td>\n",
              "      <td>41.950000</td>\n",
              "      <td>52.000000</td>\n",
              "      <td>39320.000000</td>\n",
              "      <td>6445.000000</td>\n",
              "      <td>35682.000000</td>\n",
              "      <td>6082.000000</td>\n",
              "      <td>15.000100</td>\n",
              "      <td>500001.000000</td>\n",
              "    </tr>\n",
              "  </tbody>\n",
              "</table>\n",
              "</div>\n",
              "    <div class=\"colab-df-buttons\">\n",
              "\n",
              "  <div class=\"colab-df-container\">\n",
              "    <button class=\"colab-df-convert\" onclick=\"convertToInteractive('df-8451b421-e3b2-49e0-ad7d-c85f4bd91ff5')\"\n",
              "            title=\"Convert this dataframe to an interactive table.\"\n",
              "            style=\"display:none;\">\n",
              "\n",
              "  <svg xmlns=\"http://www.w3.org/2000/svg\" height=\"24px\" viewBox=\"0 -960 960 960\">\n",
              "    <path d=\"M120-120v-720h720v720H120Zm60-500h600v-160H180v160Zm220 220h160v-160H400v160Zm0 220h160v-160H400v160ZM180-400h160v-160H180v160Zm440 0h160v-160H620v160ZM180-180h160v-160H180v160Zm440 0h160v-160H620v160Z\"/>\n",
              "  </svg>\n",
              "    </button>\n",
              "\n",
              "  <style>\n",
              "    .colab-df-container {\n",
              "      display:flex;\n",
              "      gap: 12px;\n",
              "    }\n",
              "\n",
              "    .colab-df-convert {\n",
              "      background-color: #E8F0FE;\n",
              "      border: none;\n",
              "      border-radius: 50%;\n",
              "      cursor: pointer;\n",
              "      display: none;\n",
              "      fill: #1967D2;\n",
              "      height: 32px;\n",
              "      padding: 0 0 0 0;\n",
              "      width: 32px;\n",
              "    }\n",
              "\n",
              "    .colab-df-convert:hover {\n",
              "      background-color: #E2EBFA;\n",
              "      box-shadow: 0px 1px 2px rgba(60, 64, 67, 0.3), 0px 1px 3px 1px rgba(60, 64, 67, 0.15);\n",
              "      fill: #174EA6;\n",
              "    }\n",
              "\n",
              "    .colab-df-buttons div {\n",
              "      margin-bottom: 4px;\n",
              "    }\n",
              "\n",
              "    [theme=dark] .colab-df-convert {\n",
              "      background-color: #3B4455;\n",
              "      fill: #D2E3FC;\n",
              "    }\n",
              "\n",
              "    [theme=dark] .colab-df-convert:hover {\n",
              "      background-color: #434B5C;\n",
              "      box-shadow: 0px 1px 3px 1px rgba(0, 0, 0, 0.15);\n",
              "      filter: drop-shadow(0px 1px 2px rgba(0, 0, 0, 0.3));\n",
              "      fill: #FFFFFF;\n",
              "    }\n",
              "  </style>\n",
              "\n",
              "    <script>\n",
              "      const buttonEl =\n",
              "        document.querySelector('#df-8451b421-e3b2-49e0-ad7d-c85f4bd91ff5 button.colab-df-convert');\n",
              "      buttonEl.style.display =\n",
              "        google.colab.kernel.accessAllowed ? 'block' : 'none';\n",
              "\n",
              "      async function convertToInteractive(key) {\n",
              "        const element = document.querySelector('#df-8451b421-e3b2-49e0-ad7d-c85f4bd91ff5');\n",
              "        const dataTable =\n",
              "          await google.colab.kernel.invokeFunction('convertToInteractive',\n",
              "                                                    [key], {});\n",
              "        if (!dataTable) return;\n",
              "\n",
              "        const docLinkHtml = 'Like what you see? Visit the ' +\n",
              "          '<a target=\"_blank\" href=https://colab.research.google.com/notebooks/data_table.ipynb>data table notebook</a>'\n",
              "          + ' to learn more about interactive tables.';\n",
              "        element.innerHTML = '';\n",
              "        dataTable['output_type'] = 'display_data';\n",
              "        await google.colab.output.renderOutput(dataTable, element);\n",
              "        const docLink = document.createElement('div');\n",
              "        docLink.innerHTML = docLinkHtml;\n",
              "        element.appendChild(docLink);\n",
              "      }\n",
              "    </script>\n",
              "  </div>\n",
              "\n",
              "\n",
              "<div id=\"df-7ebfdf23-e000-45c6-98a0-95d3765cb02f\">\n",
              "  <button class=\"colab-df-quickchart\" onclick=\"quickchart('df-7ebfdf23-e000-45c6-98a0-95d3765cb02f')\"\n",
              "            title=\"Suggest charts\"\n",
              "            style=\"display:none;\">\n",
              "\n",
              "<svg xmlns=\"http://www.w3.org/2000/svg\" height=\"24px\"viewBox=\"0 0 24 24\"\n",
              "     width=\"24px\">\n",
              "    <g>\n",
              "        <path d=\"M19 3H5c-1.1 0-2 .9-2 2v14c0 1.1.9 2 2 2h14c1.1 0 2-.9 2-2V5c0-1.1-.9-2-2-2zM9 17H7v-7h2v7zm4 0h-2V7h2v10zm4 0h-2v-4h2v4z\"/>\n",
              "    </g>\n",
              "</svg>\n",
              "  </button>\n",
              "\n",
              "<style>\n",
              "  .colab-df-quickchart {\n",
              "      --bg-color: #E8F0FE;\n",
              "      --fill-color: #1967D2;\n",
              "      --hover-bg-color: #E2EBFA;\n",
              "      --hover-fill-color: #174EA6;\n",
              "      --disabled-fill-color: #AAA;\n",
              "      --disabled-bg-color: #DDD;\n",
              "  }\n",
              "\n",
              "  [theme=dark] .colab-df-quickchart {\n",
              "      --bg-color: #3B4455;\n",
              "      --fill-color: #D2E3FC;\n",
              "      --hover-bg-color: #434B5C;\n",
              "      --hover-fill-color: #FFFFFF;\n",
              "      --disabled-bg-color: #3B4455;\n",
              "      --disabled-fill-color: #666;\n",
              "  }\n",
              "\n",
              "  .colab-df-quickchart {\n",
              "    background-color: var(--bg-color);\n",
              "    border: none;\n",
              "    border-radius: 50%;\n",
              "    cursor: pointer;\n",
              "    display: none;\n",
              "    fill: var(--fill-color);\n",
              "    height: 32px;\n",
              "    padding: 0;\n",
              "    width: 32px;\n",
              "  }\n",
              "\n",
              "  .colab-df-quickchart:hover {\n",
              "    background-color: var(--hover-bg-color);\n",
              "    box-shadow: 0 1px 2px rgba(60, 64, 67, 0.3), 0 1px 3px 1px rgba(60, 64, 67, 0.15);\n",
              "    fill: var(--button-hover-fill-color);\n",
              "  }\n",
              "\n",
              "  .colab-df-quickchart-complete:disabled,\n",
              "  .colab-df-quickchart-complete:disabled:hover {\n",
              "    background-color: var(--disabled-bg-color);\n",
              "    fill: var(--disabled-fill-color);\n",
              "    box-shadow: none;\n",
              "  }\n",
              "\n",
              "  .colab-df-spinner {\n",
              "    border: 2px solid var(--fill-color);\n",
              "    border-color: transparent;\n",
              "    border-bottom-color: var(--fill-color);\n",
              "    animation:\n",
              "      spin 1s steps(1) infinite;\n",
              "  }\n",
              "\n",
              "  @keyframes spin {\n",
              "    0% {\n",
              "      border-color: transparent;\n",
              "      border-bottom-color: var(--fill-color);\n",
              "      border-left-color: var(--fill-color);\n",
              "    }\n",
              "    20% {\n",
              "      border-color: transparent;\n",
              "      border-left-color: var(--fill-color);\n",
              "      border-top-color: var(--fill-color);\n",
              "    }\n",
              "    30% {\n",
              "      border-color: transparent;\n",
              "      border-left-color: var(--fill-color);\n",
              "      border-top-color: var(--fill-color);\n",
              "      border-right-color: var(--fill-color);\n",
              "    }\n",
              "    40% {\n",
              "      border-color: transparent;\n",
              "      border-right-color: var(--fill-color);\n",
              "      border-top-color: var(--fill-color);\n",
              "    }\n",
              "    60% {\n",
              "      border-color: transparent;\n",
              "      border-right-color: var(--fill-color);\n",
              "    }\n",
              "    80% {\n",
              "      border-color: transparent;\n",
              "      border-right-color: var(--fill-color);\n",
              "      border-bottom-color: var(--fill-color);\n",
              "    }\n",
              "    90% {\n",
              "      border-color: transparent;\n",
              "      border-bottom-color: var(--fill-color);\n",
              "    }\n",
              "  }\n",
              "</style>\n",
              "\n",
              "  <script>\n",
              "    async function quickchart(key) {\n",
              "      const quickchartButtonEl =\n",
              "        document.querySelector('#' + key + ' button');\n",
              "      quickchartButtonEl.disabled = true;  // To prevent multiple clicks.\n",
              "      quickchartButtonEl.classList.add('colab-df-spinner');\n",
              "      try {\n",
              "        const charts = await google.colab.kernel.invokeFunction(\n",
              "            'suggestCharts', [key], {});\n",
              "      } catch (error) {\n",
              "        console.error('Error during call to suggestCharts:', error);\n",
              "      }\n",
              "      quickchartButtonEl.classList.remove('colab-df-spinner');\n",
              "      quickchartButtonEl.classList.add('colab-df-quickchart-complete');\n",
              "    }\n",
              "    (() => {\n",
              "      let quickchartButtonEl =\n",
              "        document.querySelector('#df-7ebfdf23-e000-45c6-98a0-95d3765cb02f button');\n",
              "      quickchartButtonEl.style.display =\n",
              "        google.colab.kernel.accessAllowed ? 'block' : 'none';\n",
              "    })();\n",
              "  </script>\n",
              "</div>\n",
              "\n",
              "    </div>\n",
              "  </div>\n"
            ],
            "application/vnd.google.colaboratory.intrinsic+json": {
              "type": "dataframe",
              "summary": "{\n  \"name\": \"cali\",\n  \"rows\": 8,\n  \"fields\": [\n    {\n      \"column\": \"longitude\",\n      \"properties\": {\n        \"dtype\": \"number\",\n        \"std\": 7333.554670164394,\n        \"min\": -124.35,\n        \"max\": 20640.0,\n        \"num_unique_values\": 8,\n        \"samples\": [\n          -119.56970445736432,\n          -118.49,\n          20640.0\n        ],\n        \"semantic_type\": \"\",\n        \"description\": \"\"\n      }\n    },\n    {\n      \"column\": \"latitude\",\n      \"properties\": {\n        \"dtype\": \"number\",\n        \"std\": 7286.333552413666,\n        \"min\": 2.1359523974571153,\n        \"max\": 20640.0,\n        \"num_unique_values\": 8,\n        \"samples\": [\n          35.63186143410853,\n          34.26,\n          20640.0\n        ],\n        \"semantic_type\": \"\",\n        \"description\": \"\"\n      }\n    },\n    {\n      \"column\": \"housing_median_age\",\n      \"properties\": {\n        \"dtype\": \"number\",\n        \"std\": 7288.35672120143,\n        \"min\": 1.0,\n        \"max\": 20640.0,\n        \"num_unique_values\": 8,\n        \"samples\": [\n          28.639486434108527,\n          29.0,\n          20640.0\n        ],\n        \"semantic_type\": \"\",\n        \"description\": \"\"\n      }\n    },\n    {\n      \"column\": \"total_rooms\",\n      \"properties\": {\n        \"dtype\": \"number\",\n        \"std\": 13944.990983306392,\n        \"min\": 2.0,\n        \"max\": 39320.0,\n        \"num_unique_values\": 8,\n        \"samples\": [\n          2635.7630813953488,\n          2127.0,\n          20640.0\n        ],\n        \"semantic_type\": \"\",\n        \"description\": \"\"\n      }\n    },\n    {\n      \"column\": \"total_bedrooms\",\n      \"properties\": {\n        \"dtype\": \"number\",\n        \"std\": 7106.427031043753,\n        \"min\": 1.0,\n        \"max\": 20433.0,\n        \"num_unique_values\": 8,\n        \"samples\": [\n          537.8705525375618,\n          435.0,\n          20433.0\n        ],\n        \"semantic_type\": \"\",\n        \"description\": \"\"\n      }\n    },\n    {\n      \"column\": \"population\",\n      \"properties\": {\n        \"dtype\": \"number\",\n        \"std\": 13192.258841737372,\n        \"min\": 3.0,\n        \"max\": 35682.0,\n        \"num_unique_values\": 8,\n        \"samples\": [\n          1425.4767441860465,\n          1166.0,\n          20640.0\n        ],\n        \"semantic_type\": \"\",\n        \"description\": \"\"\n      }\n    },\n    {\n      \"column\": \"households\",\n      \"properties\": {\n        \"dtype\": \"number\",\n        \"std\": 7167.532601135343,\n        \"min\": 1.0,\n        \"max\": 20640.0,\n        \"num_unique_values\": 8,\n        \"samples\": [\n          499.5396802325581,\n          409.0,\n          20640.0\n        ],\n        \"semantic_type\": \"\",\n        \"description\": \"\"\n      }\n    },\n    {\n      \"column\": \"median_income\",\n      \"properties\": {\n        \"dtype\": \"number\",\n        \"std\": 7295.7214358536385,\n        \"min\": 0.4999,\n        \"max\": 20640.0,\n        \"num_unique_values\": 8,\n        \"samples\": [\n          3.8706710029069766,\n          3.5347999999999997,\n          20640.0\n        ],\n        \"semantic_type\": \"\",\n        \"description\": \"\"\n      }\n    },\n    {\n      \"column\": \"median_house_value\",\n      \"properties\": {\n        \"dtype\": \"number\",\n        \"std\": 156160.28379826446,\n        \"min\": 14999.0,\n        \"max\": 500001.0,\n        \"num_unique_values\": 8,\n        \"samples\": [\n          206855.81690891474,\n          179700.0,\n          20640.0\n        ],\n        \"semantic_type\": \"\",\n        \"description\": \"\"\n      }\n    }\n  ]\n}"
            }
          },
          "metadata": {},
          "execution_count": 66
        }
      ]
    },
    {
      "cell_type": "markdown",
      "source": [
        "DATA CLEANING"
      ],
      "metadata": {
        "id": "U1FNFmLHIEMZ"
      }
    },
    {
      "cell_type": "code",
      "source": [
        "#Identify duplicate data\n",
        "cali.duplicated().value_counts()"
      ],
      "metadata": {
        "colab": {
          "base_uri": "https://localhost:8080/"
        },
        "id": "yi3KXxwnJkh5",
        "outputId": "0041deba-8e90-4463-8b58-ecc360e5cd4d"
      },
      "execution_count": null,
      "outputs": [
        {
          "output_type": "execute_result",
          "data": {
            "text/plain": [
              "False    20640\n",
              "Name: count, dtype: int64"
            ]
          },
          "metadata": {},
          "execution_count": 67
        }
      ]
    },
    {
      "cell_type": "code",
      "execution_count": null,
      "metadata": {
        "colab": {
          "base_uri": "https://localhost:8080/"
        },
        "id": "uJwCsKJfBo0i",
        "outputId": "022eff4c-375f-4bce-bfa2-3a35d62b6ee5"
      },
      "outputs": [
        {
          "output_type": "execute_result",
          "data": {
            "text/plain": [
              "longitude               0\n",
              "latitude                0\n",
              "housing_median_age      0\n",
              "total_rooms             0\n",
              "total_bedrooms        207\n",
              "population              0\n",
              "households              0\n",
              "median_income           0\n",
              "median_house_value      0\n",
              "ocean_proximity         0\n",
              "dtype: int64"
            ]
          },
          "metadata": {},
          "execution_count": 68
        }
      ],
      "source": [
        "#Identify missing data\n",
        "cali.isnull().sum()"
      ]
    },
    {
      "cell_type": "code",
      "source": [
        "#Drop missing data\n",
        "cali_nona=cali.dropna()\n",
        "cali_nona.shape"
      ],
      "metadata": {
        "colab": {
          "base_uri": "https://localhost:8080/"
        },
        "id": "ZU8ETWtDIY31",
        "outputId": "afd1d5a6-ead9-4d12-aa53-79a5dfebfe27"
      },
      "execution_count": null,
      "outputs": [
        {
          "output_type": "execute_result",
          "data": {
            "text/plain": [
              "(20433, 10)"
            ]
          },
          "metadata": {},
          "execution_count": 84
        }
      ]
    },
    {
      "cell_type": "code",
      "source": [
        "#Describe categorical features\n",
        "print(cali_nona['ocean_proximity'].value_counts())\n"
      ],
      "metadata": {
        "colab": {
          "base_uri": "https://localhost:8080/"
        },
        "id": "mK3fyhWbJ8Bq",
        "outputId": "3e1467ed-6260-4a3a-91c1-2e54cb862ca3"
      },
      "execution_count": null,
      "outputs": [
        {
          "output_type": "stream",
          "name": "stdout",
          "text": [
            "ocean_proximity\n",
            "<1H OCEAN     9034\n",
            "INLAND        6496\n",
            "NEAR OCEAN    2628\n",
            "NEAR BAY      2270\n",
            "ISLAND           5\n",
            "Name: count, dtype: int64\n"
          ]
        }
      ]
    },
    {
      "cell_type": "code",
      "source": [
        "#Create dummies for categorical feature and add to dataframe\n",
        "dummies=pd.get_dummies(cali_nona['ocean_proximity'], dtype=int)\n",
        "cali_dummies=pd.concat([cali_nona, dummies], axis=1)\n",
        "cali_dummies.shape"
      ],
      "metadata": {
        "id": "MBYh-sC7LxpJ",
        "colab": {
          "base_uri": "https://localhost:8080/"
        },
        "outputId": "e64cc2ca-c88d-404b-dccf-30de52a427f4"
      },
      "execution_count": null,
      "outputs": [
        {
          "output_type": "execute_result",
          "data": {
            "text/plain": [
              "(20433, 15)"
            ]
          },
          "metadata": {},
          "execution_count": 87
        }
      ]
    },
    {
      "cell_type": "code",
      "source": [
        "#Drop features that don't add information\n",
        "cali_final=cali_dummies.drop(columns=['longitude', 'latitude', 'ocean_proximity'])\n",
        "cali_final.shape"
      ],
      "metadata": {
        "id": "N7GMd2cPPk6F",
        "colab": {
          "base_uri": "https://localhost:8080/"
        },
        "outputId": "f6cb1b4d-fad7-45ca-f57e-ae94b39e2872"
      },
      "execution_count": null,
      "outputs": [
        {
          "output_type": "execute_result",
          "data": {
            "text/plain": [
              "(20433, 12)"
            ]
          },
          "metadata": {},
          "execution_count": 88
        }
      ]
    },
    {
      "cell_type": "code",
      "source": [
        "cali_final.info()"
      ],
      "metadata": {
        "colab": {
          "base_uri": "https://localhost:8080/"
        },
        "id": "uU7YBEn5MJKc",
        "outputId": "6bfa77ab-f281-44d4-e8ef-2ed03bae1486"
      },
      "execution_count": null,
      "outputs": [
        {
          "output_type": "stream",
          "name": "stdout",
          "text": [
            "<class 'pandas.core.frame.DataFrame'>\n",
            "Index: 20433 entries, 0 to 20639\n",
            "Data columns (total 12 columns):\n",
            " #   Column              Non-Null Count  Dtype  \n",
            "---  ------              --------------  -----  \n",
            " 0   housing_median_age  20433 non-null  float64\n",
            " 1   total_rooms         20433 non-null  float64\n",
            " 2   total_bedrooms      20433 non-null  float64\n",
            " 3   population          20433 non-null  float64\n",
            " 4   households          20433 non-null  float64\n",
            " 5   median_income       20433 non-null  float64\n",
            " 6   median_house_value  20433 non-null  float64\n",
            " 7   <1H OCEAN           20433 non-null  int64  \n",
            " 8   INLAND              20433 non-null  int64  \n",
            " 9   ISLAND              20433 non-null  int64  \n",
            " 10  NEAR BAY            20433 non-null  int64  \n",
            " 11  NEAR OCEAN          20433 non-null  int64  \n",
            "dtypes: float64(7), int64(5)\n",
            "memory usage: 2.5 MB\n"
          ]
        }
      ]
    },
    {
      "cell_type": "markdown",
      "source": [
        "PREP FOR MODELING"
      ],
      "metadata": {
        "id": "5QGPPjPoVYMY"
      }
    },
    {
      "cell_type": "code",
      "source": [
        "#Define predictor and target features\n",
        "X = cali_final.drop('median_house_value', axis=1)\n",
        "y = cali_final['median_house_value']\n",
        "X.shape"
      ],
      "metadata": {
        "id": "ekEQYzEaVbQX",
        "colab": {
          "base_uri": "https://localhost:8080/"
        },
        "outputId": "2db51ad6-241b-41dd-ae7b-c0ce98cf65db"
      },
      "execution_count": null,
      "outputs": [
        {
          "output_type": "execute_result",
          "data": {
            "text/plain": [
              "(20433, 11)"
            ]
          },
          "metadata": {},
          "execution_count": 91
        }
      ]
    },
    {
      "cell_type": "code",
      "source": [
        "#Split dataset into train and test sets\n",
        "X_train, X_test, y_train, y_test = train_test_split(X, y, test_size=0.3, random_state=42)\n",
        "print(X_train.shape)\n",
        "print(X_test.shape)\n",
        "print(y_train.shape)\n",
        "print(y_test.shape)\n",
        "print(type(X_train), type(y_train))#\n",
        "\n"
      ],
      "metadata": {
        "colab": {
          "base_uri": "https://localhost:8080/"
        },
        "id": "evPNQU2VYiUY",
        "outputId": "55380536-8dea-4f11-9bdc-ae39c9843678"
      },
      "execution_count": null,
      "outputs": [
        {
          "output_type": "stream",
          "name": "stdout",
          "text": [
            "(14303, 11)\n",
            "(6130, 11)\n",
            "(14303,)\n",
            "(6130,)\n",
            "<class 'pandas.core.frame.DataFrame'> <class 'pandas.core.series.Series'>\n"
          ]
        }
      ]
    },
    {
      "cell_type": "markdown",
      "source": [
        "LINEAR REGRESSION"
      ],
      "metadata": {
        "id": "2ARHTY1cay9j"
      }
    },
    {
      "cell_type": "code",
      "source": [
        "#Simple linear regression model\n",
        "model_1 = X_train[['median_income']]\n",
        "lr = LinearRegression().fit(X_age, y_train)\n",
        "model_1_train_mse = mean_squared_error(y_train, lr.predict(X_age))\n",
        "model_1_test_mse = mean_squared_error(y_test, lr.predict(X_test[['median_income']]))\n",
        "\n",
        "# Answer check\n",
        "print(f'Train MSE: {model_1_train_mse: .2f}')\n",
        "print(f'Test MSE: {model_1_test_mse: .2f}')\n"
      ],
      "metadata": {
        "colab": {
          "base_uri": "https://localhost:8080/"
        },
        "id": "sqDllaYJa2Fh",
        "outputId": "4b069228-df13-4875-9f40-f7a558110cae"
      },
      "execution_count": null,
      "outputs": [
        {
          "output_type": "stream",
          "name": "stdout",
          "text": [
            "Train MSE:  7023243339.41\n",
            "Test MSE:  6982859996.24\n"
          ]
        }
      ]
    },
    {
      "cell_type": "code",
      "source": [
        "#Pipeline to test 2-degree polynomial features\n",
        "pipe = Pipeline([('polynomial', PolynomialFeatures(degree=2)),('linreg', LinearRegression())])\n",
        "pipe\n",
        "\n"
      ],
      "metadata": {
        "id": "c3oMNQYDcGB4",
        "colab": {
          "base_uri": "https://localhost:8080/",
          "height": 125
        },
        "outputId": "33ce922f-237c-48a6-b58d-df19b057dd45"
      },
      "execution_count": null,
      "outputs": [
        {
          "output_type": "execute_result",
          "data": {
            "text/plain": [
              "Pipeline(steps=[('polynomial', PolynomialFeatures()),\n",
              "                ('linreg', LinearRegression())])"
            ],
            "text/html": [
              "<style>#sk-container-id-6 {color: black;background-color: white;}#sk-container-id-6 pre{padding: 0;}#sk-container-id-6 div.sk-toggleable {background-color: white;}#sk-container-id-6 label.sk-toggleable__label {cursor: pointer;display: block;width: 100%;margin-bottom: 0;padding: 0.3em;box-sizing: border-box;text-align: center;}#sk-container-id-6 label.sk-toggleable__label-arrow:before {content: \"▸\";float: left;margin-right: 0.25em;color: #696969;}#sk-container-id-6 label.sk-toggleable__label-arrow:hover:before {color: black;}#sk-container-id-6 div.sk-estimator:hover label.sk-toggleable__label-arrow:before {color: black;}#sk-container-id-6 div.sk-toggleable__content {max-height: 0;max-width: 0;overflow: hidden;text-align: left;background-color: #f0f8ff;}#sk-container-id-6 div.sk-toggleable__content pre {margin: 0.2em;color: black;border-radius: 0.25em;background-color: #f0f8ff;}#sk-container-id-6 input.sk-toggleable__control:checked~div.sk-toggleable__content {max-height: 200px;max-width: 100%;overflow: auto;}#sk-container-id-6 input.sk-toggleable__control:checked~label.sk-toggleable__label-arrow:before {content: \"▾\";}#sk-container-id-6 div.sk-estimator input.sk-toggleable__control:checked~label.sk-toggleable__label {background-color: #d4ebff;}#sk-container-id-6 div.sk-label input.sk-toggleable__control:checked~label.sk-toggleable__label {background-color: #d4ebff;}#sk-container-id-6 input.sk-hidden--visually {border: 0;clip: rect(1px 1px 1px 1px);clip: rect(1px, 1px, 1px, 1px);height: 1px;margin: -1px;overflow: hidden;padding: 0;position: absolute;width: 1px;}#sk-container-id-6 div.sk-estimator {font-family: monospace;background-color: #f0f8ff;border: 1px dotted black;border-radius: 0.25em;box-sizing: border-box;margin-bottom: 0.5em;}#sk-container-id-6 div.sk-estimator:hover {background-color: #d4ebff;}#sk-container-id-6 div.sk-parallel-item::after {content: \"\";width: 100%;border-bottom: 1px solid gray;flex-grow: 1;}#sk-container-id-6 div.sk-label:hover label.sk-toggleable__label {background-color: #d4ebff;}#sk-container-id-6 div.sk-serial::before {content: \"\";position: absolute;border-left: 1px solid gray;box-sizing: border-box;top: 0;bottom: 0;left: 50%;z-index: 0;}#sk-container-id-6 div.sk-serial {display: flex;flex-direction: column;align-items: center;background-color: white;padding-right: 0.2em;padding-left: 0.2em;position: relative;}#sk-container-id-6 div.sk-item {position: relative;z-index: 1;}#sk-container-id-6 div.sk-parallel {display: flex;align-items: stretch;justify-content: center;background-color: white;position: relative;}#sk-container-id-6 div.sk-item::before, #sk-container-id-6 div.sk-parallel-item::before {content: \"\";position: absolute;border-left: 1px solid gray;box-sizing: border-box;top: 0;bottom: 0;left: 50%;z-index: -1;}#sk-container-id-6 div.sk-parallel-item {display: flex;flex-direction: column;z-index: 1;position: relative;background-color: white;}#sk-container-id-6 div.sk-parallel-item:first-child::after {align-self: flex-end;width: 50%;}#sk-container-id-6 div.sk-parallel-item:last-child::after {align-self: flex-start;width: 50%;}#sk-container-id-6 div.sk-parallel-item:only-child::after {width: 0;}#sk-container-id-6 div.sk-dashed-wrapped {border: 1px dashed gray;margin: 0 0.4em 0.5em 0.4em;box-sizing: border-box;padding-bottom: 0.4em;background-color: white;}#sk-container-id-6 div.sk-label label {font-family: monospace;font-weight: bold;display: inline-block;line-height: 1.2em;}#sk-container-id-6 div.sk-label-container {text-align: center;}#sk-container-id-6 div.sk-container {/* jupyter's `normalize.less` sets `[hidden] { display: none; }` but bootstrap.min.css set `[hidden] { display: none !important; }` so we also need the `!important` here to be able to override the default hidden behavior on the sphinx rendered scikit-learn.org. See: https://github.com/scikit-learn/scikit-learn/issues/21755 */display: inline-block !important;position: relative;}#sk-container-id-6 div.sk-text-repr-fallback {display: none;}</style><div id=\"sk-container-id-6\" class=\"sk-top-container\"><div class=\"sk-text-repr-fallback\"><pre>Pipeline(steps=[(&#x27;polynomial&#x27;, PolynomialFeatures()),\n",
              "                (&#x27;linreg&#x27;, LinearRegression())])</pre><b>In a Jupyter environment, please rerun this cell to show the HTML representation or trust the notebook. <br />On GitHub, the HTML representation is unable to render, please try loading this page with nbviewer.org.</b></div><div class=\"sk-container\" hidden><div class=\"sk-item sk-dashed-wrapped\"><div class=\"sk-label-container\"><div class=\"sk-label sk-toggleable\"><input class=\"sk-toggleable__control sk-hidden--visually\" id=\"sk-estimator-id-14\" type=\"checkbox\" ><label for=\"sk-estimator-id-14\" class=\"sk-toggleable__label sk-toggleable__label-arrow\">Pipeline</label><div class=\"sk-toggleable__content\"><pre>Pipeline(steps=[(&#x27;polynomial&#x27;, PolynomialFeatures()),\n",
              "                (&#x27;linreg&#x27;, LinearRegression())])</pre></div></div></div><div class=\"sk-serial\"><div class=\"sk-item\"><div class=\"sk-estimator sk-toggleable\"><input class=\"sk-toggleable__control sk-hidden--visually\" id=\"sk-estimator-id-15\" type=\"checkbox\" ><label for=\"sk-estimator-id-15\" class=\"sk-toggleable__label sk-toggleable__label-arrow\">PolynomialFeatures</label><div class=\"sk-toggleable__content\"><pre>PolynomialFeatures()</pre></div></div></div><div class=\"sk-item\"><div class=\"sk-estimator sk-toggleable\"><input class=\"sk-toggleable__control sk-hidden--visually\" id=\"sk-estimator-id-16\" type=\"checkbox\" ><label for=\"sk-estimator-id-16\" class=\"sk-toggleable__label sk-toggleable__label-arrow\">LinearRegression</label><div class=\"sk-toggleable__content\"><pre>LinearRegression()</pre></div></div></div></div></div></div></div>"
            ]
          },
          "metadata": {},
          "execution_count": 108
        }
      ]
    },
    {
      "cell_type": "code",
      "source": [
        "#Fit the model, predict values for X in training and test sets and calculate MSEs\n",
        "pipe.fit(X_train, y_train)\n",
        "\n",
        "train_preds = pipe.predict(X_train)\n",
        "test_preds = pipe.predict(X_test)\n",
        "train_mse = mean_squared_error(y_train, train_preds)\n",
        "test_mse = mean_squared_error(y_test, test_preds)\n",
        "\n",
        "# Answer check\n",
        "print(f'Train MSE: {train_mse: .2f}')\n",
        "print(f'Test MSE: {test_mse: .2f}')"
      ],
      "metadata": {
        "colab": {
          "base_uri": "https://localhost:8080/"
        },
        "id": "T6JYLIPPhg-2",
        "outputId": "ded9ffd3-1d43-4f60-bc2c-d4c615120bea"
      },
      "execution_count": null,
      "outputs": [
        {
          "output_type": "stream",
          "name": "stdout",
          "text": [
            "Train MSE:  4258777052.05\n",
            "Test MSE:  4307041966.08\n"
          ]
        }
      ]
    },
    {
      "cell_type": "code",
      "source": [
        "# Calculate the permutation importance\n",
        "results = permutation_importance(pipe, X_test, y_test)\n",
        "importances = pd.DataFrame(data=results.importances_mean, index=X.columns, columns=['Importance']).sort_values(by='Importance', ascending=False)\n",
        "print(importances)"
      ],
      "metadata": {
        "colab": {
          "base_uri": "https://localhost:8080/"
        },
        "id": "ytSNlHddjbpq",
        "outputId": "a653e65f-165d-4708-debd-e3b1b733e635"
      },
      "execution_count": null,
      "outputs": [
        {
          "output_type": "stream",
          "name": "stdout",
          "text": [
            "                    Importance\n",
            "total_bedrooms        4.606672\n",
            "total_rooms           1.790709\n",
            "median_income         1.067253\n",
            "population            0.783304\n",
            "INLAND                0.514764\n",
            "<1H OCEAN             0.508990\n",
            "households            0.401991\n",
            "NEAR OCEAN            0.232823\n",
            "NEAR BAY              0.149026\n",
            "housing_median_age    0.076916\n",
            "ISLAND                0.006539\n"
          ]
        }
      ]
    },
    {
      "cell_type": "code",
      "source": [
        "#Pipeline with standardization to test 2-degree polynomial features\n",
        "pipe2 = Pipeline([('scaler', StandardScaler()), ('polynomial', PolynomialFeatures(degree=2)),('linreg', LinearRegression())])\n",
        "pipe2"
      ],
      "metadata": {
        "colab": {
          "base_uri": "https://localhost:8080/",
          "height": 159
        },
        "id": "_b3pExlerbgr",
        "outputId": "a3ec93c8-91a2-4231-c0dc-69f1ac082855"
      },
      "execution_count": null,
      "outputs": [
        {
          "output_type": "execute_result",
          "data": {
            "text/plain": [
              "Pipeline(steps=[('scaler', StandardScaler()),\n",
              "                ('polynomial', PolynomialFeatures()),\n",
              "                ('linreg', LinearRegression())])"
            ],
            "text/html": [
              "<style>#sk-container-id-8 {color: black;background-color: white;}#sk-container-id-8 pre{padding: 0;}#sk-container-id-8 div.sk-toggleable {background-color: white;}#sk-container-id-8 label.sk-toggleable__label {cursor: pointer;display: block;width: 100%;margin-bottom: 0;padding: 0.3em;box-sizing: border-box;text-align: center;}#sk-container-id-8 label.sk-toggleable__label-arrow:before {content: \"▸\";float: left;margin-right: 0.25em;color: #696969;}#sk-container-id-8 label.sk-toggleable__label-arrow:hover:before {color: black;}#sk-container-id-8 div.sk-estimator:hover label.sk-toggleable__label-arrow:before {color: black;}#sk-container-id-8 div.sk-toggleable__content {max-height: 0;max-width: 0;overflow: hidden;text-align: left;background-color: #f0f8ff;}#sk-container-id-8 div.sk-toggleable__content pre {margin: 0.2em;color: black;border-radius: 0.25em;background-color: #f0f8ff;}#sk-container-id-8 input.sk-toggleable__control:checked~div.sk-toggleable__content {max-height: 200px;max-width: 100%;overflow: auto;}#sk-container-id-8 input.sk-toggleable__control:checked~label.sk-toggleable__label-arrow:before {content: \"▾\";}#sk-container-id-8 div.sk-estimator input.sk-toggleable__control:checked~label.sk-toggleable__label {background-color: #d4ebff;}#sk-container-id-8 div.sk-label input.sk-toggleable__control:checked~label.sk-toggleable__label {background-color: #d4ebff;}#sk-container-id-8 input.sk-hidden--visually {border: 0;clip: rect(1px 1px 1px 1px);clip: rect(1px, 1px, 1px, 1px);height: 1px;margin: -1px;overflow: hidden;padding: 0;position: absolute;width: 1px;}#sk-container-id-8 div.sk-estimator {font-family: monospace;background-color: #f0f8ff;border: 1px dotted black;border-radius: 0.25em;box-sizing: border-box;margin-bottom: 0.5em;}#sk-container-id-8 div.sk-estimator:hover {background-color: #d4ebff;}#sk-container-id-8 div.sk-parallel-item::after {content: \"\";width: 100%;border-bottom: 1px solid gray;flex-grow: 1;}#sk-container-id-8 div.sk-label:hover label.sk-toggleable__label {background-color: #d4ebff;}#sk-container-id-8 div.sk-serial::before {content: \"\";position: absolute;border-left: 1px solid gray;box-sizing: border-box;top: 0;bottom: 0;left: 50%;z-index: 0;}#sk-container-id-8 div.sk-serial {display: flex;flex-direction: column;align-items: center;background-color: white;padding-right: 0.2em;padding-left: 0.2em;position: relative;}#sk-container-id-8 div.sk-item {position: relative;z-index: 1;}#sk-container-id-8 div.sk-parallel {display: flex;align-items: stretch;justify-content: center;background-color: white;position: relative;}#sk-container-id-8 div.sk-item::before, #sk-container-id-8 div.sk-parallel-item::before {content: \"\";position: absolute;border-left: 1px solid gray;box-sizing: border-box;top: 0;bottom: 0;left: 50%;z-index: -1;}#sk-container-id-8 div.sk-parallel-item {display: flex;flex-direction: column;z-index: 1;position: relative;background-color: white;}#sk-container-id-8 div.sk-parallel-item:first-child::after {align-self: flex-end;width: 50%;}#sk-container-id-8 div.sk-parallel-item:last-child::after {align-self: flex-start;width: 50%;}#sk-container-id-8 div.sk-parallel-item:only-child::after {width: 0;}#sk-container-id-8 div.sk-dashed-wrapped {border: 1px dashed gray;margin: 0 0.4em 0.5em 0.4em;box-sizing: border-box;padding-bottom: 0.4em;background-color: white;}#sk-container-id-8 div.sk-label label {font-family: monospace;font-weight: bold;display: inline-block;line-height: 1.2em;}#sk-container-id-8 div.sk-label-container {text-align: center;}#sk-container-id-8 div.sk-container {/* jupyter's `normalize.less` sets `[hidden] { display: none; }` but bootstrap.min.css set `[hidden] { display: none !important; }` so we also need the `!important` here to be able to override the default hidden behavior on the sphinx rendered scikit-learn.org. See: https://github.com/scikit-learn/scikit-learn/issues/21755 */display: inline-block !important;position: relative;}#sk-container-id-8 div.sk-text-repr-fallback {display: none;}</style><div id=\"sk-container-id-8\" class=\"sk-top-container\"><div class=\"sk-text-repr-fallback\"><pre>Pipeline(steps=[(&#x27;scaler&#x27;, StandardScaler()),\n",
              "                (&#x27;polynomial&#x27;, PolynomialFeatures()),\n",
              "                (&#x27;linreg&#x27;, LinearRegression())])</pre><b>In a Jupyter environment, please rerun this cell to show the HTML representation or trust the notebook. <br />On GitHub, the HTML representation is unable to render, please try loading this page with nbviewer.org.</b></div><div class=\"sk-container\" hidden><div class=\"sk-item sk-dashed-wrapped\"><div class=\"sk-label-container\"><div class=\"sk-label sk-toggleable\"><input class=\"sk-toggleable__control sk-hidden--visually\" id=\"sk-estimator-id-18\" type=\"checkbox\" ><label for=\"sk-estimator-id-18\" class=\"sk-toggleable__label sk-toggleable__label-arrow\">Pipeline</label><div class=\"sk-toggleable__content\"><pre>Pipeline(steps=[(&#x27;scaler&#x27;, StandardScaler()),\n",
              "                (&#x27;polynomial&#x27;, PolynomialFeatures()),\n",
              "                (&#x27;linreg&#x27;, LinearRegression())])</pre></div></div></div><div class=\"sk-serial\"><div class=\"sk-item\"><div class=\"sk-estimator sk-toggleable\"><input class=\"sk-toggleable__control sk-hidden--visually\" id=\"sk-estimator-id-19\" type=\"checkbox\" ><label for=\"sk-estimator-id-19\" class=\"sk-toggleable__label sk-toggleable__label-arrow\">StandardScaler</label><div class=\"sk-toggleable__content\"><pre>StandardScaler()</pre></div></div></div><div class=\"sk-item\"><div class=\"sk-estimator sk-toggleable\"><input class=\"sk-toggleable__control sk-hidden--visually\" id=\"sk-estimator-id-20\" type=\"checkbox\" ><label for=\"sk-estimator-id-20\" class=\"sk-toggleable__label sk-toggleable__label-arrow\">PolynomialFeatures</label><div class=\"sk-toggleable__content\"><pre>PolynomialFeatures()</pre></div></div></div><div class=\"sk-item\"><div class=\"sk-estimator sk-toggleable\"><input class=\"sk-toggleable__control sk-hidden--visually\" id=\"sk-estimator-id-21\" type=\"checkbox\" ><label for=\"sk-estimator-id-21\" class=\"sk-toggleable__label sk-toggleable__label-arrow\">LinearRegression</label><div class=\"sk-toggleable__content\"><pre>LinearRegression()</pre></div></div></div></div></div></div></div>"
            ]
          },
          "metadata": {},
          "execution_count": 111
        }
      ]
    },
    {
      "cell_type": "code",
      "source": [
        "#Fit the model, predict values for X in training and test sets and calculate MSEs\n",
        "pipe2.fit(X_train, y_train)\n",
        "\n",
        "train2_preds = pipe2.predict(X_train)\n",
        "test2_preds = pipe2.predict(X_test)\n",
        "train2_mse = mean_squared_error(y_train, train2_preds)\n",
        "test2_mse = mean_squared_error(y_test, test2_preds)\n",
        "\n",
        "# Answer check\n",
        "print(f'Train2 MSE: {train2_mse: .2f}')\n",
        "print(f'Test2 MSE: {test2_mse: .2f}')"
      ],
      "metadata": {
        "colab": {
          "base_uri": "https://localhost:8080/"
        },
        "id": "7Fgj9_c_tIqR",
        "outputId": "fa308b7e-ee1f-4302-8987-5cd098c2f32a"
      },
      "execution_count": null,
      "outputs": [
        {
          "output_type": "stream",
          "name": "stdout",
          "text": [
            "Train2 MSE:  4258777052.07\n",
            "Test2 MSE:  2659223205445263872.00\n"
          ]
        }
      ]
    },
    {
      "cell_type": "code",
      "source": [
        "# Calculate the permutation importance\n",
        "results2 = permutation_importance(pipe2, X_test, y_test)\n",
        "importances = pd.DataFrame(data=results2.importances_mean, index=X.columns, columns=['Importance']).sort_values(by='Importance', ascending=False)\n",
        "print(importances)"
      ],
      "metadata": {
        "colab": {
          "base_uri": "https://localhost:8080/"
        },
        "id": "Jt08i78Nt2Pm",
        "outputId": "93b3ab14-b221-409d-bf0b-a8cdbcd56593"
      },
      "execution_count": null,
      "outputs": [
        {
          "output_type": "stream",
          "name": "stdout",
          "text": [
            "                      Importance\n",
            "INLAND              3.935760e+11\n",
            "NEAR OCEAN          3.199574e+11\n",
            "NEAR BAY            2.382421e+11\n",
            "<1H OCEAN           1.210444e+11\n",
            "ISLAND              6.577825e+08\n",
            "median_income       6.406486e+07\n",
            "population          1.898907e+07\n",
            "housing_median_age  6.326208e+06\n",
            "households          6.846241e+05\n",
            "total_rooms        -4.926128e+05\n",
            "total_bedrooms     -9.711841e+05\n"
          ]
        }
      ]
    },
    {
      "cell_type": "code",
      "source": [
        "#Pipeline with standardization to test 2-degree polynomial features\n",
        "pipe25 = Pipeline([('polynomial', PolynomialFeatures(degree=2, include_bias=False)),('linreg', LinearRegression())])\n",
        "pipe25.fit(X_train, y_train)\n",
        "\n",
        "train25_preds = pipe25.predict(X_train)\n",
        "test25_preds = pipe25.predict(X_test)\n",
        "train25_mse = mean_squared_error(y_train, train25_preds)\n",
        "test25_mse = mean_squared_error(y_test, test25_preds)\n",
        "\n",
        "# Answer check\n",
        "print(f'Train25 MSE: {train25_mse: .2f}')\n",
        "print(f'Test25 MSE: {test25_mse: .2f}')"
      ],
      "metadata": {
        "colab": {
          "base_uri": "https://localhost:8080/"
        },
        "id": "qfq9NNU44Ubq",
        "outputId": "20ea9400-0415-4bee-a4df-91678ef27eb9"
      },
      "execution_count": null,
      "outputs": [
        {
          "output_type": "stream",
          "name": "stdout",
          "text": [
            "Train25 MSE:  4258777110.98\n",
            "Test25 MSE:  275971220859900000.00\n"
          ]
        }
      ]
    },
    {
      "cell_type": "code",
      "source": [
        "#Repeat Model1 to test 3-degree polynomial features\n",
        "\n",
        "pipe3 = Pipeline([('polynomial', PolynomialFeatures(degree=3)),('linreg', LinearRegression())])\n",
        "\n",
        "#Fit the model, predict values for X in training and test sets and calculate MSEs\n",
        "pipe3.fit(X_train, y_train)\n",
        "\n",
        "train3_preds = pipe3.predict(X_train)\n",
        "test3_preds = pipe3.predict(X_test)\n",
        "train3_mse = mean_squared_error(y_train, train3_preds)\n",
        "test3_mse = mean_squared_error(y_test, test3_preds)\n",
        "\n",
        "# Answer check\n",
        "print(f'Train3 MSE: {train3_mse: .2f}')\n",
        "print(f'Test3 MSE: {test3_mse: .2f}')"
      ],
      "metadata": {
        "colab": {
          "base_uri": "https://localhost:8080/"
        },
        "id": "a6rHLfoLm_zx",
        "outputId": "7109158d-c3a2-497e-81c0-79323a5c7534"
      },
      "execution_count": null,
      "outputs": [
        {
          "output_type": "stream",
          "name": "stdout",
          "text": [
            "Train3 MSE:  3596680091.40\n",
            "Test3 MSE:  3960758164.79\n"
          ]
        }
      ]
    },
    {
      "cell_type": "code",
      "source": [
        "# Calculate the permutation importance\n",
        "results3 = permutation_importance(pipe3, X_test, y_test)\n",
        "importances = pd.DataFrame(data=results3.importances_mean, index=X.columns, columns=['Importance']).sort_values(by='Importance', ascending=False)\n",
        "print(importances)"
      ],
      "metadata": {
        "colab": {
          "base_uri": "https://localhost:8080/"
        },
        "id": "61vXj5Mgncsw",
        "outputId": "ac2bab9c-fc4d-411c-91b2-ff63212ab43c"
      },
      "execution_count": null,
      "outputs": [
        {
          "output_type": "stream",
          "name": "stdout",
          "text": [
            "                     Importance\n",
            "households          1441.342940\n",
            "total_bedrooms       126.525155\n",
            "total_rooms          108.391549\n",
            "<1H OCEAN             23.008768\n",
            "INLAND                21.084070\n",
            "NEAR BAY               8.555629\n",
            "population             7.051967\n",
            "NEAR OCEAN             6.866666\n",
            "median_income          1.170005\n",
            "housing_median_age     0.106709\n",
            "ISLAND                 0.031657\n"
          ]
        }
      ]
    },
    {
      "cell_type": "code",
      "source": [
        "#Repeat Model2 to test 3-degree polynomial features with a standardization step\n",
        "\n",
        "pipe4 = Pipeline([('scaler', StandardScaler()),('polynomial', PolynomialFeatures(degree=3)),('linreg', LinearRegression())])\n",
        "\n",
        "#Fit the model, predict values for X in training and test sets and calculate MSEs\n",
        "pipe4.fit(X_train, y_train)\n",
        "\n",
        "train4_preds = pipe4.predict(X_train)\n",
        "test4_preds = pipe4.predict(X_test)\n",
        "train4_mse = mean_squared_error(y_train, train4_preds)\n",
        "test4_mse = mean_squared_error(y_test, test4_preds)\n",
        "\n",
        "# Answer check\n",
        "print(f'Train4 MSE: {train4_mse: .2f}')\n",
        "print(f'Test4 MSE: {test4_mse: .2f}')"
      ],
      "metadata": {
        "colab": {
          "base_uri": "https://localhost:8080/"
        },
        "id": "voXqX8UbuIsr",
        "outputId": "431313d1-6be9-4831-efa0-6f46d84e62cf"
      },
      "execution_count": null,
      "outputs": [
        {
          "output_type": "stream",
          "name": "stdout",
          "text": [
            "Train4 MSE:  3596680063.11\n",
            "Test4 MSE:  3856776377.56\n"
          ]
        }
      ]
    },
    {
      "cell_type": "code",
      "source": [
        "results4 = permutation_importance(pipe4, X_test, y_test)\n",
        "importances = pd.DataFrame(data=results4.importances_mean, index=X.columns, columns=['Importance']).sort_values(by='Importance', ascending=False)\n",
        "print(importances)"
      ],
      "metadata": {
        "colab": {
          "base_uri": "https://localhost:8080/"
        },
        "id": "gq-YsX0inLJh",
        "outputId": "eac85bff-ab9c-44bb-e79f-be779ace02ad"
      },
      "execution_count": null,
      "outputs": [
        {
          "output_type": "stream",
          "name": "stdout",
          "text": [
            "                     Importance\n",
            "households          1322.942098\n",
            "total_bedrooms       109.759509\n",
            "total_rooms           96.512935\n",
            "population             5.792965\n",
            "median_income          1.174219\n",
            "INLAND                 0.184017\n",
            "<1H OCEAN              0.131273\n",
            "NEAR OCEAN             0.109794\n",
            "housing_median_age     0.104210\n",
            "NEAR BAY               0.072478\n",
            "ISLAND                 0.001781\n"
          ]
        }
      ]
    },
    {
      "cell_type": "markdown",
      "source": [
        "RESULTS SUMMARY\n",
        "\n",
        "The results were interesting, as shown in the table below. The MSE was lowest for the 3-degree model with the standardized features. The top three features were consistent in both 3-degree models, with households as the most important by a large margin. I interpret this to mean that density is the most important predictor of house price. For example, a 600 sf condo in central San Francisco can cost a lot more than a 3,000 sf house in rural Central Valley areas."
      ],
      "metadata": {
        "id": "dDVK8n5l-Abr"
      }
    },
    {
      "cell_type": "markdown",
      "source": [
        "![results_table.png](data:image/png;base64,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)"
      ],
      "metadata": {
        "id": "RPP5SpeX9qPU"
      }
    },
    {
      "cell_type": "markdown",
      "source": [],
      "metadata": {
        "id": "UpuJ15M-9wiD"
      }
    }
  ],
  "metadata": {
    "kernelspec": {
      "display_name": "Python 3",
      "language": "python",
      "name": "python3"
    },
    "language_info": {
      "codemirror_mode": {
        "name": "ipython",
        "version": 3
      },
      "file_extension": ".py",
      "mimetype": "text/x-python",
      "name": "python",
      "nbconvert_exporter": "python",
      "pygments_lexer": "ipython3",
      "version": "3.7.4"
    },
    "colab": {
      "provenance": []
    }
  },
  "nbformat": 4,
  "nbformat_minor": 0
}