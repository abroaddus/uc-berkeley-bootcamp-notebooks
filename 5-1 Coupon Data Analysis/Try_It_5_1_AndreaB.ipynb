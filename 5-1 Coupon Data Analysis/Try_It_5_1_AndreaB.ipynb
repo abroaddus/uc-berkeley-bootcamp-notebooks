{
  "cells": [
    {
      "cell_type": "markdown",
      "metadata": {
        "id": "HR0VQzHLfQiC"
      },
      "source": [
        "### Will a Customer Accept the Coupon?\n",
        "\n",
        "**Context**\n",
        "\n",
        "Imagine driving through town and a coupon is delivered to your cell phone for a restaraunt near where you are driving. Would you accept that coupon and take a short detour to the restaraunt? Would you accept the coupon but use it on a sunbsequent trip? Would you ignore the coupon entirely? What if the coupon was for a bar instead of a restaraunt? What about a coffee house? Would you accept a bar coupon with a minor passenger in the car? What about if it was just you and your partner in the car? Would weather impact the rate of acceptance? What about the time of day?\n",
        "\n",
        "Obviously, proximity to the business is a factor on whether the coupon is delivered to the driver or not, but what are the factors that determine whether a driver accepts the coupon once it is delivered to them? How would you determine whether a driver is likely to accept a coupon?\n",
        "\n",
        "**Overview**\n",
        "\n",
        "The goal of this project is to use what you know about visualizations and probability distributions to distinguish between customers who accepted a driving coupon versus those that did not.\n",
        "\n",
        "**Data**\n",
        "\n",
        "This data comes to us from the UCI Machine Learning repository and was collected via a survey on Amazon Mechanical Turk. The survey describes different driving scenarios including the destination, current time, weather, passenger, etc., and then ask the person whether he will accept the coupon if he is the driver. Answers that the user will drive there ‘right away’ or ‘later before the coupon expires’ are labeled as ‘Y = 1’ and answers ‘no, I do not want the coupon’ are labeled as ‘Y = 0’.  There are five different types of coupons -- less expensive restaurants (under \\\\$20), coffee houses, carry out & take away, bar, and more expensive restaurants (\\\\$20 - \\\\$50)."
      ]
    },
    {
      "cell_type": "markdown",
      "metadata": {
        "id": "c5gOTDcJfQiE"
      },
      "source": [
        "**Deliverables**\n",
        "\n",
        "Your final product should be a brief report that highlights the differences between customers who did and did not accept the coupons.  To explore the data you will utilize your knowledge of plotting, statistical summaries, and visualization using Python. You will publish your findings in a public facing github repository as your first portfolio piece.\n",
        "\n",
        "\n",
        "\n"
      ]
    },
    {
      "cell_type": "markdown",
      "metadata": {
        "id": "yzhg-mJDfQiF"
      },
      "source": [
        "### Data Description\n",
        "Keep in mind that these values mentioned below are average values.\n",
        "\n",
        "The attributes of this data set include:\n",
        "1. User attributes\n",
        "    -  Gender: male, female\n",
        "    -  Age: below 21, 21 to 25, 26 to 30, etc.\n",
        "    -  Marital Status: single, married partner, unmarried partner, or widowed\n",
        "    -  Number of children: 0, 1, or more than 1\n",
        "    -  Education: high school, bachelors degree, associates degree, or graduate degree\n",
        "    -  Occupation: architecture & engineering, business & financial, etc.\n",
        "    -  Annual income: less than \\\\$12500, \\\\$12500 - \\\\$24999, \\\\$25000 - \\\\$37499, etc.\n",
        "    -  Number of times that he/she goes to a bar: 0, less than 1, 1 to 3, 4 to 8 or greater than 8\n",
        "    -  Number of times that he/she buys takeaway food: 0, less than 1, 1 to 3, 4 to 8 or greater\n",
        "    than 8\n",
        "    -  Number of times that he/she goes to a coffee house: 0, less than 1, 1 to 3, 4 to 8 or\n",
        "    greater than 8\n",
        "    -  Number of times that he/she eats at a restaurant with average expense less than \\\\$20 per\n",
        "    person: 0, less than 1, 1 to 3, 4 to 8 or greater than 8\n",
        "    -  Number of times that he/she goes to a bar: 0, less than 1, 1 to 3, 4 to 8 or greater than 8\n",
        "    \n",
        "\n",
        "2. Contextual attributes\n",
        "    - Driving destination: home, work, or no urgent destination\n",
        "    - Location of user, coupon and destination: we provide a map to show the geographical\n",
        "    location of the user, destination, and the venue, and we mark the distance between each\n",
        "    two places with time of driving. The user can see whether the venue is in the same\n",
        "    direction as the destination.\n",
        "    - Weather: sunny, rainy, or snowy\n",
        "    - Temperature: 30F, 55F, or 80F\n",
        "    - Time: 10AM, 2PM, or 6PM\n",
        "    - Passenger: alone, partner, kid(s), or friend(s)\n",
        "\n",
        "\n",
        "3. Coupon attributes\n",
        "    - time before it expires: 2 hours or one day\n",
        "    - Answers that the user will drive there ‘right away’ or ‘later before the coupon expires’ are labeled as ‘Y = 1’ and answers ‘no, I do not want the coupon’ are labeled as ‘Y = 0’.\n",
        "    - There are five different types of coupons -- less expensive restaurants (under \\$20), coffee houses, carry out & take away, bar, and more expensive restaurants (\\$20 - \\$50).\n"
      ]
    },
    {
      "cell_type": "code",
      "execution_count": 2,
      "metadata": {
        "id": "dN59YdrSfQiF"
      },
      "outputs": [],
      "source": [
        "import matplotlib.pyplot as plt\n",
        "import seaborn as sns\n",
        "import pandas as pd\n",
        "import numpy as np\n",
        "import matplotlib.pyplot as plt\n",
        "import seaborn as sns\n",
        "import plotly.express as px\n"
      ]
    },
    {
      "cell_type": "markdown",
      "metadata": {
        "id": "CzdtfimzfQiG"
      },
      "source": [
        "### Problems\n",
        "\n",
        "Use the prompts below to get started with your data analysis.  \n",
        "\n",
        "1. Read in the `coupons.csv` file.\n",
        "\n",
        "\n"
      ]
    },
    {
      "cell_type": "code",
      "source": [
        "from google.colab import drive\n",
        "drive.mount('/content/drive')\n"
      ],
      "metadata": {
        "colab": {
          "base_uri": "https://localhost:8080/"
        },
        "id": "Nehkv9_C2ahN",
        "outputId": "0751a625-67fa-4cb5-dde8-081e1fbdfade"
      },
      "execution_count": 4,
      "outputs": [
        {
          "output_type": "stream",
          "name": "stdout",
          "text": [
            "Mounted at /content/drive\n"
          ]
        }
      ]
    },
    {
      "cell_type": "code",
      "source": [
        "data = pd.read_csv('/content/drive/MyDrive/MLAI_Haas/data/coupons.csv')"
      ],
      "metadata": {
        "id": "xM6rbQAd2znN"
      },
      "execution_count": 5,
      "outputs": []
    },
    {
      "cell_type": "code",
      "execution_count": 6,
      "metadata": {
        "colab": {
          "base_uri": "https://localhost:8080/",
          "height": 325
        },
        "id": "SrONn13tfQiG",
        "outputId": "48043155-4b41-4c4c-8292-3b46eeb98a5b"
      },
      "outputs": [
        {
          "output_type": "execute_result",
          "data": {
            "text/plain": [
              "          destination  passanger weather  temperature time  \\\n",
              "2175             Home      Alone   Sunny           55  6PM   \n",
              "4955             Work      Alone   Sunny           80  7AM   \n",
              "2105  No Urgent Place  Friend(s)   Sunny           55  2PM   \n",
              "3081  No Urgent Place  Friend(s)   Sunny           55  2PM   \n",
              "8392  No Urgent Place  Friend(s)   Sunny           55  6PM   \n",
              "\n",
              "                     coupon expiration  gender     age maritalStatus  ...  \\\n",
              "2175      Restaurant(20-50)         1d    Male      21        Single  ...   \n",
              "4955           Coffee House         2h    Male      31        Single  ...   \n",
              "2105           Coffee House         2h  Female      26        Single  ...   \n",
              "3081  Carry out & Take away         1d    Male      26        Single  ...   \n",
              "8392  Carry out & Take away         1d  Female  50plus        Single  ...   \n",
              "\n",
              "      CoffeeHouse CarryAway RestaurantLessThan20 Restaurant20To50  \\\n",
              "2175          gt8       4~8                  gt8              1~3   \n",
              "4955        never       4~8                  1~3            less1   \n",
              "2105          1~3       gt8                  4~8              1~3   \n",
              "3081          gt8       gt8                  gt8              gt8   \n",
              "8392          4~8       4~8                  gt8            less1   \n",
              "\n",
              "     toCoupon_GEQ5min toCoupon_GEQ15min toCoupon_GEQ25min direction_same  \\\n",
              "2175                1                 1                 0              0   \n",
              "4955                1                 0                 0              1   \n",
              "2105                1                 0                 0              0   \n",
              "3081                1                 1                 0              0   \n",
              "8392                1                 1                 0              0   \n",
              "\n",
              "     direction_opp  Y  \n",
              "2175             1  1  \n",
              "4955             0  0  \n",
              "2105             1  1  \n",
              "3081             1  1  \n",
              "8392             1  1  \n",
              "\n",
              "[5 rows x 26 columns]"
            ],
            "text/html": [
              "\n",
              "  <div id=\"df-844086ea-d0e0-4bef-af1a-eee931cc2baa\" class=\"colab-df-container\">\n",
              "    <div>\n",
              "<style scoped>\n",
              "    .dataframe tbody tr th:only-of-type {\n",
              "        vertical-align: middle;\n",
              "    }\n",
              "\n",
              "    .dataframe tbody tr th {\n",
              "        vertical-align: top;\n",
              "    }\n",
              "\n",
              "    .dataframe thead th {\n",
              "        text-align: right;\n",
              "    }\n",
              "</style>\n",
              "<table border=\"1\" class=\"dataframe\">\n",
              "  <thead>\n",
              "    <tr style=\"text-align: right;\">\n",
              "      <th></th>\n",
              "      <th>destination</th>\n",
              "      <th>passanger</th>\n",
              "      <th>weather</th>\n",
              "      <th>temperature</th>\n",
              "      <th>time</th>\n",
              "      <th>coupon</th>\n",
              "      <th>expiration</th>\n",
              "      <th>gender</th>\n",
              "      <th>age</th>\n",
              "      <th>maritalStatus</th>\n",
              "      <th>...</th>\n",
              "      <th>CoffeeHouse</th>\n",
              "      <th>CarryAway</th>\n",
              "      <th>RestaurantLessThan20</th>\n",
              "      <th>Restaurant20To50</th>\n",
              "      <th>toCoupon_GEQ5min</th>\n",
              "      <th>toCoupon_GEQ15min</th>\n",
              "      <th>toCoupon_GEQ25min</th>\n",
              "      <th>direction_same</th>\n",
              "      <th>direction_opp</th>\n",
              "      <th>Y</th>\n",
              "    </tr>\n",
              "  </thead>\n",
              "  <tbody>\n",
              "    <tr>\n",
              "      <th>2175</th>\n",
              "      <td>Home</td>\n",
              "      <td>Alone</td>\n",
              "      <td>Sunny</td>\n",
              "      <td>55</td>\n",
              "      <td>6PM</td>\n",
              "      <td>Restaurant(20-50)</td>\n",
              "      <td>1d</td>\n",
              "      <td>Male</td>\n",
              "      <td>21</td>\n",
              "      <td>Single</td>\n",
              "      <td>...</td>\n",
              "      <td>gt8</td>\n",
              "      <td>4~8</td>\n",
              "      <td>gt8</td>\n",
              "      <td>1~3</td>\n",
              "      <td>1</td>\n",
              "      <td>1</td>\n",
              "      <td>0</td>\n",
              "      <td>0</td>\n",
              "      <td>1</td>\n",
              "      <td>1</td>\n",
              "    </tr>\n",
              "    <tr>\n",
              "      <th>4955</th>\n",
              "      <td>Work</td>\n",
              "      <td>Alone</td>\n",
              "      <td>Sunny</td>\n",
              "      <td>80</td>\n",
              "      <td>7AM</td>\n",
              "      <td>Coffee House</td>\n",
              "      <td>2h</td>\n",
              "      <td>Male</td>\n",
              "      <td>31</td>\n",
              "      <td>Single</td>\n",
              "      <td>...</td>\n",
              "      <td>never</td>\n",
              "      <td>4~8</td>\n",
              "      <td>1~3</td>\n",
              "      <td>less1</td>\n",
              "      <td>1</td>\n",
              "      <td>0</td>\n",
              "      <td>0</td>\n",
              "      <td>1</td>\n",
              "      <td>0</td>\n",
              "      <td>0</td>\n",
              "    </tr>\n",
              "    <tr>\n",
              "      <th>2105</th>\n",
              "      <td>No Urgent Place</td>\n",
              "      <td>Friend(s)</td>\n",
              "      <td>Sunny</td>\n",
              "      <td>55</td>\n",
              "      <td>2PM</td>\n",
              "      <td>Coffee House</td>\n",
              "      <td>2h</td>\n",
              "      <td>Female</td>\n",
              "      <td>26</td>\n",
              "      <td>Single</td>\n",
              "      <td>...</td>\n",
              "      <td>1~3</td>\n",
              "      <td>gt8</td>\n",
              "      <td>4~8</td>\n",
              "      <td>1~3</td>\n",
              "      <td>1</td>\n",
              "      <td>0</td>\n",
              "      <td>0</td>\n",
              "      <td>0</td>\n",
              "      <td>1</td>\n",
              "      <td>1</td>\n",
              "    </tr>\n",
              "    <tr>\n",
              "      <th>3081</th>\n",
              "      <td>No Urgent Place</td>\n",
              "      <td>Friend(s)</td>\n",
              "      <td>Sunny</td>\n",
              "      <td>55</td>\n",
              "      <td>2PM</td>\n",
              "      <td>Carry out &amp; Take away</td>\n",
              "      <td>1d</td>\n",
              "      <td>Male</td>\n",
              "      <td>26</td>\n",
              "      <td>Single</td>\n",
              "      <td>...</td>\n",
              "      <td>gt8</td>\n",
              "      <td>gt8</td>\n",
              "      <td>gt8</td>\n",
              "      <td>gt8</td>\n",
              "      <td>1</td>\n",
              "      <td>1</td>\n",
              "      <td>0</td>\n",
              "      <td>0</td>\n",
              "      <td>1</td>\n",
              "      <td>1</td>\n",
              "    </tr>\n",
              "    <tr>\n",
              "      <th>8392</th>\n",
              "      <td>No Urgent Place</td>\n",
              "      <td>Friend(s)</td>\n",
              "      <td>Sunny</td>\n",
              "      <td>55</td>\n",
              "      <td>6PM</td>\n",
              "      <td>Carry out &amp; Take away</td>\n",
              "      <td>1d</td>\n",
              "      <td>Female</td>\n",
              "      <td>50plus</td>\n",
              "      <td>Single</td>\n",
              "      <td>...</td>\n",
              "      <td>4~8</td>\n",
              "      <td>4~8</td>\n",
              "      <td>gt8</td>\n",
              "      <td>less1</td>\n",
              "      <td>1</td>\n",
              "      <td>1</td>\n",
              "      <td>0</td>\n",
              "      <td>0</td>\n",
              "      <td>1</td>\n",
              "      <td>1</td>\n",
              "    </tr>\n",
              "  </tbody>\n",
              "</table>\n",
              "<p>5 rows × 26 columns</p>\n",
              "</div>\n",
              "    <div class=\"colab-df-buttons\">\n",
              "\n",
              "  <div class=\"colab-df-container\">\n",
              "    <button class=\"colab-df-convert\" onclick=\"convertToInteractive('df-844086ea-d0e0-4bef-af1a-eee931cc2baa')\"\n",
              "            title=\"Convert this dataframe to an interactive table.\"\n",
              "            style=\"display:none;\">\n",
              "\n",
              "  <svg xmlns=\"http://www.w3.org/2000/svg\" height=\"24px\" viewBox=\"0 -960 960 960\">\n",
              "    <path d=\"M120-120v-720h720v720H120Zm60-500h600v-160H180v160Zm220 220h160v-160H400v160Zm0 220h160v-160H400v160ZM180-400h160v-160H180v160Zm440 0h160v-160H620v160ZM180-180h160v-160H180v160Zm440 0h160v-160H620v160Z\"/>\n",
              "  </svg>\n",
              "    </button>\n",
              "\n",
              "  <style>\n",
              "    .colab-df-container {\n",
              "      display:flex;\n",
              "      gap: 12px;\n",
              "    }\n",
              "\n",
              "    .colab-df-convert {\n",
              "      background-color: #E8F0FE;\n",
              "      border: none;\n",
              "      border-radius: 50%;\n",
              "      cursor: pointer;\n",
              "      display: none;\n",
              "      fill: #1967D2;\n",
              "      height: 32px;\n",
              "      padding: 0 0 0 0;\n",
              "      width: 32px;\n",
              "    }\n",
              "\n",
              "    .colab-df-convert:hover {\n",
              "      background-color: #E2EBFA;\n",
              "      box-shadow: 0px 1px 2px rgba(60, 64, 67, 0.3), 0px 1px 3px 1px rgba(60, 64, 67, 0.15);\n",
              "      fill: #174EA6;\n",
              "    }\n",
              "\n",
              "    .colab-df-buttons div {\n",
              "      margin-bottom: 4px;\n",
              "    }\n",
              "\n",
              "    [theme=dark] .colab-df-convert {\n",
              "      background-color: #3B4455;\n",
              "      fill: #D2E3FC;\n",
              "    }\n",
              "\n",
              "    [theme=dark] .colab-df-convert:hover {\n",
              "      background-color: #434B5C;\n",
              "      box-shadow: 0px 1px 3px 1px rgba(0, 0, 0, 0.15);\n",
              "      filter: drop-shadow(0px 1px 2px rgba(0, 0, 0, 0.3));\n",
              "      fill: #FFFFFF;\n",
              "    }\n",
              "  </style>\n",
              "\n",
              "    <script>\n",
              "      const buttonEl =\n",
              "        document.querySelector('#df-844086ea-d0e0-4bef-af1a-eee931cc2baa button.colab-df-convert');\n",
              "      buttonEl.style.display =\n",
              "        google.colab.kernel.accessAllowed ? 'block' : 'none';\n",
              "\n",
              "      async function convertToInteractive(key) {\n",
              "        const element = document.querySelector('#df-844086ea-d0e0-4bef-af1a-eee931cc2baa');\n",
              "        const dataTable =\n",
              "          await google.colab.kernel.invokeFunction('convertToInteractive',\n",
              "                                                    [key], {});\n",
              "        if (!dataTable) return;\n",
              "\n",
              "        const docLinkHtml = 'Like what you see? Visit the ' +\n",
              "          '<a target=\"_blank\" href=https://colab.research.google.com/notebooks/data_table.ipynb>data table notebook</a>'\n",
              "          + ' to learn more about interactive tables.';\n",
              "        element.innerHTML = '';\n",
              "        dataTable['output_type'] = 'display_data';\n",
              "        await google.colab.output.renderOutput(dataTable, element);\n",
              "        const docLink = document.createElement('div');\n",
              "        docLink.innerHTML = docLinkHtml;\n",
              "        element.appendChild(docLink);\n",
              "      }\n",
              "    </script>\n",
              "  </div>\n",
              "\n",
              "\n",
              "<div id=\"df-fd15c397-4c0b-46f7-b880-99133b507f05\">\n",
              "  <button class=\"colab-df-quickchart\" onclick=\"quickchart('df-fd15c397-4c0b-46f7-b880-99133b507f05')\"\n",
              "            title=\"Suggest charts\"\n",
              "            style=\"display:none;\">\n",
              "\n",
              "<svg xmlns=\"http://www.w3.org/2000/svg\" height=\"24px\"viewBox=\"0 0 24 24\"\n",
              "     width=\"24px\">\n",
              "    <g>\n",
              "        <path d=\"M19 3H5c-1.1 0-2 .9-2 2v14c0 1.1.9 2 2 2h14c1.1 0 2-.9 2-2V5c0-1.1-.9-2-2-2zM9 17H7v-7h2v7zm4 0h-2V7h2v10zm4 0h-2v-4h2v4z\"/>\n",
              "    </g>\n",
              "</svg>\n",
              "  </button>\n",
              "\n",
              "<style>\n",
              "  .colab-df-quickchart {\n",
              "      --bg-color: #E8F0FE;\n",
              "      --fill-color: #1967D2;\n",
              "      --hover-bg-color: #E2EBFA;\n",
              "      --hover-fill-color: #174EA6;\n",
              "      --disabled-fill-color: #AAA;\n",
              "      --disabled-bg-color: #DDD;\n",
              "  }\n",
              "\n",
              "  [theme=dark] .colab-df-quickchart {\n",
              "      --bg-color: #3B4455;\n",
              "      --fill-color: #D2E3FC;\n",
              "      --hover-bg-color: #434B5C;\n",
              "      --hover-fill-color: #FFFFFF;\n",
              "      --disabled-bg-color: #3B4455;\n",
              "      --disabled-fill-color: #666;\n",
              "  }\n",
              "\n",
              "  .colab-df-quickchart {\n",
              "    background-color: var(--bg-color);\n",
              "    border: none;\n",
              "    border-radius: 50%;\n",
              "    cursor: pointer;\n",
              "    display: none;\n",
              "    fill: var(--fill-color);\n",
              "    height: 32px;\n",
              "    padding: 0;\n",
              "    width: 32px;\n",
              "  }\n",
              "\n",
              "  .colab-df-quickchart:hover {\n",
              "    background-color: var(--hover-bg-color);\n",
              "    box-shadow: 0 1px 2px rgba(60, 64, 67, 0.3), 0 1px 3px 1px rgba(60, 64, 67, 0.15);\n",
              "    fill: var(--button-hover-fill-color);\n",
              "  }\n",
              "\n",
              "  .colab-df-quickchart-complete:disabled,\n",
              "  .colab-df-quickchart-complete:disabled:hover {\n",
              "    background-color: var(--disabled-bg-color);\n",
              "    fill: var(--disabled-fill-color);\n",
              "    box-shadow: none;\n",
              "  }\n",
              "\n",
              "  .colab-df-spinner {\n",
              "    border: 2px solid var(--fill-color);\n",
              "    border-color: transparent;\n",
              "    border-bottom-color: var(--fill-color);\n",
              "    animation:\n",
              "      spin 1s steps(1) infinite;\n",
              "  }\n",
              "\n",
              "  @keyframes spin {\n",
              "    0% {\n",
              "      border-color: transparent;\n",
              "      border-bottom-color: var(--fill-color);\n",
              "      border-left-color: var(--fill-color);\n",
              "    }\n",
              "    20% {\n",
              "      border-color: transparent;\n",
              "      border-left-color: var(--fill-color);\n",
              "      border-top-color: var(--fill-color);\n",
              "    }\n",
              "    30% {\n",
              "      border-color: transparent;\n",
              "      border-left-color: var(--fill-color);\n",
              "      border-top-color: var(--fill-color);\n",
              "      border-right-color: var(--fill-color);\n",
              "    }\n",
              "    40% {\n",
              "      border-color: transparent;\n",
              "      border-right-color: var(--fill-color);\n",
              "      border-top-color: var(--fill-color);\n",
              "    }\n",
              "    60% {\n",
              "      border-color: transparent;\n",
              "      border-right-color: var(--fill-color);\n",
              "    }\n",
              "    80% {\n",
              "      border-color: transparent;\n",
              "      border-right-color: var(--fill-color);\n",
              "      border-bottom-color: var(--fill-color);\n",
              "    }\n",
              "    90% {\n",
              "      border-color: transparent;\n",
              "      border-bottom-color: var(--fill-color);\n",
              "    }\n",
              "  }\n",
              "</style>\n",
              "\n",
              "  <script>\n",
              "    async function quickchart(key) {\n",
              "      const quickchartButtonEl =\n",
              "        document.querySelector('#' + key + ' button');\n",
              "      quickchartButtonEl.disabled = true;  // To prevent multiple clicks.\n",
              "      quickchartButtonEl.classList.add('colab-df-spinner');\n",
              "      try {\n",
              "        const charts = await google.colab.kernel.invokeFunction(\n",
              "            'suggestCharts', [key], {});\n",
              "      } catch (error) {\n",
              "        console.error('Error during call to suggestCharts:', error);\n",
              "      }\n",
              "      quickchartButtonEl.classList.remove('colab-df-spinner');\n",
              "      quickchartButtonEl.classList.add('colab-df-quickchart-complete');\n",
              "    }\n",
              "    (() => {\n",
              "      let quickchartButtonEl =\n",
              "        document.querySelector('#df-fd15c397-4c0b-46f7-b880-99133b507f05 button');\n",
              "      quickchartButtonEl.style.display =\n",
              "        google.colab.kernel.accessAllowed ? 'block' : 'none';\n",
              "    })();\n",
              "  </script>\n",
              "</div>\n",
              "\n",
              "    </div>\n",
              "  </div>\n"
            ],
            "application/vnd.google.colaboratory.intrinsic+json": {
              "type": "dataframe"
            }
          },
          "metadata": {},
          "execution_count": 6
        }
      ],
      "source": [
        "data.sample(5)"
      ]
    },
    {
      "cell_type": "markdown",
      "metadata": {
        "id": "MM_o09l0fQiG"
      },
      "source": [
        "2. Investigate the dataset for missing or problematic data."
      ]
    },
    {
      "cell_type": "code",
      "execution_count": 7,
      "metadata": {
        "colab": {
          "base_uri": "https://localhost:8080/"
        },
        "id": "zTZ0D_YUfQiH",
        "outputId": "2389b4f1-199a-4a30-f202-2011548c8fec"
      },
      "outputs": [
        {
          "output_type": "stream",
          "name": "stdout",
          "text": [
            "<class 'pandas.core.frame.DataFrame'>\n",
            "RangeIndex: 12684 entries, 0 to 12683\n",
            "Data columns (total 26 columns):\n",
            " #   Column                Non-Null Count  Dtype \n",
            "---  ------                --------------  ----- \n",
            " 0   destination           12684 non-null  object\n",
            " 1   passanger             12684 non-null  object\n",
            " 2   weather               12684 non-null  object\n",
            " 3   temperature           12684 non-null  int64 \n",
            " 4   time                  12684 non-null  object\n",
            " 5   coupon                12684 non-null  object\n",
            " 6   expiration            12684 non-null  object\n",
            " 7   gender                12684 non-null  object\n",
            " 8   age                   12684 non-null  object\n",
            " 9   maritalStatus         12684 non-null  object\n",
            " 10  has_children          12684 non-null  int64 \n",
            " 11  education             12684 non-null  object\n",
            " 12  occupation            12684 non-null  object\n",
            " 13  income                12684 non-null  object\n",
            " 14  car                   108 non-null    object\n",
            " 15  Bar                   12577 non-null  object\n",
            " 16  CoffeeHouse           12467 non-null  object\n",
            " 17  CarryAway             12533 non-null  object\n",
            " 18  RestaurantLessThan20  12554 non-null  object\n",
            " 19  Restaurant20To50      12495 non-null  object\n",
            " 20  toCoupon_GEQ5min      12684 non-null  int64 \n",
            " 21  toCoupon_GEQ15min     12684 non-null  int64 \n",
            " 22  toCoupon_GEQ25min     12684 non-null  int64 \n",
            " 23  direction_same        12684 non-null  int64 \n",
            " 24  direction_opp         12684 non-null  int64 \n",
            " 25  Y                     12684 non-null  int64 \n",
            "dtypes: int64(8), object(18)\n",
            "memory usage: 2.5+ MB\n"
          ]
        }
      ],
      "source": [
        "data.info()"
      ]
    },
    {
      "cell_type": "code",
      "source": [
        "# rename misspelled variable name\n",
        "data.rename(columns = {'passanger':'passenger'}, inplace = True)"
      ],
      "metadata": {
        "id": "FXhVErRk34rh"
      },
      "execution_count": 8,
      "outputs": []
    },
    {
      "cell_type": "code",
      "source": [
        "data.describe()\n"
      ],
      "metadata": {
        "colab": {
          "base_uri": "https://localhost:8080/",
          "height": 300
        },
        "id": "5HO8KS5F5bLJ",
        "outputId": "20adb7aa-8202-4fd1-fc4d-ea676560aa80"
      },
      "execution_count": 9,
      "outputs": [
        {
          "output_type": "execute_result",
          "data": {
            "text/plain": [
              "        temperature  has_children  toCoupon_GEQ5min  toCoupon_GEQ15min  \\\n",
              "count  12684.000000  12684.000000           12684.0       12684.000000   \n",
              "mean      63.301798      0.414144               1.0           0.561495   \n",
              "std       19.154486      0.492593               0.0           0.496224   \n",
              "min       30.000000      0.000000               1.0           0.000000   \n",
              "25%       55.000000      0.000000               1.0           0.000000   \n",
              "50%       80.000000      0.000000               1.0           1.000000   \n",
              "75%       80.000000      1.000000               1.0           1.000000   \n",
              "max       80.000000      1.000000               1.0           1.000000   \n",
              "\n",
              "       toCoupon_GEQ25min  direction_same  direction_opp             Y  \n",
              "count       12684.000000    12684.000000   12684.000000  12684.000000  \n",
              "mean            0.119126        0.214759       0.785241      0.568433  \n",
              "std             0.323950        0.410671       0.410671      0.495314  \n",
              "min             0.000000        0.000000       0.000000      0.000000  \n",
              "25%             0.000000        0.000000       1.000000      0.000000  \n",
              "50%             0.000000        0.000000       1.000000      1.000000  \n",
              "75%             0.000000        0.000000       1.000000      1.000000  \n",
              "max             1.000000        1.000000       1.000000      1.000000  "
            ],
            "text/html": [
              "\n",
              "  <div id=\"df-ee4af77a-25b7-44c7-946c-a75b678fdbcb\" class=\"colab-df-container\">\n",
              "    <div>\n",
              "<style scoped>\n",
              "    .dataframe tbody tr th:only-of-type {\n",
              "        vertical-align: middle;\n",
              "    }\n",
              "\n",
              "    .dataframe tbody tr th {\n",
              "        vertical-align: top;\n",
              "    }\n",
              "\n",
              "    .dataframe thead th {\n",
              "        text-align: right;\n",
              "    }\n",
              "</style>\n",
              "<table border=\"1\" class=\"dataframe\">\n",
              "  <thead>\n",
              "    <tr style=\"text-align: right;\">\n",
              "      <th></th>\n",
              "      <th>temperature</th>\n",
              "      <th>has_children</th>\n",
              "      <th>toCoupon_GEQ5min</th>\n",
              "      <th>toCoupon_GEQ15min</th>\n",
              "      <th>toCoupon_GEQ25min</th>\n",
              "      <th>direction_same</th>\n",
              "      <th>direction_opp</th>\n",
              "      <th>Y</th>\n",
              "    </tr>\n",
              "  </thead>\n",
              "  <tbody>\n",
              "    <tr>\n",
              "      <th>count</th>\n",
              "      <td>12684.000000</td>\n",
              "      <td>12684.000000</td>\n",
              "      <td>12684.0</td>\n",
              "      <td>12684.000000</td>\n",
              "      <td>12684.000000</td>\n",
              "      <td>12684.000000</td>\n",
              "      <td>12684.000000</td>\n",
              "      <td>12684.000000</td>\n",
              "    </tr>\n",
              "    <tr>\n",
              "      <th>mean</th>\n",
              "      <td>63.301798</td>\n",
              "      <td>0.414144</td>\n",
              "      <td>1.0</td>\n",
              "      <td>0.561495</td>\n",
              "      <td>0.119126</td>\n",
              "      <td>0.214759</td>\n",
              "      <td>0.785241</td>\n",
              "      <td>0.568433</td>\n",
              "    </tr>\n",
              "    <tr>\n",
              "      <th>std</th>\n",
              "      <td>19.154486</td>\n",
              "      <td>0.492593</td>\n",
              "      <td>0.0</td>\n",
              "      <td>0.496224</td>\n",
              "      <td>0.323950</td>\n",
              "      <td>0.410671</td>\n",
              "      <td>0.410671</td>\n",
              "      <td>0.495314</td>\n",
              "    </tr>\n",
              "    <tr>\n",
              "      <th>min</th>\n",
              "      <td>30.000000</td>\n",
              "      <td>0.000000</td>\n",
              "      <td>1.0</td>\n",
              "      <td>0.000000</td>\n",
              "      <td>0.000000</td>\n",
              "      <td>0.000000</td>\n",
              "      <td>0.000000</td>\n",
              "      <td>0.000000</td>\n",
              "    </tr>\n",
              "    <tr>\n",
              "      <th>25%</th>\n",
              "      <td>55.000000</td>\n",
              "      <td>0.000000</td>\n",
              "      <td>1.0</td>\n",
              "      <td>0.000000</td>\n",
              "      <td>0.000000</td>\n",
              "      <td>0.000000</td>\n",
              "      <td>1.000000</td>\n",
              "      <td>0.000000</td>\n",
              "    </tr>\n",
              "    <tr>\n",
              "      <th>50%</th>\n",
              "      <td>80.000000</td>\n",
              "      <td>0.000000</td>\n",
              "      <td>1.0</td>\n",
              "      <td>1.000000</td>\n",
              "      <td>0.000000</td>\n",
              "      <td>0.000000</td>\n",
              "      <td>1.000000</td>\n",
              "      <td>1.000000</td>\n",
              "    </tr>\n",
              "    <tr>\n",
              "      <th>75%</th>\n",
              "      <td>80.000000</td>\n",
              "      <td>1.000000</td>\n",
              "      <td>1.0</td>\n",
              "      <td>1.000000</td>\n",
              "      <td>0.000000</td>\n",
              "      <td>0.000000</td>\n",
              "      <td>1.000000</td>\n",
              "      <td>1.000000</td>\n",
              "    </tr>\n",
              "    <tr>\n",
              "      <th>max</th>\n",
              "      <td>80.000000</td>\n",
              "      <td>1.000000</td>\n",
              "      <td>1.0</td>\n",
              "      <td>1.000000</td>\n",
              "      <td>1.000000</td>\n",
              "      <td>1.000000</td>\n",
              "      <td>1.000000</td>\n",
              "      <td>1.000000</td>\n",
              "    </tr>\n",
              "  </tbody>\n",
              "</table>\n",
              "</div>\n",
              "    <div class=\"colab-df-buttons\">\n",
              "\n",
              "  <div class=\"colab-df-container\">\n",
              "    <button class=\"colab-df-convert\" onclick=\"convertToInteractive('df-ee4af77a-25b7-44c7-946c-a75b678fdbcb')\"\n",
              "            title=\"Convert this dataframe to an interactive table.\"\n",
              "            style=\"display:none;\">\n",
              "\n",
              "  <svg xmlns=\"http://www.w3.org/2000/svg\" height=\"24px\" viewBox=\"0 -960 960 960\">\n",
              "    <path d=\"M120-120v-720h720v720H120Zm60-500h600v-160H180v160Zm220 220h160v-160H400v160Zm0 220h160v-160H400v160ZM180-400h160v-160H180v160Zm440 0h160v-160H620v160ZM180-180h160v-160H180v160Zm440 0h160v-160H620v160Z\"/>\n",
              "  </svg>\n",
              "    </button>\n",
              "\n",
              "  <style>\n",
              "    .colab-df-container {\n",
              "      display:flex;\n",
              "      gap: 12px;\n",
              "    }\n",
              "\n",
              "    .colab-df-convert {\n",
              "      background-color: #E8F0FE;\n",
              "      border: none;\n",
              "      border-radius: 50%;\n",
              "      cursor: pointer;\n",
              "      display: none;\n",
              "      fill: #1967D2;\n",
              "      height: 32px;\n",
              "      padding: 0 0 0 0;\n",
              "      width: 32px;\n",
              "    }\n",
              "\n",
              "    .colab-df-convert:hover {\n",
              "      background-color: #E2EBFA;\n",
              "      box-shadow: 0px 1px 2px rgba(60, 64, 67, 0.3), 0px 1px 3px 1px rgba(60, 64, 67, 0.15);\n",
              "      fill: #174EA6;\n",
              "    }\n",
              "\n",
              "    .colab-df-buttons div {\n",
              "      margin-bottom: 4px;\n",
              "    }\n",
              "\n",
              "    [theme=dark] .colab-df-convert {\n",
              "      background-color: #3B4455;\n",
              "      fill: #D2E3FC;\n",
              "    }\n",
              "\n",
              "    [theme=dark] .colab-df-convert:hover {\n",
              "      background-color: #434B5C;\n",
              "      box-shadow: 0px 1px 3px 1px rgba(0, 0, 0, 0.15);\n",
              "      filter: drop-shadow(0px 1px 2px rgba(0, 0, 0, 0.3));\n",
              "      fill: #FFFFFF;\n",
              "    }\n",
              "  </style>\n",
              "\n",
              "    <script>\n",
              "      const buttonEl =\n",
              "        document.querySelector('#df-ee4af77a-25b7-44c7-946c-a75b678fdbcb button.colab-df-convert');\n",
              "      buttonEl.style.display =\n",
              "        google.colab.kernel.accessAllowed ? 'block' : 'none';\n",
              "\n",
              "      async function convertToInteractive(key) {\n",
              "        const element = document.querySelector('#df-ee4af77a-25b7-44c7-946c-a75b678fdbcb');\n",
              "        const dataTable =\n",
              "          await google.colab.kernel.invokeFunction('convertToInteractive',\n",
              "                                                    [key], {});\n",
              "        if (!dataTable) return;\n",
              "\n",
              "        const docLinkHtml = 'Like what you see? Visit the ' +\n",
              "          '<a target=\"_blank\" href=https://colab.research.google.com/notebooks/data_table.ipynb>data table notebook</a>'\n",
              "          + ' to learn more about interactive tables.';\n",
              "        element.innerHTML = '';\n",
              "        dataTable['output_type'] = 'display_data';\n",
              "        await google.colab.output.renderOutput(dataTable, element);\n",
              "        const docLink = document.createElement('div');\n",
              "        docLink.innerHTML = docLinkHtml;\n",
              "        element.appendChild(docLink);\n",
              "      }\n",
              "    </script>\n",
              "  </div>\n",
              "\n",
              "\n",
              "<div id=\"df-b01c3085-50fc-4d05-9ef7-f20d5a84f919\">\n",
              "  <button class=\"colab-df-quickchart\" onclick=\"quickchart('df-b01c3085-50fc-4d05-9ef7-f20d5a84f919')\"\n",
              "            title=\"Suggest charts\"\n",
              "            style=\"display:none;\">\n",
              "\n",
              "<svg xmlns=\"http://www.w3.org/2000/svg\" height=\"24px\"viewBox=\"0 0 24 24\"\n",
              "     width=\"24px\">\n",
              "    <g>\n",
              "        <path d=\"M19 3H5c-1.1 0-2 .9-2 2v14c0 1.1.9 2 2 2h14c1.1 0 2-.9 2-2V5c0-1.1-.9-2-2-2zM9 17H7v-7h2v7zm4 0h-2V7h2v10zm4 0h-2v-4h2v4z\"/>\n",
              "    </g>\n",
              "</svg>\n",
              "  </button>\n",
              "\n",
              "<style>\n",
              "  .colab-df-quickchart {\n",
              "      --bg-color: #E8F0FE;\n",
              "      --fill-color: #1967D2;\n",
              "      --hover-bg-color: #E2EBFA;\n",
              "      --hover-fill-color: #174EA6;\n",
              "      --disabled-fill-color: #AAA;\n",
              "      --disabled-bg-color: #DDD;\n",
              "  }\n",
              "\n",
              "  [theme=dark] .colab-df-quickchart {\n",
              "      --bg-color: #3B4455;\n",
              "      --fill-color: #D2E3FC;\n",
              "      --hover-bg-color: #434B5C;\n",
              "      --hover-fill-color: #FFFFFF;\n",
              "      --disabled-bg-color: #3B4455;\n",
              "      --disabled-fill-color: #666;\n",
              "  }\n",
              "\n",
              "  .colab-df-quickchart {\n",
              "    background-color: var(--bg-color);\n",
              "    border: none;\n",
              "    border-radius: 50%;\n",
              "    cursor: pointer;\n",
              "    display: none;\n",
              "    fill: var(--fill-color);\n",
              "    height: 32px;\n",
              "    padding: 0;\n",
              "    width: 32px;\n",
              "  }\n",
              "\n",
              "  .colab-df-quickchart:hover {\n",
              "    background-color: var(--hover-bg-color);\n",
              "    box-shadow: 0 1px 2px rgba(60, 64, 67, 0.3), 0 1px 3px 1px rgba(60, 64, 67, 0.15);\n",
              "    fill: var(--button-hover-fill-color);\n",
              "  }\n",
              "\n",
              "  .colab-df-quickchart-complete:disabled,\n",
              "  .colab-df-quickchart-complete:disabled:hover {\n",
              "    background-color: var(--disabled-bg-color);\n",
              "    fill: var(--disabled-fill-color);\n",
              "    box-shadow: none;\n",
              "  }\n",
              "\n",
              "  .colab-df-spinner {\n",
              "    border: 2px solid var(--fill-color);\n",
              "    border-color: transparent;\n",
              "    border-bottom-color: var(--fill-color);\n",
              "    animation:\n",
              "      spin 1s steps(1) infinite;\n",
              "  }\n",
              "\n",
              "  @keyframes spin {\n",
              "    0% {\n",
              "      border-color: transparent;\n",
              "      border-bottom-color: var(--fill-color);\n",
              "      border-left-color: var(--fill-color);\n",
              "    }\n",
              "    20% {\n",
              "      border-color: transparent;\n",
              "      border-left-color: var(--fill-color);\n",
              "      border-top-color: var(--fill-color);\n",
              "    }\n",
              "    30% {\n",
              "      border-color: transparent;\n",
              "      border-left-color: var(--fill-color);\n",
              "      border-top-color: var(--fill-color);\n",
              "      border-right-color: var(--fill-color);\n",
              "    }\n",
              "    40% {\n",
              "      border-color: transparent;\n",
              "      border-right-color: var(--fill-color);\n",
              "      border-top-color: var(--fill-color);\n",
              "    }\n",
              "    60% {\n",
              "      border-color: transparent;\n",
              "      border-right-color: var(--fill-color);\n",
              "    }\n",
              "    80% {\n",
              "      border-color: transparent;\n",
              "      border-right-color: var(--fill-color);\n",
              "      border-bottom-color: var(--fill-color);\n",
              "    }\n",
              "    90% {\n",
              "      border-color: transparent;\n",
              "      border-bottom-color: var(--fill-color);\n",
              "    }\n",
              "  }\n",
              "</style>\n",
              "\n",
              "  <script>\n",
              "    async function quickchart(key) {\n",
              "      const quickchartButtonEl =\n",
              "        document.querySelector('#' + key + ' button');\n",
              "      quickchartButtonEl.disabled = true;  // To prevent multiple clicks.\n",
              "      quickchartButtonEl.classList.add('colab-df-spinner');\n",
              "      try {\n",
              "        const charts = await google.colab.kernel.invokeFunction(\n",
              "            'suggestCharts', [key], {});\n",
              "      } catch (error) {\n",
              "        console.error('Error during call to suggestCharts:', error);\n",
              "      }\n",
              "      quickchartButtonEl.classList.remove('colab-df-spinner');\n",
              "      quickchartButtonEl.classList.add('colab-df-quickchart-complete');\n",
              "    }\n",
              "    (() => {\n",
              "      let quickchartButtonEl =\n",
              "        document.querySelector('#df-b01c3085-50fc-4d05-9ef7-f20d5a84f919 button');\n",
              "      quickchartButtonEl.style.display =\n",
              "        google.colab.kernel.accessAllowed ? 'block' : 'none';\n",
              "    })();\n",
              "  </script>\n",
              "</div>\n",
              "\n",
              "    </div>\n",
              "  </div>\n"
            ],
            "application/vnd.google.colaboratory.intrinsic+json": {
              "type": "dataframe",
              "summary": "{\n  \"name\": \"data\",\n  \"rows\": 8,\n  \"fields\": [\n    {\n      \"column\": \"temperature\",\n      \"properties\": {\n        \"dtype\": \"number\",\n        \"std\": 4463.9520696305435,\n        \"min\": 19.154485756840632,\n        \"max\": 12684.0,\n        \"num_unique_values\": 6,\n        \"samples\": [\n          12684.0,\n          63.301797540208135,\n          80.0\n        ],\n        \"semantic_type\": \"\",\n        \"description\": \"\"\n      }\n    },\n    {\n      \"column\": \"has_children\",\n      \"properties\": {\n        \"dtype\": \"number\",\n        \"std\": 4484.3244131352285,\n        \"min\": 0.0,\n        \"max\": 12684.0,\n        \"num_unique_values\": 5,\n        \"samples\": [\n          0.4141438032166509,\n          1.0,\n          0.49259297975549976\n        ],\n        \"semantic_type\": \"\",\n        \"description\": \"\"\n      }\n    },\n    {\n      \"column\": \"toCoupon_GEQ5min\",\n      \"properties\": {\n        \"dtype\": \"number\",\n        \"std\": 4484.168174175196,\n        \"min\": 0.0,\n        \"max\": 12684.0,\n        \"num_unique_values\": 3,\n        \"samples\": [\n          12684.0,\n          1.0,\n          0.0\n        ],\n        \"semantic_type\": \"\",\n        \"description\": \"\"\n      }\n    },\n    {\n      \"column\": \"toCoupon_GEQ15min\",\n      \"properties\": {\n        \"dtype\": \"number\",\n        \"std\": 4484.26627982341,\n        \"min\": 0.0,\n        \"max\": 12684.0,\n        \"num_unique_values\": 5,\n        \"samples\": [\n          0.5614947965941344,\n          1.0,\n          0.49622354161496957\n        ],\n        \"semantic_type\": \"\",\n        \"description\": \"\"\n      }\n    },\n    {\n      \"column\": \"toCoupon_GEQ25min\",\n      \"properties\": {\n        \"dtype\": \"number\",\n        \"std\": 4484.398333003225,\n        \"min\": 0.0,\n        \"max\": 12684.0,\n        \"num_unique_values\": 5,\n        \"samples\": [\n          0.11912645853043204,\n          1.0,\n          0.32395002563525804\n        ],\n        \"semantic_type\": \"\",\n        \"description\": \"\"\n      }\n    },\n    {\n      \"column\": \"direction_same\",\n      \"properties\": {\n        \"dtype\": \"number\",\n        \"std\": 4484.389123019064,\n        \"min\": 0.0,\n        \"max\": 12684.0,\n        \"num_unique_values\": 5,\n        \"samples\": [\n          0.21475875118259224,\n          1.0,\n          0.41067106826403527\n        ],\n        \"semantic_type\": \"\",\n        \"description\": \"\"\n      }\n    },\n    {\n      \"column\": \"direction_opp\",\n      \"properties\": {\n        \"dtype\": \"number\",\n        \"std\": 4484.208787872154,\n        \"min\": 0.0,\n        \"max\": 12684.0,\n        \"num_unique_values\": 5,\n        \"samples\": [\n          0.7852412488174078,\n          1.0,\n          0.41067106826403527\n        ],\n        \"semantic_type\": \"\",\n        \"description\": \"\"\n      }\n    },\n    {\n      \"column\": \"Y\",\n      \"properties\": {\n        \"dtype\": \"number\",\n        \"std\": 4484.265975327714,\n        \"min\": 0.0,\n        \"max\": 12684.0,\n        \"num_unique_values\": 5,\n        \"samples\": [\n          0.5684326710816777,\n          1.0,\n          0.495314356461185\n        ],\n        \"semantic_type\": \"\",\n        \"description\": \"\"\n      }\n    }\n  ]\n}"
            }
          },
          "metadata": {},
          "execution_count": 9
        }
      ]
    },
    {
      "cell_type": "code",
      "source": [
        "cat_col = list(data.select_dtypes(\"object\").columns)\n",
        "# Printing number of count of each unique value in each column\n",
        "for column in cat_col:\n",
        "    print(data[column].value_counts().reset_index())\n",
        "    print(\"-\" * 50)\n"
      ],
      "metadata": {
        "colab": {
          "base_uri": "https://localhost:8080/"
        },
        "id": "XZxlwdIN5p_K",
        "outputId": "50087cfc-1620-4ae6-8a20-3b5998aebfad"
      },
      "execution_count": 10,
      "outputs": [
        {
          "output_type": "stream",
          "name": "stdout",
          "text": [
            "       destination  count\n",
            "0  No Urgent Place   6283\n",
            "1             Home   3237\n",
            "2             Work   3164\n",
            "--------------------------------------------------\n",
            "   passenger  count\n",
            "0      Alone   7305\n",
            "1  Friend(s)   3298\n",
            "2    Partner   1075\n",
            "3     Kid(s)   1006\n",
            "--------------------------------------------------\n",
            "  weather  count\n",
            "0   Sunny  10069\n",
            "1   Snowy   1405\n",
            "2   Rainy   1210\n",
            "--------------------------------------------------\n",
            "   time  count\n",
            "0   6PM   3230\n",
            "1   7AM   3164\n",
            "2  10AM   2275\n",
            "3   2PM   2009\n",
            "4  10PM   2006\n",
            "--------------------------------------------------\n",
            "                  coupon  count\n",
            "0           Coffee House   3996\n",
            "1        Restaurant(<20)   2786\n",
            "2  Carry out & Take away   2393\n",
            "3                    Bar   2017\n",
            "4      Restaurant(20-50)   1492\n",
            "--------------------------------------------------\n",
            "  expiration  count\n",
            "0         1d   7091\n",
            "1         2h   5593\n",
            "--------------------------------------------------\n",
            "   gender  count\n",
            "0  Female   6511\n",
            "1    Male   6173\n",
            "--------------------------------------------------\n",
            "       age  count\n",
            "0       21   2653\n",
            "1       26   2559\n",
            "2       31   2039\n",
            "3   50plus   1788\n",
            "4       36   1319\n",
            "5       41   1093\n",
            "6       46    686\n",
            "7  below21    547\n",
            "--------------------------------------------------\n",
            "       maritalStatus  count\n",
            "0    Married partner   5100\n",
            "1             Single   4752\n",
            "2  Unmarried partner   2186\n",
            "3           Divorced    516\n",
            "4            Widowed    130\n",
            "--------------------------------------------------\n",
            "                                education  count\n",
            "0                Some college - no degree   4351\n",
            "1                        Bachelors degree   4335\n",
            "2  Graduate degree (Masters or Doctorate)   1852\n",
            "3                       Associates degree   1153\n",
            "4                    High School Graduate    905\n",
            "5                        Some High School     88\n",
            "--------------------------------------------------\n",
            "                                   occupation  count\n",
            "0                                  Unemployed   1870\n",
            "1                                     Student   1584\n",
            "2                     Computer & Mathematical   1408\n",
            "3                             Sales & Related   1093\n",
            "4                  Education&Training&Library    943\n",
            "5                                  Management    838\n",
            "6             Office & Administrative Support    639\n",
            "7    Arts Design Entertainment Sports & Media    629\n",
            "8                        Business & Financial    544\n",
            "9                                     Retired    495\n",
            "10         Food Preparation & Serving Related    298\n",
            "11       Healthcare Practitioners & Technical    244\n",
            "12                         Healthcare Support    242\n",
            "13                Community & Social Services    241\n",
            "14                                      Legal    219\n",
            "15           Transportation & Material Moving    218\n",
            "16                 Architecture & Engineering    175\n",
            "17                    Personal Care & Service    175\n",
            "18                         Protective Service    175\n",
            "19               Life Physical Social Science    170\n",
            "20                  Construction & Extraction    154\n",
            "21          Installation Maintenance & Repair    133\n",
            "22                     Production Occupations    110\n",
            "23  Building & Grounds Cleaning & Maintenance     44\n",
            "24                 Farming Fishing & Forestry     43\n",
            "--------------------------------------------------\n",
            "             income  count\n",
            "0   $25000 - $37499   2013\n",
            "1   $12500 - $24999   1831\n",
            "2   $37500 - $49999   1805\n",
            "3   $100000 or More   1736\n",
            "4   $50000 - $62499   1659\n",
            "5  Less than $12500   1042\n",
            "6   $87500 - $99999    895\n",
            "7   $75000 - $87499    857\n",
            "8   $62500 - $74999    846\n",
            "--------------------------------------------------\n",
            "                                        car  count\n",
            "0                    Scooter and motorcycle     22\n",
            "1                                    Mazda5     22\n",
            "2                              do not drive     22\n",
            "3                                 crossover     21\n",
            "4  Car that is too old to install Onstar :D     21\n",
            "--------------------------------------------------\n",
            "     Bar  count\n",
            "0  never   5197\n",
            "1  less1   3482\n",
            "2    1~3   2473\n",
            "3    4~8   1076\n",
            "4    gt8    349\n",
            "--------------------------------------------------\n",
            "  CoffeeHouse  count\n",
            "0       less1   3385\n",
            "1         1~3   3225\n",
            "2       never   2962\n",
            "3         4~8   1784\n",
            "4         gt8   1111\n",
            "--------------------------------------------------\n",
            "  CarryAway  count\n",
            "0       1~3   4672\n",
            "1       4~8   4258\n",
            "2     less1   1856\n",
            "3       gt8   1594\n",
            "4     never    153\n",
            "--------------------------------------------------\n",
            "  RestaurantLessThan20  count\n",
            "0                  1~3   5376\n",
            "1                  4~8   3580\n",
            "2                less1   2093\n",
            "3                  gt8   1285\n",
            "4                never    220\n",
            "--------------------------------------------------\n",
            "  Restaurant20To50  count\n",
            "0            less1   6077\n",
            "1              1~3   3290\n",
            "2            never   2136\n",
            "3              4~8    728\n",
            "4              gt8    264\n",
            "--------------------------------------------------\n"
          ]
        }
      ]
    },
    {
      "cell_type": "code",
      "source": [
        "#check for duplicates\n",
        "data.duplicated().value_counts()"
      ],
      "metadata": {
        "colab": {
          "base_uri": "https://localhost:8080/"
        },
        "id": "8vfMPYzq74Qo",
        "outputId": "da6cd8bb-a62f-4534-e54b-a75c75892c46"
      },
      "execution_count": 11,
      "outputs": [
        {
          "output_type": "execute_result",
          "data": {
            "text/plain": [
              "False    12610\n",
              "True        74\n",
              "Name: count, dtype: int64"
            ]
          },
          "metadata": {},
          "execution_count": 11
        }
      ]
    },
    {
      "cell_type": "code",
      "source": [
        "# drop duplicate rows and check number of rows after drop\n",
        "data.drop_duplicates(keep=False, inplace=True)\n",
        "data.shape"
      ],
      "metadata": {
        "id": "qxrR5yWN8fyA",
        "colab": {
          "base_uri": "https://localhost:8080/"
        },
        "outputId": "d3ca6e91-9f9b-462c-a037-aec9370eb3f4"
      },
      "execution_count": 12,
      "outputs": [
        {
          "output_type": "execute_result",
          "data": {
            "text/plain": [
              "(12536, 26)"
            ]
          },
          "metadata": {},
          "execution_count": 12
        }
      ]
    },
    {
      "cell_type": "code",
      "source": [
        "#Convert Age feature to numeric\n",
        "data['age'].replace({'below21': 20, '50plus': 50}, inplace=True)\n",
        "data['age']=data['age'].astype(int)\n",
        "data['age'].info()"
      ],
      "metadata": {
        "colab": {
          "base_uri": "https://localhost:8080/"
        },
        "id": "j-4L2zwrz6Tu",
        "outputId": "74ee10c2-661f-40cb-c050-1e09751e08f3"
      },
      "execution_count": 13,
      "outputs": [
        {
          "output_type": "stream",
          "name": "stdout",
          "text": [
            "<class 'pandas.core.series.Series'>\n",
            "Index: 12536 entries, 0 to 12683\n",
            "Series name: age\n",
            "Non-Null Count  Dtype\n",
            "--------------  -----\n",
            "12536 non-null  int64\n",
            "dtypes: int64(1)\n",
            "memory usage: 195.9 KB\n"
          ]
        }
      ]
    },
    {
      "cell_type": "code",
      "source": [
        "#check for missing values\n",
        "data.isnull().sum()"
      ],
      "metadata": {
        "colab": {
          "base_uri": "https://localhost:8080/"
        },
        "id": "qCm9CqyG4Wrn",
        "outputId": "bb99b715-00b7-4d71-d62d-7a31bfe854c8"
      },
      "execution_count": 14,
      "outputs": [
        {
          "output_type": "execute_result",
          "data": {
            "text/plain": [
              "destination                 0\n",
              "passenger                   0\n",
              "weather                     0\n",
              "temperature                 0\n",
              "time                        0\n",
              "coupon                      0\n",
              "expiration                  0\n",
              "gender                      0\n",
              "age                         0\n",
              "maritalStatus               0\n",
              "has_children                0\n",
              "education                   0\n",
              "occupation                  0\n",
              "income                      0\n",
              "car                     12428\n",
              "Bar                       107\n",
              "CoffeeHouse               217\n",
              "CarryAway                 149\n",
              "RestaurantLessThan20      128\n",
              "Restaurant20To50          189\n",
              "toCoupon_GEQ5min            0\n",
              "toCoupon_GEQ15min           0\n",
              "toCoupon_GEQ25min           0\n",
              "direction_same              0\n",
              "direction_opp               0\n",
              "Y                           0\n",
              "dtype: int64"
            ]
          },
          "metadata": {},
          "execution_count": 14
        }
      ]
    },
    {
      "cell_type": "markdown",
      "metadata": {
        "id": "K58OpxTNfQiH"
      },
      "source": [
        "3. Decide what to do about your missing data -- drop, replace, other..."
      ]
    },
    {
      "cell_type": "code",
      "execution_count": 15,
      "metadata": {
        "id": "0PG_O-HOfQiH"
      },
      "outputs": [],
      "source": [
        "# Drop variable with most missing values, 'car'\n",
        "data.drop(columns =['car'], inplace=True)"
      ]
    },
    {
      "cell_type": "code",
      "source": [
        "#Fill missing values in other variables with 'never'\n",
        "data['Bar'] = data['Bar'].fillna('never')\n",
        "data['CoffeeHouse'] = data['CoffeeHouse'].fillna('never')\n",
        "data['CarryAway'] = data['CarryAway'].fillna('never')\n",
        "data['RestaurantLessThan20'] = data['RestaurantLessThan20'].fillna('never')\n",
        "data['Restaurant20To50'] = data['Restaurant20To50'].fillna('never')\n",
        "#Check missing values after changes\n",
        "data.isnull().sum()\n"
      ],
      "metadata": {
        "colab": {
          "base_uri": "https://localhost:8080/"
        },
        "id": "mLGfnbUYErxa",
        "outputId": "645acc1a-921a-4452-fa01-bf17684eb4dc"
      },
      "execution_count": 16,
      "outputs": [
        {
          "output_type": "execute_result",
          "data": {
            "text/plain": [
              "destination             0\n",
              "passenger               0\n",
              "weather                 0\n",
              "temperature             0\n",
              "time                    0\n",
              "coupon                  0\n",
              "expiration              0\n",
              "gender                  0\n",
              "age                     0\n",
              "maritalStatus           0\n",
              "has_children            0\n",
              "education               0\n",
              "occupation              0\n",
              "income                  0\n",
              "Bar                     0\n",
              "CoffeeHouse             0\n",
              "CarryAway               0\n",
              "RestaurantLessThan20    0\n",
              "Restaurant20To50        0\n",
              "toCoupon_GEQ5min        0\n",
              "toCoupon_GEQ15min       0\n",
              "toCoupon_GEQ25min       0\n",
              "direction_same          0\n",
              "direction_opp           0\n",
              "Y                       0\n",
              "dtype: int64"
            ]
          },
          "metadata": {},
          "execution_count": 16
        }
      ]
    },
    {
      "cell_type": "markdown",
      "metadata": {
        "id": "4aLN4tI9fQiH"
      },
      "source": [
        "4. What proportion of the total observations chose to accept the coupon?\n",
        "\n"
      ]
    },
    {
      "cell_type": "code",
      "source": [
        "# Count the Yes and No responses and calculate proportion of Yes responses\n",
        "\n",
        "accepted_coupon=data.query('Y == 1')\n",
        "percent_yes = data.value_counts('Y',normalize=True)\n",
        "print(\"Number of drivers who were offered a coupon:\", len(data))\n",
        "print(\"Number of drivers who accepted the coupon:\", len(accepted_coupon))\n",
        "print(\"Percentage of drivers who accepted the coupon:\", round(len(accepted_coupon)/len(data)*100),\"%)\")"
      ],
      "metadata": {
        "colab": {
          "base_uri": "https://localhost:8080/"
        },
        "id": "8IsTjTVk5mIU",
        "outputId": "603af3e0-96c2-4d56-c9f8-1b1091c901fb"
      },
      "execution_count": 17,
      "outputs": [
        {
          "output_type": "stream",
          "name": "stdout",
          "text": [
            "Number of drivers who were offered a coupon: 12536\n",
            "Number of drivers who accepted the coupon: 7104\n",
            "Percentage of drivers who accepted the coupon: 57 %)\n"
          ]
        }
      ]
    },
    {
      "cell_type": "markdown",
      "metadata": {
        "id": "wadHAP0yfQiH"
      },
      "source": [
        "5. Use a bar plot to visualize the `coupon` column."
      ]
    },
    {
      "cell_type": "code",
      "source": [
        "coupon_type = data[['coupon', 'Y']].groupby('coupon').value_counts('Y').reset_index()\n",
        "coupon_type['Accepted'] = coupon_type['Y'].astype('str')\n",
        "ax = sns.barplot(data=coupon_type, x='count', y='coupon', hue='Accepted', orient='h')\n",
        "ax.legend(handles=ax.get_legend_handles_labels()[0], labels=['No', 'Yes'], title='Accepted')\n",
        "ax.set_ylabel('Coupon Type')\n",
        "ax.set_xlabel('Count')"
      ],
      "metadata": {
        "colab": {
          "base_uri": "https://localhost:8080/",
          "height": 467
        },
        "id": "4JVE-akS1-fL",
        "outputId": "8d838fde-efb4-49ca-e9a1-4d5a3a6d4f32"
      },
      "execution_count": 18,
      "outputs": [
        {
          "output_type": "execute_result",
          "data": {
            "text/plain": [
              "Text(0.5, 0, 'Count')"
            ]
          },
          "metadata": {},
          "execution_count": 18
        },
        {
          "output_type": "display_data",
          "data": {
            "text/plain": [
              "<Figure size 640x480 with 1 Axes>"
            ],
            "image/png": "[encoded data removed]"
          },
          "metadata": {}
        }
      ]
    },
    {
      "cell_type": "markdown",
      "metadata": {
        "id": "ThUEu_HIfQiH"
      },
      "source": [
        "6. Use a histogram to visualize the temperature column."
      ]
    },
    {
      "cell_type": "code",
      "source": [
        "sns.displot(data, x=\"temperature\", hue='Y', multiple=\"dodge\", binwidth=10, legend=False)\n",
        "plt.legend(title='Coupon Accepted', labels=['Yes', 'No'])\n",
        "plt.title(\"Temperature\")\n",
        "plt.xlabel('Temperature in F')\n",
        "print('Drivers were more likely to accept coupons during warm weather')\n"
      ],
      "metadata": {
        "colab": {
          "base_uri": "https://localhost:8080/",
          "height": 544
        },
        "id": "LfD01luX3NNc",
        "outputId": "e8f716fb-f27d-47ea-b9d9-126f63670b88"
      },
      "execution_count": 19,
      "outputs": [
        {
          "output_type": "stream",
          "name": "stdout",
          "text": [
            "Drivers were more likely to accept coupons during warm weather\n"
          ]
        },
        {
          "output_type": "display_data",
          "data": {
            "text/plain": [
              "<Figure size 500x500 with 1 Axes>"
            ],
            "image/png": "[encoded data removed]"
          },
          "metadata": {}
        }
      ]
    },
    {
      "cell_type": "markdown",
      "metadata": {
        "id": "ro8J9RTAfQiI"
      },
      "source": [
        "**Investigating the Bar Coupons**\n",
        "\n",
        "Now, we will lead you through an exploration of just the bar related coupons.  \n",
        "\n",
        "1. Create a new `DataFrame` that contains just the bar coupons.\n"
      ]
    },
    {
      "cell_type": "code",
      "execution_count": 20,
      "metadata": {
        "colab": {
          "base_uri": "https://localhost:8080/"
        },
        "id": "zYVTHcw-fQiI",
        "outputId": "dddd65ca-dc48-4fa3-9c80-5415a11ee2a8"
      },
      "outputs": [
        {
          "output_type": "execute_result",
          "data": {
            "text/plain": [
              "(2003, 25)"
            ]
          },
          "metadata": {},
          "execution_count": 20
        }
      ],
      "source": [
        "#New dataframe containing only Bar coupons\n",
        "data_bar = data[data[\"coupon\"] == \"Bar\"]\n",
        "data_bar.shape"
      ]
    },
    {
      "cell_type": "markdown",
      "metadata": {
        "id": "wV7vtlxefQiI"
      },
      "source": [
        "2. What proportion of bar coupons were accepted?\n"
      ]
    },
    {
      "cell_type": "code",
      "execution_count": 21,
      "metadata": {
        "colab": {
          "base_uri": "https://localhost:8080/"
        },
        "id": "OxQpeowNfQiI",
        "outputId": "bff2f8d3-5b3e-40fe-c1e2-8d906b904e2d"
      },
      "outputs": [
        {
          "output_type": "stream",
          "name": "stdout",
          "text": [
            "Number of bar coupons offered to drivers: 2003\n",
            "Number of drivers who accepted the bar coupon: 821\n",
            "Percentage of drivers who accepted the coupon: 41 %)\n"
          ]
        }
      ],
      "source": [
        "# Calculate proportion of Yes responses for Bar coupons\n",
        "bar_accept=data_bar.query('Y == 1')\n",
        "percent_accept=len(bar_accept)/len(data_bar)\n",
        "print(\"Number of bar coupons offered to drivers:\", len(data_bar))\n",
        "print(\"Number of drivers who accepted the bar coupon:\", len(bar_accept))\n",
        "print(\"Percentage of drivers who accepted the coupon:\", round(percent_accept*100),\"%)\")"
      ]
    },
    {
      "cell_type": "code",
      "source": [
        "cat_col = list(bar_accept.select_dtypes(\"object\").columns)\n",
        "# Printing number of count of each unique value in each column\n",
        "for column in cat_col:\n",
        "    print(bar_accept[column].value_counts().reset_index())\n",
        "    print(\"-\" * 50)"
      ],
      "metadata": {
        "colab": {
          "base_uri": "https://localhost:8080/"
        },
        "id": "3CV7LByGKhXA",
        "outputId": "10b025d1-fcc4-459b-aa99-188407509a88"
      },
      "execution_count": 22,
      "outputs": [
        {
          "output_type": "stream",
          "name": "stdout",
          "text": [
            "       destination  count\n",
            "0  No Urgent Place    414\n",
            "1             Home    229\n",
            "2             Work    178\n",
            "--------------------------------------------------\n",
            "   passenger  count\n",
            "0      Alone    487\n",
            "1  Friend(s)    186\n",
            "2    Partner    105\n",
            "3     Kid(s)     43\n",
            "--------------------------------------------------\n",
            "  weather  count\n",
            "0   Sunny    591\n",
            "1   Rainy    154\n",
            "2   Snowy     76\n",
            "--------------------------------------------------\n",
            "   time  count\n",
            "0   6PM    262\n",
            "1  10PM    182\n",
            "2   7AM    178\n",
            "3  10AM    159\n",
            "4   2PM     40\n",
            "--------------------------------------------------\n",
            "  coupon  count\n",
            "0    Bar    821\n",
            "--------------------------------------------------\n",
            "  expiration  count\n",
            "0         1d    639\n",
            "1         2h    182\n",
            "--------------------------------------------------\n",
            "   gender  count\n",
            "0    Male    467\n",
            "1  Female    354\n",
            "--------------------------------------------------\n",
            "       maritalStatus  count\n",
            "0             Single    361\n",
            "1    Married partner    284\n",
            "2  Unmarried partner    151\n",
            "3           Divorced     18\n",
            "4            Widowed      7\n",
            "--------------------------------------------------\n",
            "                                education  count\n",
            "0                Some college - no degree    316\n",
            "1                        Bachelors degree    281\n",
            "2  Graduate degree (Masters or Doctorate)     98\n",
            "3                    High School Graduate     58\n",
            "4                       Associates degree     57\n",
            "5                        Some High School     11\n",
            "--------------------------------------------------\n",
            "                                   occupation  count\n",
            "0                                     Student    120\n",
            "1                                  Unemployed     91\n",
            "2                     Computer & Mathematical     85\n",
            "3                             Sales & Related     80\n",
            "4                                  Management     61\n",
            "5             Office & Administrative Support     53\n",
            "6                        Business & Financial     41\n",
            "7                  Education&Training&Library     40\n",
            "8    Arts Design Entertainment Sports & Media     33\n",
            "9                          Healthcare Support     29\n",
            "10         Food Preparation & Serving Related     23\n",
            "11       Healthcare Practitioners & Technical     18\n",
            "12                 Architecture & Engineering     18\n",
            "13                                    Retired     18\n",
            "14               Life Physical Social Science     15\n",
            "15                         Protective Service     13\n",
            "16                  Construction & Extraction     13\n",
            "17                Community & Social Services     13\n",
            "18                     Production Occupations     12\n",
            "19                                      Legal     12\n",
            "20                    Personal Care & Service     10\n",
            "21           Transportation & Material Moving      9\n",
            "22          Installation Maintenance & Repair      8\n",
            "23                 Farming Fishing & Forestry      4\n",
            "24  Building & Grounds Cleaning & Maintenance      2\n",
            "--------------------------------------------------\n",
            "             income  count\n",
            "0   $25000 - $37499    143\n",
            "1   $100000 or More    136\n",
            "2   $12500 - $24999    120\n",
            "3   $50000 - $62499    108\n",
            "4   $37500 - $49999     93\n",
            "5  Less than $12500     76\n",
            "6   $75000 - $87499     57\n",
            "7   $62500 - $74999     46\n",
            "8   $87500 - $99999     42\n",
            "--------------------------------------------------\n",
            "     Bar  count\n",
            "0    1~3    257\n",
            "1  less1    247\n",
            "2  never    164\n",
            "3    4~8    117\n",
            "4    gt8     36\n",
            "--------------------------------------------------\n",
            "  CoffeeHouse  count\n",
            "0         1~3    230\n",
            "1       less1    204\n",
            "2       never    174\n",
            "3         4~8    135\n",
            "4         gt8     78\n",
            "--------------------------------------------------\n",
            "  CarryAway  count\n",
            "0       1~3    303\n",
            "1       4~8    280\n",
            "2     less1    110\n",
            "3       gt8    108\n",
            "4     never     20\n",
            "--------------------------------------------------\n",
            "  RestaurantLessThan20  count\n",
            "0                  1~3    348\n",
            "1                  4~8    240\n",
            "2                less1    118\n",
            "3                  gt8     85\n",
            "4                never     30\n",
            "--------------------------------------------------\n",
            "  Restaurant20To50  count\n",
            "0            less1    379\n",
            "1              1~3    226\n",
            "2            never    118\n",
            "3              4~8     76\n",
            "4              gt8     22\n",
            "--------------------------------------------------\n"
          ]
        }
      ]
    },
    {
      "cell_type": "markdown",
      "metadata": {
        "id": "6LNjjIFafQiI"
      },
      "source": [
        "3. Compare the acceptance rate between those who went to a bar 3 or fewer times a month to those who went more.\n"
      ]
    },
    {
      "cell_type": "code",
      "execution_count": 23,
      "metadata": {
        "colab": {
          "base_uri": "https://localhost:8080/"
        },
        "id": "3wtP9ZJQfQiI",
        "outputId": "bde3e7a5-2ef0-4d3c-a1ab-bcd2d2a4cb8c"
      },
      "outputs": [
        {
          "output_type": "stream",
          "name": "stdout",
          "text": [
            "The coupon acceptance rate is calculated based on the total drivers offered the Bar coupon: 2003\n",
            "Number of drivers who accepted coupon and go to bars MORE than 3 times per month: 153\n",
            "Coupon acceptance rate: 8 %)\n",
            "Number of drivers who accepted coupon and go to bars LESS than 3 times per month: 668\n",
            "Coupon acceptance rate: 33 %)\n"
          ]
        }
      ],
      "source": [
        "#Acceptance rates of Bar coupon by frequency of bar visits\n",
        "bar_freq = bar_accept.query('Bar == \"4~8\" or Bar == \"gt8\"')\n",
        "percent_freq_accept=len(bar_freq)/len(data_bar)\n",
        "bar_infreq = bar_accept.query('Bar == \"never\" or Bar == \"1~3\" or Bar == \"less1\"')\n",
        "percent_infreq_accept=len(bar_infreq)/len(data_bar)\n",
        "print(\"The coupon acceptance rate is calculated based on the total drivers offered the Bar coupon: 2003\")\n",
        "print(\"Number of drivers who accepted coupon and go to bars MORE than 3 times per month:\", len(bar_freq))\n",
        "print(\"Coupon acceptance rate:\", round(percent_freq_accept*100), \"%)\")\n",
        "print(\"Number of drivers who accepted coupon and go to bars LESS than 3 times per month:\", len(bar_infreq))\n",
        "print(\"Coupon acceptance rate:\", round(percent_infreq_accept*100), \"%)\")\n",
        "#print(\"Number of drivers who accepted coupon and go to bars LESS than 3 times per month:\", len(bar_infreq))\n",
        "#print(\"Coupon acceptance rate:\", len(bar_accept)/len(bar_infreq)\n",
        "#px.histogram(data_bar, x = 'Bar', color='Y')"
      ]
    },
    {
      "cell_type": "markdown",
      "metadata": {
        "id": "LdUHmJ-RfQiI"
      },
      "source": [
        "4. Compare the acceptance rate between drivers who go to a bar more than once a month and are over the age of 25 to the all others.  Is there a difference?\n"
      ]
    },
    {
      "cell_type": "code",
      "source": [
        "bar_1m_25plus = bar_accept.query('(Bar == \"1~3\" or Bar == \"gt8\" or Bar == \"4~8\") & (age > 25)')\n",
        "all_others=len(data_bar)-len(bar_1m_25plus)\n",
        "print(\"Number of drivers who accepted coupon, go to bars more than once a month, and are over 25:\", len(bar_1m_25plus))\n",
        "print(\"Coupon acceptance rate:\", round(len(bar_1m_25plus) / len(data_bar) * 100), \"%)\")\n",
        "print(\"Number of all other drivers who accepted coupon:\", len(bar_accept)-len(bar_1m_25plus))\n",
        "print(\"Coupon acceptance rate for all others:\", round(all_others/ len(data_bar) * 100), \"%)\")"
      ],
      "metadata": {
        "colab": {
          "base_uri": "https://localhost:8080/"
        },
        "id": "G_2v2Nwyzil8",
        "outputId": "5e2fa286-080b-4bb5-eb25-dccd562e1152"
      },
      "execution_count": 24,
      "outputs": [
        {
          "output_type": "stream",
          "name": "stdout",
          "text": [
            "Number of drivers who accepted coupon, go to bars more than once a month, and are over 25: 292\n",
            "Coupon acceptance rate: 15 %)\n",
            "Number of all other drivers who accepted coupon: 529\n",
            "Coupon acceptance rate for all others: 85 %)\n"
          ]
        }
      ]
    },
    {
      "cell_type": "markdown",
      "metadata": {
        "id": "9Qjeo4_gfQiI"
      },
      "source": [
        "5. Use the same process to compare the acceptance rate between drivers who go to bars more than once a month and had passengers that were not a kid and had occupations other than farming, fishing, or forestry.\n"
      ]
    },
    {
      "cell_type": "code",
      "execution_count": 26,
      "metadata": {
        "id": "BC-6A6VdfQiI",
        "colab": {
          "base_uri": "https://localhost:8080/"
        },
        "outputId": "0d1a2f0c-92ad-47ad-b35a-c291f3863dd9"
      },
      "outputs": [
        {
          "output_type": "stream",
          "name": "stdout",
          "text": [
            "Number of drivers who accepted coupon, go to bars 1+ times/month, had adult passengers and not in Farming: 157\n",
            "Coupon acceptance rate: 19 %)\n"
          ]
        }
      ],
      "source": [
        "bar_freq= [\"1~3\", \"gt8\", \"4~8\"]\n",
        "passenger= [\"Alone\", \"Kid\\(s\\)\"]\n",
        "occupation= [\"Farming Fishing & Forestry\"]\n",
        "\n",
        "bar_1m_nokid=bar_accept.query('(Bar == @bar_freq) & (passenger != @passenger) & (occupation != @occupation)')\n",
        "all_others=len(bar_accept)-len(bar_1m_nokid.shape)\n",
        "print(\"Number of drivers who accepted coupon, go to bars 1+ times/month, had adult passengers and not in Farming:\", len(bar_1m_nokid))\n",
        "print(\"Coupon acceptance rate:\", round(len(bar_1m_nokid) / len(bar_accept) * 100), \"%)\")"
      ]
    },
    {
      "cell_type": "markdown",
      "metadata": {
        "id": "ZiOcgTvpfQiI"
      },
      "source": [
        "6. Compare the acceptance rates between those drivers who:\n",
        "\n",
        "- go to bars more than once a month, had passengers that were not a kid, and were not widowed *OR*\n",
        "- go to bars more than once a month and are under the age of 30 *OR*\n",
        "- go to cheap restaurants more than 4 times a month and income is less than 50K.\n",
        "\n"
      ]
    },
    {
      "cell_type": "code",
      "execution_count": 28,
      "metadata": {
        "id": "ik3OEbQofQiJ",
        "colab": {
          "base_uri": "https://localhost:8080/"
        },
        "outputId": "c8cb9504-41b3-4290-bd46-fc87079ab2e5"
      },
      "outputs": [
        {
          "output_type": "stream",
          "name": "stdout",
          "text": [
            "Number of drivers who accepted that go to bars more than once a month, had adult passengers, and were not widowed: 157\n",
            "Coupon acceptance rate: 19 %)\n"
          ]
        }
      ],
      "source": [
        "bar_1m_nokid_nowidow=bar_accept.query('(Bar == @bar_freq) & (passenger != @passenger) & (maritalStatus != \"Widowed\")')\n",
        "print(\"Number of drivers who accepted that go to bars more than once a month, had adult passengers, and were not widowed:\", len(bar_1m_nokid_nowidow))\n",
        "print(\"Coupon acceptance rate:\", round(len(bar_1m_nokid_nowidow) / len(bar_accept) * 100), \"%)\")"
      ]
    },
    {
      "cell_type": "code",
      "source": [
        "bar_1m_under30=bar_accept.query('(Bar == @bar_freq) & (age<30)')\n",
        "print(\"Number of drivers who accepted that go to bars more than once a month, and are under 30:\", len(bar_1m_under30))\n",
        "print(\"Coupon acceptance rate:\", round(len(bar_1m_under30) / len(bar_accept) * 100), \"%)\")"
      ],
      "metadata": {
        "colab": {
          "base_uri": "https://localhost:8080/"
        },
        "id": "1Ov_gGV4MjSH",
        "outputId": "46b620f0-226e-42c8-96b8-20afee6fc21f"
      },
      "execution_count": 29,
      "outputs": [
        {
          "output_type": "stream",
          "name": "stdout",
          "text": [
            "Number of drivers who accepted that go to bars more than once a month, and are under 30: 249\n",
            "Coupon acceptance rate: 30 %)\n"
          ]
        }
      ]
    },
    {
      "cell_type": "code",
      "source": [
        "cheap_rest=[\"4~8\", \"gt8\"]\n",
        "income50k=[\"Less than $12500\", \"$12500 - $24999\", \"$25000 - $37499\", \"$37500 - $49999\"]\n",
        "bar_rest_inc50k=bar_accept.query('(RestaurantLessThan20==@cheap_rest) & (income==@income50k)')\n",
        "print(\"Number of drivers who accepted that go to cheap restaurants 4+ times a month and income <50k:\", len(bar_rest_inc50k))\n",
        "print(\"Coupon acceptance rate:\", round(len(bar_rest_inc50k) / len(bar_accept) * 100), \"%)\")"
      ],
      "metadata": {
        "colab": {
          "base_uri": "https://localhost:8080/"
        },
        "id": "jrA3MnpuNAKb",
        "outputId": "c62d3da3-689a-4b84-a93f-a225d9d7e51e"
      },
      "execution_count": 30,
      "outputs": [
        {
          "output_type": "stream",
          "name": "stdout",
          "text": [
            "Number of drivers who accepted that go to cheap restaurants 4+ times a month and income <50k: 156\n",
            "Coupon acceptance rate: 19 %)\n"
          ]
        }
      ]
    },
    {
      "cell_type": "markdown",
      "metadata": {
        "id": "SAa0_CbLfQiJ"
      },
      "source": [
        "7.  Based on these observations, what do you hypothesize about drivers who accepted the bar coupons?"
      ]
    },
    {
      "cell_type": "markdown",
      "source": [
        "We observe that no drivers who were in Farming occupation or were widowed went to bars more than once a month, so these filters did not affect the results.\n",
        "\n",
        "The Bar coupon acceptance rate was much higher among certain groups of drivers:\n",
        "\n",
        "*   those who went to bars less frequently, fewer than 3 times a month, were 4x more likely to accept the coupon\n",
        "*   about 1 in 5 drivers who went to bars more than once a month and had adult passengers accepted the coupon; the rate was higher for younger drivers under 30, about 1 in 3\n",
        "*   about 1 in 5 drivers who frequent cheap restaurants, more than 4 times a month, and have income less than 50K accepted the coupon\n",
        "\n",
        "We conclude that drivers who were between 25 and 30, who prefer cheaper restaurants, and who were traveling with adult passengers were likely to accept the Bar coupon."
      ],
      "metadata": {
        "id": "X-X9Kk2jPn4H"
      }
    },
    {
      "cell_type": "markdown",
      "metadata": {
        "id": "GB1q5R3sfQiJ"
      },
      "source": [
        "# **Independent Investigation**\n",
        "\n",
        "Using the bar coupon example as motivation, you are to explore one of the other coupon groups and try to determine the characteristics of passengers who accept the coupons.  "
      ]
    },
    {
      "cell_type": "markdown",
      "source": [
        "**Exploration of dataset**\n",
        "\n",
        "Before I investigate an individual coupon, I am curious about other potential influences on drivers accepting a coupon in general, such as time, temperature, direction of travel and closeness to the coupon destination. The following plots explore these features in the total dataset."
      ],
      "metadata": {
        "id": "_AVgH9XiZscb"
      }
    },
    {
      "cell_type": "code",
      "source": [
        "g=sns.displot(data, x = 'age', hue='Y', col='gender', multiple=\"dodge\", legend=False)\n",
        "plt.legend(title='Coupon Accepted',  labels=['Yes', 'No'])\n",
        "plt.title(\"Driver Age and Gender\")\n",
        "print(\"Drivers age 30 or under and male were more likely to accept coupons\")"
      ],
      "metadata": {
        "colab": {
          "base_uri": "https://localhost:8080/",
          "height": 528
        },
        "id": "JI4n_BKpooS4",
        "outputId": "d341c764-9ed5-4e46-c48c-9702e8ba9a53"
      },
      "execution_count": null,
      "outputs": [
        {
          "output_type": "stream",
          "name": "stdout",
          "text": [
            "Younger and male drivers were more likely to accept coupons\n"
          ]
        },
        {
          "output_type": "display_data",
          "data": {
            "text/plain": [
              "<Figure size 1000x500 with 2 Axes>"
            ],
            "image/png": "[encoded data removed]"
          },
          "metadata": {}
        }
      ]
    },
    {
      "cell_type": "code",
      "execution_count": null,
      "metadata": {
        "id": "Kscvv_yAfQiJ",
        "colab": {
          "base_uri": "https://localhost:8080/",
          "height": 547
        },
        "outputId": "5a0907db-5500-4716-ff4c-39d5a59a30d7"
      },
      "outputs": [
        {
          "output_type": "stream",
          "name": "stdout",
          "text": [
            "Drivers were more likely to accept coupons between 10am and 6pm\n"
          ]
        },
        {
          "output_type": "display_data",
          "data": {
            "text/plain": [
              "<Figure size 500x500 with 1 Axes>"
            ],
            "image/png": "[encoded data removed]"
          },
          "metadata": {}
        }
      ],
      "source": [
        "sns.displot(data, x = 'time', hue='Y', multiple=\"dodge\", legend=False)\n",
        "plt.legend(title='Coupon Accepted',  labels=['Yes', 'No'])\n",
        "plt.title(\"Coupons and Time of Day\")\n",
        "print(\"Drivers were more likely to accept coupons between 10am and 6pm\")"
      ]
    },
    {
      "cell_type": "code",
      "execution_count": null,
      "metadata": {
        "id": "iqLh5STtfQiJ",
        "colab": {
          "base_uri": "https://localhost:8080/",
          "height": 547
        },
        "outputId": "e1b7fdcd-6b30-46f7-df92-f7bb8a13ffdc"
      },
      "outputs": [
        {
          "output_type": "stream",
          "name": "stdout",
          "text": [
            "Drivers were more likely to accept coupons when they had no urgent place to go\n"
          ]
        },
        {
          "output_type": "display_data",
          "data": {
            "text/plain": [
              "<Figure size 500x500 with 1 Axes>"
            ],
            "image/png": "[encoded data removed]"
          },
          "metadata": {}
        }
      ],
      "source": [
        "sns.displot(data, x = 'destination', hue='Y', multiple=\"dodge\", legend=False)\n",
        "plt.legend(title='Coupon Accepted',  labels=['Yes', 'No'])\n",
        "plt.title(\"Coupons and Destinations\")\n",
        "print(\"Drivers were more likely to accept coupons when they had no urgent place to go\")"
      ]
    },
    {
      "cell_type": "code",
      "source": [
        "sns.displot(data, y = 'maritalStatus', hue='Y', multiple=\"dodge\", legend=False)\n",
        "plt.legend(title='Coupon Accepted',  labels=['Yes', 'No'])\n",
        "plt.title(\"Coupons and Marital Status\")\n",
        "print(\"Drivers were more likely to accept coupons when they were single\")"
      ],
      "metadata": {
        "colab": {
          "base_uri": "https://localhost:8080/",
          "height": 547
        },
        "id": "VUgaxAUDnbjC",
        "outputId": "071b3154-50a1-4a8a-d545-817c6aeae951"
      },
      "execution_count": null,
      "outputs": [
        {
          "output_type": "stream",
          "name": "stdout",
          "text": [
            "Drivers were more likely to accept coupons when they were single\n"
          ]
        },
        {
          "output_type": "display_data",
          "data": {
            "text/plain": [
              "<Figure size 500x500 with 1 Axes>"
            ],
            "image/png": "[encoded data removed]"
          },
          "metadata": {}
        }
      ]
    },
    {
      "cell_type": "code",
      "source": [
        "sns.displot(data, x = 'passanger', hue='Y', multiple=\"dodge\", legend=False)\n",
        "plt.legend(title='Coupon Accepted',  labels=['Yes', 'No'])\n",
        "plt.title(\"Coupons and Passengers\")\n",
        "print(\"Drivers were more likely to accept coupons when they were with friends\")"
      ],
      "metadata": {
        "colab": {
          "base_uri": "https://localhost:8080/",
          "height": 547
        },
        "id": "1ipywDVjoOvq",
        "outputId": "dcebf679-6898-4e15-87a3-54546c4f4501"
      },
      "execution_count": null,
      "outputs": [
        {
          "output_type": "stream",
          "name": "stdout",
          "text": [
            "Drivers were more likely to accept coupons when they were with friends\n"
          ]
        },
        {
          "output_type": "display_data",
          "data": {
            "text/plain": [
              "<Figure size 500x500 with 1 Axes>"
            ],
            "image/png": "[encoded data removed]"
          },
          "metadata": {}
        }
      ]
    },
    {
      "cell_type": "code",
      "execution_count": null,
      "metadata": {
        "id": "168yFNE7fQiJ",
        "colab": {
          "base_uri": "https://localhost:8080/",
          "height": 622
        },
        "outputId": "b795ab2d-f9a1-4d83-8549-1d21b29def63"
      },
      "outputs": [
        {
          "output_type": "stream",
          "name": "stdout",
          "text": [
            "No particularly stong correlation between any of the variables\n",
            "Driving opposite direction and distance within 15 or 25 minutes are correlated with acceptance\n"
          ]
        },
        {
          "output_type": "display_data",
          "data": {
            "text/plain": [
              "<Figure size 640x480 with 2 Axes>"
            ],
            "image/png": "[encoded data removed]"
          },
          "metadata": {}
        }
      ],
      "source": [
        "sns.heatmap(accepted_coupon[['temperature', 'age', 'has_children', 'toCoupon_GEQ15min', 'toCoupon_GEQ25min', 'direction_same', 'direction_opp']].corr(), annot=True, cmap=\"coolwarm\")\n",
        "plt.title(\"Correlation Heatmap for Accepted Coupons\")\n",
        "print(\"No particularly stong correlation between any of the variables\")\n",
        "print(\"Driving opposite direction and distance within 15 or 25 minutes are correlated with acceptance\")"
      ]
    },
    {
      "cell_type": "markdown",
      "source": [
        "# **Carryout & Takeaway Coupon Exploration**\n",
        "\n",
        "I investigated the Carryout & Takeaway coupon further to identify key characteristics of customers who accepted these coupons, as well as characteristics of the coupons that were accepted, for example, whether factors like weather, time of day, distance to destination and expiration time impacted acceptance rate.\n",
        "\n",
        "**1. What proportion of Carryout coupons were accepted?**"
      ],
      "metadata": {
        "id": "tgn89zaGaYkP"
      }
    },
    {
      "cell_type": "code",
      "source": [
        "#New dataframe containing only Carryout coupons\n",
        "data_carryout = data[data[\"coupon\"] == \"Carry out & Take away\"]\n",
        "\n",
        "# Calculate proportion of Yes responses for Carryout coupons\n",
        "carryout_accept=data_carryout.query('Y == 1')\n",
        "percent_accept=len(carryout_accept)/len(data_carryout)\n",
        "print(\"Number of  carry out coupons offered to drivers:\", len(data_carryout))\n",
        "print(\"Number of drivers who accepted the carry out coupon:\", len(carryout_accept))\n",
        "print(\"Percentage of drivers who accepted the coupon:\", round(percent_accept*100),\"%)\")"
      ],
      "metadata": {
        "colab": {
          "base_uri": "https://localhost:8080/"
        },
        "id": "fhFpoTKCZ9fR",
        "outputId": "f9d93515-4005-402d-ae4e-e38bd49a279f"
      },
      "execution_count": 31,
      "outputs": [
        {
          "output_type": "stream",
          "name": "stdout",
          "text": [
            "Number of  carry out coupons offered to drivers: 2295\n",
            "Number of drivers who accepted the carry out coupon: 1680\n",
            "Percentage of drivers who accepted the coupon: 73 %)\n"
          ]
        }
      ]
    },
    {
      "cell_type": "code",
      "execution_count": 32,
      "metadata": {
        "id": "FmYKEyZ2fQiJ",
        "colab": {
          "base_uri": "https://localhost:8080/"
        },
        "outputId": "a2f744c8-2923-4660-8f4a-fb0ca8e42013"
      },
      "outputs": [
        {
          "output_type": "stream",
          "name": "stdout",
          "text": [
            "Number of  carry out coupons offered to drivers: 2295\n",
            "Number of drivers who accepted the carry out coupon: 1680\n",
            "Percentage of drivers who accepted the coupon: 73 %)\n"
          ]
        }
      ],
      "source": [
        "# Calculate proportion of Yes responses for Carryout coupons\n",
        "carryout_accept=data_carryout.query('Y == 1')\n",
        "percent_accept=len(carryout_accept)/len(data_carryout)\n",
        "print(\"Number of  carry out coupons offered to drivers:\", len(data_carryout))\n",
        "print(\"Number of drivers who accepted the carry out coupon:\", len(carryout_accept))\n",
        "print(\"Percentage of drivers who accepted the coupon:\", round(percent_accept*100),\"%)\")"
      ]
    },
    {
      "cell_type": "code",
      "source": [
        "data_carryout.describe()"
      ],
      "metadata": {
        "colab": {
          "base_uri": "https://localhost:8080/",
          "height": 300
        },
        "id": "eK_3xTpx7iQ_",
        "outputId": "6217af9e-108c-42a5-da8c-5b267903e946"
      },
      "execution_count": 50,
      "outputs": [
        {
          "output_type": "execute_result",
          "data": {
            "text/plain": [
              "       temperature          age  has_children  toCoupon_GEQ5min  \\\n",
              "count  2295.000000  2295.000000   2295.000000            2295.0   \n",
              "mean     57.581699    32.407407      0.434858               1.0   \n",
              "std      21.511928    10.196929      0.495846               0.0   \n",
              "min      30.000000    20.000000      0.000000               1.0   \n",
              "25%      30.000000    26.000000      0.000000               1.0   \n",
              "50%      55.000000    31.000000      0.000000               1.0   \n",
              "75%      80.000000    41.000000      1.000000               1.0   \n",
              "max      80.000000    50.000000      1.000000               1.0   \n",
              "\n",
              "       toCoupon_GEQ15min  toCoupon_GEQ25min  direction_same  direction_opp  \\\n",
              "count        2295.000000        2295.000000     2295.000000    2295.000000   \n",
              "mean            0.620479           0.077996        0.344662       0.655338   \n",
              "std             0.485373           0.268223        0.475362       0.475362   \n",
              "min             0.000000           0.000000        0.000000       0.000000   \n",
              "25%             0.000000           0.000000        0.000000       0.000000   \n",
              "50%             1.000000           0.000000        0.000000       1.000000   \n",
              "75%             1.000000           0.000000        1.000000       1.000000   \n",
              "max             1.000000           1.000000        1.000000       1.000000   \n",
              "\n",
              "                 Y  \n",
              "count  2295.000000  \n",
              "mean      0.732026  \n",
              "std       0.443000  \n",
              "min       0.000000  \n",
              "25%       0.000000  \n",
              "50%       1.000000  \n",
              "75%       1.000000  \n",
              "max       1.000000  "
            ],
            "text/html": [
              "\n",
              "  <div id=\"df-aa1315db-9bff-4ba7-a559-35eeedbe2099\" class=\"colab-df-container\">\n",
              "    <div>\n",
              "<style scoped>\n",
              "    .dataframe tbody tr th:only-of-type {\n",
              "        vertical-align: middle;\n",
              "    }\n",
              "\n",
              "    .dataframe tbody tr th {\n",
              "        vertical-align: top;\n",
              "    }\n",
              "\n",
              "    .dataframe thead th {\n",
              "        text-align: right;\n",
              "    }\n",
              "</style>\n",
              "<table border=\"1\" class=\"dataframe\">\n",
              "  <thead>\n",
              "    <tr style=\"text-align: right;\">\n",
              "      <th></th>\n",
              "      <th>temperature</th>\n",
              "      <th>age</th>\n",
              "      <th>has_children</th>\n",
              "      <th>toCoupon_GEQ5min</th>\n",
              "      <th>toCoupon_GEQ15min</th>\n",
              "      <th>toCoupon_GEQ25min</th>\n",
              "      <th>direction_same</th>\n",
              "      <th>direction_opp</th>\n",
              "      <th>Y</th>\n",
              "    </tr>\n",
              "  </thead>\n",
              "  <tbody>\n",
              "    <tr>\n",
              "      <th>count</th>\n",
              "      <td>2295.000000</td>\n",
              "      <td>2295.000000</td>\n",
              "      <td>2295.000000</td>\n",
              "      <td>2295.0</td>\n",
              "      <td>2295.000000</td>\n",
              "      <td>2295.000000</td>\n",
              "      <td>2295.000000</td>\n",
              "      <td>2295.000000</td>\n",
              "      <td>2295.000000</td>\n",
              "    </tr>\n",
              "    <tr>\n",
              "      <th>mean</th>\n",
              "      <td>57.581699</td>\n",
              "      <td>32.407407</td>\n",
              "      <td>0.434858</td>\n",
              "      <td>1.0</td>\n",
              "      <td>0.620479</td>\n",
              "      <td>0.077996</td>\n",
              "      <td>0.344662</td>\n",
              "      <td>0.655338</td>\n",
              "      <td>0.732026</td>\n",
              "    </tr>\n",
              "    <tr>\n",
              "      <th>std</th>\n",
              "      <td>21.511928</td>\n",
              "      <td>10.196929</td>\n",
              "      <td>0.495846</td>\n",
              "      <td>0.0</td>\n",
              "      <td>0.485373</td>\n",
              "      <td>0.268223</td>\n",
              "      <td>0.475362</td>\n",
              "      <td>0.475362</td>\n",
              "      <td>0.443000</td>\n",
              "    </tr>\n",
              "    <tr>\n",
              "      <th>min</th>\n",
              "      <td>30.000000</td>\n",
              "      <td>20.000000</td>\n",
              "      <td>0.000000</td>\n",
              "      <td>1.0</td>\n",
              "      <td>0.000000</td>\n",
              "      <td>0.000000</td>\n",
              "      <td>0.000000</td>\n",
              "      <td>0.000000</td>\n",
              "      <td>0.000000</td>\n",
              "    </tr>\n",
              "    <tr>\n",
              "      <th>25%</th>\n",
              "      <td>30.000000</td>\n",
              "      <td>26.000000</td>\n",
              "      <td>0.000000</td>\n",
              "      <td>1.0</td>\n",
              "      <td>0.000000</td>\n",
              "      <td>0.000000</td>\n",
              "      <td>0.000000</td>\n",
              "      <td>0.000000</td>\n",
              "      <td>0.000000</td>\n",
              "    </tr>\n",
              "    <tr>\n",
              "      <th>50%</th>\n",
              "      <td>55.000000</td>\n",
              "      <td>31.000000</td>\n",
              "      <td>0.000000</td>\n",
              "      <td>1.0</td>\n",
              "      <td>1.000000</td>\n",
              "      <td>0.000000</td>\n",
              "      <td>0.000000</td>\n",
              "      <td>1.000000</td>\n",
              "      <td>1.000000</td>\n",
              "    </tr>\n",
              "    <tr>\n",
              "      <th>75%</th>\n",
              "      <td>80.000000</td>\n",
              "      <td>41.000000</td>\n",
              "      <td>1.000000</td>\n",
              "      <td>1.0</td>\n",
              "      <td>1.000000</td>\n",
              "      <td>0.000000</td>\n",
              "      <td>1.000000</td>\n",
              "      <td>1.000000</td>\n",
              "      <td>1.000000</td>\n",
              "    </tr>\n",
              "    <tr>\n",
              "      <th>max</th>\n",
              "      <td>80.000000</td>\n",
              "      <td>50.000000</td>\n",
              "      <td>1.000000</td>\n",
              "      <td>1.0</td>\n",
              "      <td>1.000000</td>\n",
              "      <td>1.000000</td>\n",
              "      <td>1.000000</td>\n",
              "      <td>1.000000</td>\n",
              "      <td>1.000000</td>\n",
              "    </tr>\n",
              "  </tbody>\n",
              "</table>\n",
              "</div>\n",
              "    <div class=\"colab-df-buttons\">\n",
              "\n",
              "  <div class=\"colab-df-container\">\n",
              "    <button class=\"colab-df-convert\" onclick=\"convertToInteractive('df-aa1315db-9bff-4ba7-a559-35eeedbe2099')\"\n",
              "            title=\"Convert this dataframe to an interactive table.\"\n",
              "            style=\"display:none;\">\n",
              "\n",
              "  <svg xmlns=\"http://www.w3.org/2000/svg\" height=\"24px\" viewBox=\"0 -960 960 960\">\n",
              "    <path d=\"M120-120v-720h720v720H120Zm60-500h600v-160H180v160Zm220 220h160v-160H400v160Zm0 220h160v-160H400v160ZM180-400h160v-160H180v160Zm440 0h160v-160H620v160ZM180-180h160v-160H180v160Zm440 0h160v-160H620v160Z\"/>\n",
              "  </svg>\n",
              "    </button>\n",
              "\n",
              "  <style>\n",
              "    .colab-df-container {\n",
              "      display:flex;\n",
              "      gap: 12px;\n",
              "    }\n",
              "\n",
              "    .colab-df-convert {\n",
              "      background-color: #E8F0FE;\n",
              "      border: none;\n",
              "      border-radius: 50%;\n",
              "      cursor: pointer;\n",
              "      display: none;\n",
              "      fill: #1967D2;\n",
              "      height: 32px;\n",
              "      padding: 0 0 0 0;\n",
              "      width: 32px;\n",
              "    }\n",
              "\n",
              "    .colab-df-convert:hover {\n",
              "      background-color: #E2EBFA;\n",
              "      box-shadow: 0px 1px 2px rgba(60, 64, 67, 0.3), 0px 1px 3px 1px rgba(60, 64, 67, 0.15);\n",
              "      fill: #174EA6;\n",
              "    }\n",
              "\n",
              "    .colab-df-buttons div {\n",
              "      margin-bottom: 4px;\n",
              "    }\n",
              "\n",
              "    [theme=dark] .colab-df-convert {\n",
              "      background-color: #3B4455;\n",
              "      fill: #D2E3FC;\n",
              "    }\n",
              "\n",
              "    [theme=dark] .colab-df-convert:hover {\n",
              "      background-color: #434B5C;\n",
              "      box-shadow: 0px 1px 3px 1px rgba(0, 0, 0, 0.15);\n",
              "      filter: drop-shadow(0px 1px 2px rgba(0, 0, 0, 0.3));\n",
              "      fill: #FFFFFF;\n",
              "    }\n",
              "  </style>\n",
              "\n",
              "    <script>\n",
              "      const buttonEl =\n",
              "        document.querySelector('#df-aa1315db-9bff-4ba7-a559-35eeedbe2099 button.colab-df-convert');\n",
              "      buttonEl.style.display =\n",
              "        google.colab.kernel.accessAllowed ? 'block' : 'none';\n",
              "\n",
              "      async function convertToInteractive(key) {\n",
              "        const element = document.querySelector('#df-aa1315db-9bff-4ba7-a559-35eeedbe2099');\n",
              "        const dataTable =\n",
              "          await google.colab.kernel.invokeFunction('convertToInteractive',\n",
              "                                                    [key], {});\n",
              "        if (!dataTable) return;\n",
              "\n",
              "        const docLinkHtml = 'Like what you see? Visit the ' +\n",
              "          '<a target=\"_blank\" href=https://colab.research.google.com/notebooks/data_table.ipynb>data table notebook</a>'\n",
              "          + ' to learn more about interactive tables.';\n",
              "        element.innerHTML = '';\n",
              "        dataTable['output_type'] = 'display_data';\n",
              "        await google.colab.output.renderOutput(dataTable, element);\n",
              "        const docLink = document.createElement('div');\n",
              "        docLink.innerHTML = docLinkHtml;\n",
              "        element.appendChild(docLink);\n",
              "      }\n",
              "    </script>\n",
              "  </div>\n",
              "\n",
              "\n",
              "<div id=\"df-eea412bc-8c19-40db-99bc-992ac2c083a2\">\n",
              "  <button class=\"colab-df-quickchart\" onclick=\"quickchart('df-eea412bc-8c19-40db-99bc-992ac2c083a2')\"\n",
              "            title=\"Suggest charts\"\n",
              "            style=\"display:none;\">\n",
              "\n",
              "<svg xmlns=\"http://www.w3.org/2000/svg\" height=\"24px\"viewBox=\"0 0 24 24\"\n",
              "     width=\"24px\">\n",
              "    <g>\n",
              "        <path d=\"M19 3H5c-1.1 0-2 .9-2 2v14c0 1.1.9 2 2 2h14c1.1 0 2-.9 2-2V5c0-1.1-.9-2-2-2zM9 17H7v-7h2v7zm4 0h-2V7h2v10zm4 0h-2v-4h2v4z\"/>\n",
              "    </g>\n",
              "</svg>\n",
              "  </button>\n",
              "\n",
              "<style>\n",
              "  .colab-df-quickchart {\n",
              "      --bg-color: #E8F0FE;\n",
              "      --fill-color: #1967D2;\n",
              "      --hover-bg-color: #E2EBFA;\n",
              "      --hover-fill-color: #174EA6;\n",
              "      --disabled-fill-color: #AAA;\n",
              "      --disabled-bg-color: #DDD;\n",
              "  }\n",
              "\n",
              "  [theme=dark] .colab-df-quickchart {\n",
              "      --bg-color: #3B4455;\n",
              "      --fill-color: #D2E3FC;\n",
              "      --hover-bg-color: #434B5C;\n",
              "      --hover-fill-color: #FFFFFF;\n",
              "      --disabled-bg-color: #3B4455;\n",
              "      --disabled-fill-color: #666;\n",
              "  }\n",
              "\n",
              "  .colab-df-quickchart {\n",
              "    background-color: var(--bg-color);\n",
              "    border: none;\n",
              "    border-radius: 50%;\n",
              "    cursor: pointer;\n",
              "    display: none;\n",
              "    fill: var(--fill-color);\n",
              "    height: 32px;\n",
              "    padding: 0;\n",
              "    width: 32px;\n",
              "  }\n",
              "\n",
              "  .colab-df-quickchart:hover {\n",
              "    background-color: var(--hover-bg-color);\n",
              "    box-shadow: 0 1px 2px rgba(60, 64, 67, 0.3), 0 1px 3px 1px rgba(60, 64, 67, 0.15);\n",
              "    fill: var(--button-hover-fill-color);\n",
              "  }\n",
              "\n",
              "  .colab-df-quickchart-complete:disabled,\n",
              "  .colab-df-quickchart-complete:disabled:hover {\n",
              "    background-color: var(--disabled-bg-color);\n",
              "    fill: var(--disabled-fill-color);\n",
              "    box-shadow: none;\n",
              "  }\n",
              "\n",
              "  .colab-df-spinner {\n",
              "    border: 2px solid var(--fill-color);\n",
              "    border-color: transparent;\n",
              "    border-bottom-color: var(--fill-color);\n",
              "    animation:\n",
              "      spin 1s steps(1) infinite;\n",
              "  }\n",
              "\n",
              "  @keyframes spin {\n",
              "    0% {\n",
              "      border-color: transparent;\n",
              "      border-bottom-color: var(--fill-color);\n",
              "      border-left-color: var(--fill-color);\n",
              "    }\n",
              "    20% {\n",
              "      border-color: transparent;\n",
              "      border-left-color: var(--fill-color);\n",
              "      border-top-color: var(--fill-color);\n",
              "    }\n",
              "    30% {\n",
              "      border-color: transparent;\n",
              "      border-left-color: var(--fill-color);\n",
              "      border-top-color: var(--fill-color);\n",
              "      border-right-color: var(--fill-color);\n",
              "    }\n",
              "    40% {\n",
              "      border-color: transparent;\n",
              "      border-right-color: var(--fill-color);\n",
              "      border-top-color: var(--fill-color);\n",
              "    }\n",
              "    60% {\n",
              "      border-color: transparent;\n",
              "      border-right-color: var(--fill-color);\n",
              "    }\n",
              "    80% {\n",
              "      border-color: transparent;\n",
              "      border-right-color: var(--fill-color);\n",
              "      border-bottom-color: var(--fill-color);\n",
              "    }\n",
              "    90% {\n",
              "      border-color: transparent;\n",
              "      border-bottom-color: var(--fill-color);\n",
              "    }\n",
              "  }\n",
              "</style>\n",
              "\n",
              "  <script>\n",
              "    async function quickchart(key) {\n",
              "      const quickchartButtonEl =\n",
              "        document.querySelector('#' + key + ' button');\n",
              "      quickchartButtonEl.disabled = true;  // To prevent multiple clicks.\n",
              "      quickchartButtonEl.classList.add('colab-df-spinner');\n",
              "      try {\n",
              "        const charts = await google.colab.kernel.invokeFunction(\n",
              "            'suggestCharts', [key], {});\n",
              "      } catch (error) {\n",
              "        console.error('Error during call to suggestCharts:', error);\n",
              "      }\n",
              "      quickchartButtonEl.classList.remove('colab-df-spinner');\n",
              "      quickchartButtonEl.classList.add('colab-df-quickchart-complete');\n",
              "    }\n",
              "    (() => {\n",
              "      let quickchartButtonEl =\n",
              "        document.querySelector('#df-eea412bc-8c19-40db-99bc-992ac2c083a2 button');\n",
              "      quickchartButtonEl.style.display =\n",
              "        google.colab.kernel.accessAllowed ? 'block' : 'none';\n",
              "    })();\n",
              "  </script>\n",
              "</div>\n",
              "\n",
              "    </div>\n",
              "  </div>\n"
            ],
            "application/vnd.google.colaboratory.intrinsic+json": {
              "type": "dataframe",
              "summary": "{\n  \"name\": \"data_carryout\",\n  \"rows\": 8,\n  \"fields\": [\n    {\n      \"column\": \"temperature\",\n      \"properties\": {\n        \"dtype\": \"number\",\n        \"std\": 793.834841073905,\n        \"min\": 21.51192803255112,\n        \"max\": 2295.0,\n        \"num_unique_values\": 6,\n        \"samples\": [\n          2295.0,\n          57.58169934640523,\n          80.0\n        ],\n        \"semantic_type\": \"\",\n        \"description\": \"\"\n      }\n    },\n    {\n      \"column\": \"age\",\n      \"properties\": {\n        \"dtype\": \"number\",\n        \"std\": 800.8603035830567,\n        \"min\": 10.196929168197425,\n        \"max\": 2295.0,\n        \"num_unique_values\": 8,\n        \"samples\": [\n          32.407407407407405,\n          31.0,\n          2295.0\n        ],\n        \"semantic_type\": \"\",\n        \"description\": \"\"\n      }\n    },\n    {\n      \"column\": \"has_children\",\n      \"properties\": {\n        \"dtype\": \"number\",\n        \"std\": 811.2571148212616,\n        \"min\": 0.0,\n        \"max\": 2295.0,\n        \"num_unique_values\": 5,\n        \"samples\": [\n          0.43485838779956426,\n          1.0,\n          0.495846448522783\n        ],\n        \"semantic_type\": \"\",\n        \"description\": \"\"\n      }\n    },\n    {\n      \"column\": \"toCoupon_GEQ5min\",\n      \"properties\": {\n        \"dtype\": \"number\",\n        \"std\": 811.102061131291,\n        \"min\": 0.0,\n        \"max\": 2295.0,\n        \"num_unique_values\": 3,\n        \"samples\": [\n          2295.0,\n          1.0,\n          0.0\n        ],\n        \"semantic_type\": \"\",\n        \"description\": \"\"\n      }\n    },\n    {\n      \"column\": \"toCoupon_GEQ15min\",\n      \"properties\": {\n        \"dtype\": \"number\",\n        \"std\": 811.1977612773109,\n        \"min\": 0.0,\n        \"max\": 2295.0,\n        \"num_unique_values\": 5,\n        \"samples\": [\n          0.6204793028322441,\n          1.0,\n          0.48537345420469086\n        ],\n        \"semantic_type\": \"\",\n        \"description\": \"\"\n      }\n    },\n    {\n      \"column\": \"toCoupon_GEQ25min\",\n      \"properties\": {\n        \"dtype\": \"number\",\n        \"std\": 811.33710920778,\n        \"min\": 0.0,\n        \"max\": 2295.0,\n        \"num_unique_values\": 5,\n        \"samples\": [\n          0.07799564270152505,\n          1.0,\n          0.2682231727976609\n        ],\n        \"semantic_type\": \"\",\n        \"description\": \"\"\n      }\n    },\n    {\n      \"column\": \"direction_same\",\n      \"properties\": {\n        \"dtype\": \"number\",\n        \"std\": 811.262705114548,\n        \"min\": 0.0,\n        \"max\": 2295.0,\n        \"num_unique_values\": 5,\n        \"samples\": [\n          0.3446623093681917,\n          1.0,\n          0.4753616130487547\n        ],\n        \"semantic_type\": \"\",\n        \"description\": \"\"\n      }\n    },\n    {\n      \"column\": \"direction_opp\",\n      \"properties\": {\n        \"dtype\": \"number\",\n        \"std\": 811.196506832088,\n        \"min\": 0.0,\n        \"max\": 2295.0,\n        \"num_unique_values\": 5,\n        \"samples\": [\n          0.6553376906318082,\n          1.0,\n          0.4753616130487547\n        ],\n        \"semantic_type\": \"\",\n        \"description\": \"\"\n      }\n    },\n    {\n      \"column\": \"Y\",\n      \"properties\": {\n        \"dtype\": \"number\",\n        \"std\": 811.1942700874978,\n        \"min\": 0.0,\n        \"max\": 2295.0,\n        \"num_unique_values\": 5,\n        \"samples\": [\n          0.7320261437908496,\n          1.0,\n          0.44300042924369876\n        ],\n        \"semantic_type\": \"\",\n        \"description\": \"\"\n      }\n    }\n  ]\n}"
            }
          },
          "metadata": {},
          "execution_count": 50
        }
      ]
    },
    {
      "cell_type": "markdown",
      "source": [
        "We observe the average age of drivers who accepted a Carryout coupon was 32. About 43% of them had children. The acceptance rate when the coupon destination was within 15 minutes was 62%, compared to 8% when it was 25 minutes away. The acceptance rate was 24% when the coupon destination was in the same direction, but 66% when in the opposite direction."
      ],
      "metadata": {
        "id": "lNFrpRLT9Xg9"
      }
    },
    {
      "cell_type": "code",
      "source": [
        "# Printing number of count of each unique value in each column prior to further analysis and plotting\n",
        "cat_col = list(data_carryout.select_dtypes(\"object\").columns)\n",
        "for column in cat_col:\n",
        "    print(data_carryout[column].value_counts().reset_index())\n",
        "    print(\"-\" * 50)"
      ],
      "metadata": {
        "colab": {
          "base_uri": "https://localhost:8080/"
        },
        "id": "mJMvcHsw6ybl",
        "outputId": "a6091512-b403-4408-81e0-ca09bf8fbf9a"
      },
      "execution_count": 47,
      "outputs": [
        {
          "output_type": "stream",
          "name": "stdout",
          "text": [
            "       destination  count\n",
            "0  No Urgent Place    970\n",
            "1             Work    676\n",
            "2             Home    649\n",
            "--------------------------------------------------\n",
            "   passenger  count\n",
            "0      Alone   1317\n",
            "1  Friend(s)    735\n",
            "2     Kid(s)    150\n",
            "3    Partner     93\n",
            "--------------------------------------------------\n",
            "  weather  count\n",
            "0   Sunny   1677\n",
            "1   Rainy    315\n",
            "2   Snowy    303\n",
            "--------------------------------------------------\n",
            "   time  count\n",
            "0   7AM    676\n",
            "1  10AM    513\n",
            "2  10PM    457\n",
            "3   6PM    431\n",
            "4   2PM    218\n",
            "--------------------------------------------------\n",
            "                  coupon  count\n",
            "0  Carry out & Take away   2295\n",
            "--------------------------------------------------\n",
            "  expiration  count\n",
            "0         1d   1366\n",
            "1         2h    929\n",
            "--------------------------------------------------\n",
            "   gender  count\n",
            "0  Female   1182\n",
            "1    Male   1113\n",
            "--------------------------------------------------\n",
            "       maritalStatus  count\n",
            "0    Married partner    929\n",
            "1             Single    856\n",
            "2  Unmarried partner    386\n",
            "3           Divorced     98\n",
            "4            Widowed     26\n",
            "--------------------------------------------------\n",
            "                                education  count\n",
            "0                        Bachelors degree    788\n",
            "1                Some college - no degree    781\n",
            "2  Graduate degree (Masters or Doctorate)    332\n",
            "3                       Associates degree    209\n",
            "4                    High School Graduate    169\n",
            "5                        Some High School     16\n",
            "--------------------------------------------------\n",
            "                                   occupation  count\n",
            "0                                  Unemployed    337\n",
            "1                                     Student    295\n",
            "2                     Computer & Mathematical    248\n",
            "3                             Sales & Related    192\n",
            "4                  Education&Training&Library    172\n",
            "5                                  Management    136\n",
            "6             Office & Administrative Support    121\n",
            "7    Arts Design Entertainment Sports & Media    111\n",
            "8                        Business & Financial    102\n",
            "9                                     Retired     86\n",
            "10         Food Preparation & Serving Related     63\n",
            "11                         Healthcare Support     48\n",
            "12       Healthcare Practitioners & Technical     45\n",
            "13                Community & Social Services     43\n",
            "14                                      Legal     41\n",
            "15           Transportation & Material Moving     38\n",
            "16                    Personal Care & Service     37\n",
            "17                 Architecture & Engineering     30\n",
            "18                         Protective Service     29\n",
            "19                  Construction & Extraction     28\n",
            "20               Life Physical Social Science     28\n",
            "21          Installation Maintenance & Repair     24\n",
            "22                     Production Occupations     22\n",
            "23                 Farming Fishing & Forestry     10\n",
            "24  Building & Grounds Cleaning & Maintenance      9\n",
            "--------------------------------------------------\n",
            "             income  count\n",
            "0   $25000 - $37499    368\n",
            "1   $12500 - $24999    332\n",
            "2   $37500 - $49999    321\n",
            "3   $100000 or More    311\n",
            "4   $50000 - $62499    286\n",
            "5  Less than $12500    196\n",
            "6   $75000 - $87499    167\n",
            "7   $87500 - $99999    163\n",
            "8   $62500 - $74999    151\n",
            "--------------------------------------------------\n",
            "     Bar  count\n",
            "0  never    962\n",
            "1  less1    624\n",
            "2    1~3    461\n",
            "3    4~8    184\n",
            "4    gt8     64\n",
            "--------------------------------------------------\n",
            "  CoffeeHouse  count\n",
            "0       less1    606\n",
            "1       never    571\n",
            "2         1~3    570\n",
            "3         4~8    337\n",
            "4         gt8    211\n",
            "--------------------------------------------------\n",
            "  CarryAway  count\n",
            "0       1~3    834\n",
            "1       4~8    788\n",
            "2     less1    339\n",
            "3       gt8    284\n",
            "4     never     50\n",
            "--------------------------------------------------\n",
            "  RestaurantLessThan20  count\n",
            "0                  1~3    979\n",
            "1                  4~8    648\n",
            "2                less1    380\n",
            "3                  gt8    227\n",
            "4                never     61\n",
            "--------------------------------------------------\n",
            "  Restaurant20To50  count\n",
            "0            less1   1112\n",
            "1              1~3    581\n",
            "2            never    405\n",
            "3              4~8    150\n",
            "4              gt8     47\n",
            "--------------------------------------------------\n"
          ]
        }
      ]
    },
    {
      "cell_type": "markdown",
      "source": [
        "**2. What were the demographic characteristics of drivers who accepted the Carryout coupon?**"
      ],
      "metadata": {
        "id": "QYkxVEjbbzS6"
      }
    },
    {
      "cell_type": "code",
      "execution_count": 33,
      "metadata": {
        "id": "LR-nXKIhfQiJ",
        "colab": {
          "base_uri": "https://localhost:8080/",
          "height": 528
        },
        "outputId": "93c45641-d19b-4e68-94be-b2d186426223"
      },
      "outputs": [
        {
          "output_type": "stream",
          "name": "stdout",
          "text": [
            "Drivers under 30 and over 45, and male, were more likely to accept coupons\n"
          ]
        },
        {
          "output_type": "display_data",
          "data": {
            "text/plain": [
              "<Figure size 1000x500 with 2 Axes>"
            ],
            "image/png": "[encoded data removed]"
          },
          "metadata": {}
        }
      ],
      "source": [
        "g=sns.displot(data_carryout, x = 'age', hue='Y', col='gender', multiple=\"dodge\", legend=False)\n",
        "plt.legend(title='Carryout Coupon Accepted',  labels=['Yes', 'No'])\n",
        "plt.title(\"Driver Age and Gender\")\n",
        "print(\"Drivers under 30 and over 45, and male, were more likely to accept coupons\")"
      ]
    },
    {
      "cell_type": "code",
      "source": [
        "sns.displot(data_carryout, y = 'maritalStatus', hue='Y', multiple=\"dodge\", legend=False)\n",
        "plt.legend(title='Coupon Accepted',  labels=['Yes', 'No'])\n",
        "plt.title(\"Carryout Coupons and Marital Status\")\n",
        "print(\"Single and married drivers were equally likely to accept the coupon\")"
      ],
      "metadata": {
        "colab": {
          "base_uri": "https://localhost:8080/",
          "height": 547
        },
        "id": "RJjvSLBncymH",
        "outputId": "6704cb81-30d7-4283-c7e9-3741c0794bd4"
      },
      "execution_count": 34,
      "outputs": [
        {
          "output_type": "stream",
          "name": "stdout",
          "text": [
            "Single and married drivers were equally likely to accept the coupon\n"
          ]
        },
        {
          "output_type": "display_data",
          "data": {
            "text/plain": [
              "<Figure size 500x500 with 1 Axes>"
            ],
            "image/png": "[encoded data removed]"
          },
          "metadata": {}
        }
      ]
    },
    {
      "cell_type": "code",
      "source": [
        "sns.displot(data_carryout, y = 'income', hue='Y', multiple=\"dodge\", legend=False)\n",
        "plt.legend(title='Coupon Accepted',  labels=['Yes', 'No'])\n",
        "plt.title(\"Carryout Coupons and Income\")\n",
        "print(\"Lower income drivers were more likely to accept the coupon\")"
      ],
      "metadata": {
        "colab": {
          "base_uri": "https://localhost:8080/",
          "height": 547
        },
        "id": "gKNWrZD5sRoa",
        "outputId": "2d92d7bb-a11a-49d7-d9ed-b9d2f7b3fd89"
      },
      "execution_count": 35,
      "outputs": [
        {
          "output_type": "stream",
          "name": "stdout",
          "text": [
            "Lower income drivers were more likely to accept the coupon\n"
          ]
        },
        {
          "output_type": "display_data",
          "data": {
            "text/plain": [
              "<Figure size 500x500 with 1 Axes>"
            ],
            "image/png": "[encoded data removed]"
          },
          "metadata": {}
        }
      ]
    },
    {
      "cell_type": "code",
      "source": [
        "sns.displot(data_carryout, y = 'CarryAway', hue='Y', multiple=\"dodge\", legend=False)\n",
        "plt.legend(title='Coupon Accepted',  labels=['Yes', 'No'])\n",
        "plt.title(\"Frequency of Eating Carry Out per Month\")\n",
        "print(\"Coupon had broad appeal among drivers, ranging from never eat carryout to more than 8 times per month\")"
      ],
      "metadata": {
        "colab": {
          "base_uri": "https://localhost:8080/",
          "height": 547
        },
        "id": "jKMFFwqa10Yc",
        "outputId": "d5b2720f-e607-48aa-cab6-da1b9454abe1"
      },
      "execution_count": 39,
      "outputs": [
        {
          "output_type": "stream",
          "name": "stdout",
          "text": [
            "Coupon had broad appeal among drivers, ranging from never eat carryout to more than 8 times per month\n"
          ]
        },
        {
          "output_type": "display_data",
          "data": {
            "text/plain": [
              "<Figure size 500x500 with 1 Axes>"
            ],
            "image/png": "[encoded data removed]"
          },
          "metadata": {}
        }
      ]
    },
    {
      "cell_type": "markdown",
      "source": [
        "From the Carryout coupon exploration, we can conclude that drivers interested in carry out food were generally lower income, under 30 or over 50, and equally likely to be married or single. The coupon had a broad appeal among drivers and was accepted at similar rates by those who never eat carryout to those eating carryout more than 8 times per month.\n"
      ],
      "metadata": {
        "id": "kz0vrazWs8TU"
      }
    },
    {
      "cell_type": "markdown",
      "source": [
        "**3. Which coupon features were more likely to be accepted?**"
      ],
      "metadata": {
        "id": "BP3-mZvU0LcO"
      }
    },
    {
      "cell_type": "code",
      "source": [
        "sns.displot(data_carryout, x = 'expiration', hue='Y', multiple=\"dodge\", legend=False)\n",
        "plt.legend(title='Coupon Accepted',  labels=['Yes', 'No'])\n",
        "plt.title(\"Carryout Coupons Expiration Time\")\n",
        "print(\"Coupons valid for one day were more likely to be accepted than those valid for only 2 hours\")"
      ],
      "metadata": {
        "colab": {
          "base_uri": "https://localhost:8080/",
          "height": 547
        },
        "id": "-H7wdt3c1kNF",
        "outputId": "49753df6-1f72-4cd8-dc52-1395843a02ee"
      },
      "execution_count": 41,
      "outputs": [
        {
          "output_type": "stream",
          "name": "stdout",
          "text": [
            "Coupons valid for one day were more likely to be accepted than those valid for only 2 hours\n"
          ]
        },
        {
          "output_type": "display_data",
          "data": {
            "text/plain": [
              "<Figure size 500x500 with 1 Axes>"
            ],
            "image/png": "[encoded data removed]"
          },
          "metadata": {}
        }
      ]
    },
    {
      "cell_type": "markdown",
      "source": [
        "**4. Which environmental factors were more likely when coupons were accepted?**"
      ],
      "metadata": {
        "id": "gmBL6sOe1JpT"
      }
    },
    {
      "cell_type": "code",
      "source": [
        "sns.displot(data_carryout, x='time', hue='Y', col='weather', multiple=\"dodge\", legend=False)\n",
        "plt.legend(title='Coupon Accepted', labels=['Yes', 'No'])\n",
        "print(\"Drivers were more likely to accept coupons on sunny days and rainy or snowy nights\")"
      ],
      "metadata": {
        "colab": {
          "base_uri": "https://localhost:8080/",
          "height": 525
        },
        "id": "-tsgz4S32zLU",
        "outputId": "e3c0de98-ba01-43e2-9b6a-b6b0f1ebcc49"
      },
      "execution_count": 63,
      "outputs": [
        {
          "output_type": "stream",
          "name": "stdout",
          "text": [
            "Drivers were more likely to accept coupons on sunny days and rainy or snowy nights\n"
          ]
        },
        {
          "output_type": "display_data",
          "data": {
            "text/plain": [
              "<Figure size 1500x500 with 3 Axes>"
            ],
            "image/png": "[encoded data removed]"
          },
          "metadata": {}
        }
      ]
    },
    {
      "cell_type": "markdown",
      "source": [
        "**Next Steps and Recommendations**\n",
        "\n",
        "This dataset contains a lot of data in string format, so a next step would be to convert these to numeric format for easier analysis. I only did a correlation heatmap for the overall dataset, but further analysis of correlations for each type of coupon could differentiate customer preferences.\n",
        "\n",
        "In terms of analysis, clustering would be a good technique for customer segmentation, to quickly gain a clearer idea of customers attracted to each coupon and inform targeting future offers to them.\n"
      ],
      "metadata": {
        "id": "SFVFtNtYtuUh"
      }
    },
    {
      "cell_type": "code",
      "source": [],
      "metadata": {
        "id": "SWns0b4XiF2_"
      },
      "execution_count": null,
      "outputs": []
    }
  ],
  "metadata": {
    "kernelspec": {
      "display_name": "Python 3",
      "language": "python",
      "name": "python3"
    },
    "language_info": {
      "codemirror_mode": {
        "name": "ipython",
        "version": 3
      },
      "file_extension": ".py",
      "mimetype": "text/x-python",
      "name": "python",
      "nbconvert_exporter": "python",
      "pygments_lexer": "ipython3",
      "version": "3.8.8"
    },
    "colab": {
      "provenance": []
    }
  },
  "nbformat": 4,
  "nbformat_minor": 0
}